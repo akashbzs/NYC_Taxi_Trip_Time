{
  "cells": [
    {
      "cell_type": "markdown",
      "metadata": {
        "id": "tOGC-qoyhJeX"
      },
      "source": [
        "# <b><u> Project Title : Taxi trip time Prediction : Predicting total ride duration of taxi trips in New York City</u></b>"
      ]
    },
    {
      "cell_type": "markdown",
      "metadata": {
        "id": "Y06xIdG26kRF"
      },
      "source": [
        "## <b> Problem Description </b>\n",
        "\n",
        "### Your task is to build a model that predicts the total ride duration of taxi trips in New York City. Your primary dataset is one released by the NYC Taxi and Limousine Commission, which includes pickup time, geo-coordinates, number of passengers, and several other variables."
      ]
    },
    {
      "cell_type": "markdown",
      "metadata": {
        "id": "WWeU1f9bwqQq"
      },
      "source": [
        "## <b> Data Description </b>\n",
        "\n",
        "### The dataset is based on the 2016 NYC Yellow Cab trip record data made available in Big Query on Google Cloud Platform. The data was originally published by the NYC Taxi and Limousine Commission (TLC). The data was sampled and cleaned for the purposes of this project. Based on individual trip attributes, you should predict the duration of each trip in the test set.\n",
        "\n",
        "### <b>NYC Taxi Data.csv</b> - the training set (contains 1458644 trip records)\n",
        "\n",
        "\n",
        "### Data fields\n",
        "* #### id - a unique identifier for each trip\n",
        "* #### vendor_id - a code indicating the provider associated with the trip record\n",
        "* #### pickup_datetime - date and time when the meter was engaged\n",
        "* #### dropoff_datetime - date and time when the meter was disengaged\n",
        "* #### passenger_count - the number of passengers in the vehicle (driver entered value)\n",
        "* #### pickup_longitude - the longitude where the meter was engaged\n",
        "* #### pickup_latitude - the latitude where the meter was engaged\n",
        "* #### dropoff_longitude - the longitude where the meter was disengaged\n",
        "* #### dropoff_latitude - the latitude where the meter was disengaged\n",
        "* #### store_and_fwd_flag - This flag indicates whether the trip record was held in vehicle memory before sending to the vendor because the vehicle did not have a connection to the server - Y=store and forward; N=not a store and forward trip\n",
        "* #### trip_duration - duration of the trip in seconds"
      ]
    },
    {
      "cell_type": "code",
      "execution_count": null,
      "metadata": {
        "colab": {
          "base_uri": "https://localhost:8080/"
        },
        "id": "dByMsuzT8Tnw",
        "outputId": "6b5d1aad-9a90-4410-fc69-20c42ff9ca37"
      },
      "outputs": [
        {
          "name": "stdout",
          "output_type": "stream",
          "text": [
            "Looking in indexes: https://pypi.org/simple, https://us-python.pkg.dev/colab-wheels/public/simple/\n",
            "Collecting haversine\n",
            "  Downloading haversine-2.6.0-py2.py3-none-any.whl (6.8 kB)\n",
            "Installing collected packages: haversine\n",
            "Successfully installed haversine-2.6.0\n"
          ]
        }
      ],
      "source": [
        "#import required packages and libraries\n",
        "!pip install haversine\n",
        "import pandas as pd\n",
        "import numpy as np\n",
        "import matplotlib.pyplot as plt\n",
        "import seaborn as sns\n",
        "import plotly.graph_objects as go\n",
        "import plotly.express as px\n",
        "%matplotlib inline\n",
        "import warnings\n",
        "warnings.filterwarnings('ignore')\n",
        "from sklearn.ensemble import RandomForestRegressor\n",
        "from xgboost import XGBRegressor\n",
        "from sklearn import metrics\n",
        "from haversine import haversine\n",
        "import statsmodels.api as sm\n",
        "from sklearn.model_selection import train_test_split, GridSearchCV\n",
        "from sklearn.metrics import mean_absolute_error"
      ]
    },
    {
      "cell_type": "code",
      "execution_count": null,
      "metadata": {
        "id": "GWDffL66OTyt"
      },
      "outputs": [],
      "source": [
        "#set style for graph\n",
        "sns.set_style(style='darkgrid')\n",
        "\n",
        "# Setting fontsizes,fontweight,label weight for labels,titles.\n",
        "plt.rcParams[\"font.weight\"] = \"bold\"\n",
        "plt.rcParams[\"axes.labelweight\"] = \"bold\"\n",
        "plt.rcParams[\"axes.titlesize\"] = 25\n",
        "plt.rcParams[\"axes.titleweight\"] = 'bold'\n",
        "plt.rcParams['xtick.labelsize']=15\n",
        "plt.rcParams['ytick.labelsize']=15\n",
        "plt.rcParams[\"axes.labelsize\"] = 20\n",
        "plt.rcParams[\"legend.fontsize\"] = 15\n",
        "plt.rcParams[\"legend.title_fontsize\"] = 15"
      ]
    },
    {
      "cell_type": "markdown",
      "metadata": {
        "id": "YUEYIoOUOdQz"
      },
      "source": [
        "## **Data Preparation**"
      ]
    },
    {
      "cell_type": "markdown",
      "metadata": {
        "id": "FEjwdduPOyzF"
      },
      "source": [
        "### **Mounting Drive**"
      ]
    },
    {
      "cell_type": "code",
      "execution_count": null,
      "metadata": {
        "id": "7OOsKgG4OtuF"
      },
      "outputs": [],
      "source": [
        "from pydrive.auth import GoogleAuth\n",
        "from pydrive.drive import GoogleDrive\n",
        "from google.colab import auth\n",
        "from oauth2client.client import GoogleCredentials\n",
        "auth.authenticate_user()\n",
        "gauth = GoogleAuth()\n",
        "gauth.credentials = GoogleCredentials.get_application_default()\n",
        "drive = GoogleDrive(gauth)\n",
        "link='https://drive.google.com/file/d/1ndBO1KKbCgiW4XkBdlX5V1dTqswUQtcj/view?usp=sharing'\n",
        "\n",
        " \n",
        "# to get the id part of the file\n",
        "id = link.split(\"/\")[-2]\n",
        " \n",
        "downloaded = drive.CreateFile({'id':id})\n",
        "downloaded.GetContentFile('NYC Taxi Data.csv') \n",
        " \n",
        "df = pd.read_csv('NYC Taxi Data.csv')"
      ]
    },
    {
      "cell_type": "markdown",
      "metadata": {
        "id": "3Pnn4BxTTKuQ"
      },
      "source": [
        "### **Data Inspection**"
      ]
    },
    {
      "cell_type": "code",
      "execution_count": null,
      "metadata": {
        "colab": {
          "base_uri": "https://localhost:8080/",
          "height": 337
        },
        "id": "KAOv1LhjSSrh",
        "outputId": "a4d318c3-920f-4870-b2cf-21d208ebaba4"
      },
      "outputs": [
        {
          "data": {
            "text/html": [
              "\n",
              "  <div id=\"df-be501b35-fffb-4583-8419-f3b01316ea16\">\n",
              "    <div class=\"colab-df-container\">\n",
              "      <div>\n",
              "<style scoped>\n",
              "    .dataframe tbody tr th:only-of-type {\n",
              "        vertical-align: middle;\n",
              "    }\n",
              "\n",
              "    .dataframe tbody tr th {\n",
              "        vertical-align: top;\n",
              "    }\n",
              "\n",
              "    .dataframe thead th {\n",
              "        text-align: right;\n",
              "    }\n",
              "</style>\n",
              "<table border=\"1\" class=\"dataframe\">\n",
              "  <thead>\n",
              "    <tr style=\"text-align: right;\">\n",
              "      <th></th>\n",
              "      <th>id</th>\n",
              "      <th>vendor_id</th>\n",
              "      <th>pickup_datetime</th>\n",
              "      <th>dropoff_datetime</th>\n",
              "      <th>passenger_count</th>\n",
              "      <th>pickup_longitude</th>\n",
              "      <th>pickup_latitude</th>\n",
              "      <th>dropoff_longitude</th>\n",
              "      <th>dropoff_latitude</th>\n",
              "      <th>store_and_fwd_flag</th>\n",
              "      <th>trip_duration</th>\n",
              "    </tr>\n",
              "  </thead>\n",
              "  <tbody>\n",
              "    <tr>\n",
              "      <th>0</th>\n",
              "      <td>id2875421</td>\n",
              "      <td>2</td>\n",
              "      <td>2016-03-14 17:24:55</td>\n",
              "      <td>2016-03-14 17:32:30</td>\n",
              "      <td>1</td>\n",
              "      <td>-73.982155</td>\n",
              "      <td>40.767937</td>\n",
              "      <td>-73.964630</td>\n",
              "      <td>40.765602</td>\n",
              "      <td>N</td>\n",
              "      <td>455</td>\n",
              "    </tr>\n",
              "    <tr>\n",
              "      <th>1</th>\n",
              "      <td>id2377394</td>\n",
              "      <td>1</td>\n",
              "      <td>2016-06-12 00:43:35</td>\n",
              "      <td>2016-06-12 00:54:38</td>\n",
              "      <td>1</td>\n",
              "      <td>-73.980415</td>\n",
              "      <td>40.738564</td>\n",
              "      <td>-73.999481</td>\n",
              "      <td>40.731152</td>\n",
              "      <td>N</td>\n",
              "      <td>663</td>\n",
              "    </tr>\n",
              "    <tr>\n",
              "      <th>2</th>\n",
              "      <td>id3858529</td>\n",
              "      <td>2</td>\n",
              "      <td>2016-01-19 11:35:24</td>\n",
              "      <td>2016-01-19 12:10:48</td>\n",
              "      <td>1</td>\n",
              "      <td>-73.979027</td>\n",
              "      <td>40.763939</td>\n",
              "      <td>-74.005333</td>\n",
              "      <td>40.710087</td>\n",
              "      <td>N</td>\n",
              "      <td>2124</td>\n",
              "    </tr>\n",
              "    <tr>\n",
              "      <th>3</th>\n",
              "      <td>id3504673</td>\n",
              "      <td>2</td>\n",
              "      <td>2016-04-06 19:32:31</td>\n",
              "      <td>2016-04-06 19:39:40</td>\n",
              "      <td>1</td>\n",
              "      <td>-74.010040</td>\n",
              "      <td>40.719971</td>\n",
              "      <td>-74.012268</td>\n",
              "      <td>40.706718</td>\n",
              "      <td>N</td>\n",
              "      <td>429</td>\n",
              "    </tr>\n",
              "    <tr>\n",
              "      <th>4</th>\n",
              "      <td>id2181028</td>\n",
              "      <td>2</td>\n",
              "      <td>2016-03-26 13:30:55</td>\n",
              "      <td>2016-03-26 13:38:10</td>\n",
              "      <td>1</td>\n",
              "      <td>-73.973053</td>\n",
              "      <td>40.793209</td>\n",
              "      <td>-73.972923</td>\n",
              "      <td>40.782520</td>\n",
              "      <td>N</td>\n",
              "      <td>435</td>\n",
              "    </tr>\n",
              "  </tbody>\n",
              "</table>\n",
              "</div>\n",
              "      <button class=\"colab-df-convert\" onclick=\"convertToInteractive('df-be501b35-fffb-4583-8419-f3b01316ea16')\"\n",
              "              title=\"Convert this dataframe to an interactive table.\"\n",
              "              style=\"display:none;\">\n",
              "        \n",
              "  <svg xmlns=\"http://www.w3.org/2000/svg\" height=\"24px\"viewBox=\"0 0 24 24\"\n",
              "       width=\"24px\">\n",
              "    <path d=\"M0 0h24v24H0V0z\" fill=\"none\"/>\n",
              "    <path d=\"M18.56 5.44l.94 2.06.94-2.06 2.06-.94-2.06-.94-.94-2.06-.94 2.06-2.06.94zm-11 1L8.5 8.5l.94-2.06 2.06-.94-2.06-.94L8.5 2.5l-.94 2.06-2.06.94zm10 10l.94 2.06.94-2.06 2.06-.94-2.06-.94-.94-2.06-.94 2.06-2.06.94z\"/><path d=\"M17.41 7.96l-1.37-1.37c-.4-.4-.92-.59-1.43-.59-.52 0-1.04.2-1.43.59L10.3 9.45l-7.72 7.72c-.78.78-.78 2.05 0 2.83L4 21.41c.39.39.9.59 1.41.59.51 0 1.02-.2 1.41-.59l7.78-7.78 2.81-2.81c.8-.78.8-2.07 0-2.86zM5.41 20L4 18.59l7.72-7.72 1.47 1.35L5.41 20z\"/>\n",
              "  </svg>\n",
              "      </button>\n",
              "      \n",
              "  <style>\n",
              "    .colab-df-container {\n",
              "      display:flex;\n",
              "      flex-wrap:wrap;\n",
              "      gap: 12px;\n",
              "    }\n",
              "\n",
              "    .colab-df-convert {\n",
              "      background-color: #E8F0FE;\n",
              "      border: none;\n",
              "      border-radius: 50%;\n",
              "      cursor: pointer;\n",
              "      display: none;\n",
              "      fill: #1967D2;\n",
              "      height: 32px;\n",
              "      padding: 0 0 0 0;\n",
              "      width: 32px;\n",
              "    }\n",
              "\n",
              "    .colab-df-convert:hover {\n",
              "      background-color: #E2EBFA;\n",
              "      box-shadow: 0px 1px 2px rgba(60, 64, 67, 0.3), 0px 1px 3px 1px rgba(60, 64, 67, 0.15);\n",
              "      fill: #174EA6;\n",
              "    }\n",
              "\n",
              "    [theme=dark] .colab-df-convert {\n",
              "      background-color: #3B4455;\n",
              "      fill: #D2E3FC;\n",
              "    }\n",
              "\n",
              "    [theme=dark] .colab-df-convert:hover {\n",
              "      background-color: #434B5C;\n",
              "      box-shadow: 0px 1px 3px 1px rgba(0, 0, 0, 0.15);\n",
              "      filter: drop-shadow(0px 1px 2px rgba(0, 0, 0, 0.3));\n",
              "      fill: #FFFFFF;\n",
              "    }\n",
              "  </style>\n",
              "\n",
              "      <script>\n",
              "        const buttonEl =\n",
              "          document.querySelector('#df-be501b35-fffb-4583-8419-f3b01316ea16 button.colab-df-convert');\n",
              "        buttonEl.style.display =\n",
              "          google.colab.kernel.accessAllowed ? 'block' : 'none';\n",
              "\n",
              "        async function convertToInteractive(key) {\n",
              "          const element = document.querySelector('#df-be501b35-fffb-4583-8419-f3b01316ea16');\n",
              "          const dataTable =\n",
              "            await google.colab.kernel.invokeFunction('convertToInteractive',\n",
              "                                                     [key], {});\n",
              "          if (!dataTable) return;\n",
              "\n",
              "          const docLinkHtml = 'Like what you see? Visit the ' +\n",
              "            '<a target=\"_blank\" href=https://colab.research.google.com/notebooks/data_table.ipynb>data table notebook</a>'\n",
              "            + ' to learn more about interactive tables.';\n",
              "          element.innerHTML = '';\n",
              "          dataTable['output_type'] = 'display_data';\n",
              "          await google.colab.output.renderOutput(dataTable, element);\n",
              "          const docLink = document.createElement('div');\n",
              "          docLink.innerHTML = docLinkHtml;\n",
              "          element.appendChild(docLink);\n",
              "        }\n",
              "      </script>\n",
              "    </div>\n",
              "  </div>\n",
              "  "
            ],
            "text/plain": [
              "          id  vendor_id      pickup_datetime     dropoff_datetime  \\\n",
              "0  id2875421          2  2016-03-14 17:24:55  2016-03-14 17:32:30   \n",
              "1  id2377394          1  2016-06-12 00:43:35  2016-06-12 00:54:38   \n",
              "2  id3858529          2  2016-01-19 11:35:24  2016-01-19 12:10:48   \n",
              "3  id3504673          2  2016-04-06 19:32:31  2016-04-06 19:39:40   \n",
              "4  id2181028          2  2016-03-26 13:30:55  2016-03-26 13:38:10   \n",
              "\n",
              "   passenger_count  pickup_longitude  pickup_latitude  dropoff_longitude  \\\n",
              "0                1        -73.982155        40.767937         -73.964630   \n",
              "1                1        -73.980415        40.738564         -73.999481   \n",
              "2                1        -73.979027        40.763939         -74.005333   \n",
              "3                1        -74.010040        40.719971         -74.012268   \n",
              "4                1        -73.973053        40.793209         -73.972923   \n",
              "\n",
              "   dropoff_latitude store_and_fwd_flag  trip_duration  \n",
              "0         40.765602                  N            455  \n",
              "1         40.731152                  N            663  \n",
              "2         40.710087                  N           2124  \n",
              "3         40.706718                  N            429  \n",
              "4         40.782520                  N            435  "
            ]
          },
          "execution_count": 4,
          "metadata": {},
          "output_type": "execute_result"
        }
      ],
      "source": [
        "#first look checking top 5 rows\n",
        "df.head()"
      ]
    },
    {
      "cell_type": "code",
      "execution_count": null,
      "metadata": {
        "colab": {
          "base_uri": "https://localhost:8080/",
          "height": 357
        },
        "id": "tqHblmWiTpdh",
        "outputId": "8415bac0-19d2-4d2a-8073-8b5c50815d1f"
      },
      "outputs": [
        {
          "data": {
            "text/html": [
              "\n",
              "  <div id=\"df-e632ca2a-bb04-4f79-8070-0eabd16e6cb1\">\n",
              "    <div class=\"colab-df-container\">\n",
              "      <div>\n",
              "<style scoped>\n",
              "    .dataframe tbody tr th:only-of-type {\n",
              "        vertical-align: middle;\n",
              "    }\n",
              "\n",
              "    .dataframe tbody tr th {\n",
              "        vertical-align: top;\n",
              "    }\n",
              "\n",
              "    .dataframe thead th {\n",
              "        text-align: right;\n",
              "    }\n",
              "</style>\n",
              "<table border=\"1\" class=\"dataframe\">\n",
              "  <thead>\n",
              "    <tr style=\"text-align: right;\">\n",
              "      <th></th>\n",
              "      <th>id</th>\n",
              "      <th>vendor_id</th>\n",
              "      <th>pickup_datetime</th>\n",
              "      <th>dropoff_datetime</th>\n",
              "      <th>passenger_count</th>\n",
              "      <th>pickup_longitude</th>\n",
              "      <th>pickup_latitude</th>\n",
              "      <th>dropoff_longitude</th>\n",
              "      <th>dropoff_latitude</th>\n",
              "      <th>store_and_fwd_flag</th>\n",
              "      <th>trip_duration</th>\n",
              "    </tr>\n",
              "  </thead>\n",
              "  <tbody>\n",
              "    <tr>\n",
              "      <th>1458639</th>\n",
              "      <td>id2376096</td>\n",
              "      <td>2</td>\n",
              "      <td>2016-04-08 13:31:04</td>\n",
              "      <td>2016-04-08 13:44:02</td>\n",
              "      <td>4</td>\n",
              "      <td>-73.982201</td>\n",
              "      <td>40.745522</td>\n",
              "      <td>-73.994911</td>\n",
              "      <td>40.740170</td>\n",
              "      <td>N</td>\n",
              "      <td>778</td>\n",
              "    </tr>\n",
              "    <tr>\n",
              "      <th>1458640</th>\n",
              "      <td>id1049543</td>\n",
              "      <td>1</td>\n",
              "      <td>2016-01-10 07:35:15</td>\n",
              "      <td>2016-01-10 07:46:10</td>\n",
              "      <td>1</td>\n",
              "      <td>-74.000946</td>\n",
              "      <td>40.747379</td>\n",
              "      <td>-73.970184</td>\n",
              "      <td>40.796547</td>\n",
              "      <td>N</td>\n",
              "      <td>655</td>\n",
              "    </tr>\n",
              "    <tr>\n",
              "      <th>1458641</th>\n",
              "      <td>id2304944</td>\n",
              "      <td>2</td>\n",
              "      <td>2016-04-22 06:57:41</td>\n",
              "      <td>2016-04-22 07:10:25</td>\n",
              "      <td>1</td>\n",
              "      <td>-73.959129</td>\n",
              "      <td>40.768799</td>\n",
              "      <td>-74.004433</td>\n",
              "      <td>40.707371</td>\n",
              "      <td>N</td>\n",
              "      <td>764</td>\n",
              "    </tr>\n",
              "    <tr>\n",
              "      <th>1458642</th>\n",
              "      <td>id2714485</td>\n",
              "      <td>1</td>\n",
              "      <td>2016-01-05 15:56:26</td>\n",
              "      <td>2016-01-05 16:02:39</td>\n",
              "      <td>1</td>\n",
              "      <td>-73.982079</td>\n",
              "      <td>40.749062</td>\n",
              "      <td>-73.974632</td>\n",
              "      <td>40.757107</td>\n",
              "      <td>N</td>\n",
              "      <td>373</td>\n",
              "    </tr>\n",
              "    <tr>\n",
              "      <th>1458643</th>\n",
              "      <td>id1209952</td>\n",
              "      <td>1</td>\n",
              "      <td>2016-04-05 14:44:25</td>\n",
              "      <td>2016-04-05 14:47:43</td>\n",
              "      <td>1</td>\n",
              "      <td>-73.979538</td>\n",
              "      <td>40.781750</td>\n",
              "      <td>-73.972809</td>\n",
              "      <td>40.790585</td>\n",
              "      <td>N</td>\n",
              "      <td>198</td>\n",
              "    </tr>\n",
              "  </tbody>\n",
              "</table>\n",
              "</div>\n",
              "      <button class=\"colab-df-convert\" onclick=\"convertToInteractive('df-e632ca2a-bb04-4f79-8070-0eabd16e6cb1')\"\n",
              "              title=\"Convert this dataframe to an interactive table.\"\n",
              "              style=\"display:none;\">\n",
              "        \n",
              "  <svg xmlns=\"http://www.w3.org/2000/svg\" height=\"24px\"viewBox=\"0 0 24 24\"\n",
              "       width=\"24px\">\n",
              "    <path d=\"M0 0h24v24H0V0z\" fill=\"none\"/>\n",
              "    <path d=\"M18.56 5.44l.94 2.06.94-2.06 2.06-.94-2.06-.94-.94-2.06-.94 2.06-2.06.94zm-11 1L8.5 8.5l.94-2.06 2.06-.94-2.06-.94L8.5 2.5l-.94 2.06-2.06.94zm10 10l.94 2.06.94-2.06 2.06-.94-2.06-.94-.94-2.06-.94 2.06-2.06.94z\"/><path d=\"M17.41 7.96l-1.37-1.37c-.4-.4-.92-.59-1.43-.59-.52 0-1.04.2-1.43.59L10.3 9.45l-7.72 7.72c-.78.78-.78 2.05 0 2.83L4 21.41c.39.39.9.59 1.41.59.51 0 1.02-.2 1.41-.59l7.78-7.78 2.81-2.81c.8-.78.8-2.07 0-2.86zM5.41 20L4 18.59l7.72-7.72 1.47 1.35L5.41 20z\"/>\n",
              "  </svg>\n",
              "      </button>\n",
              "      \n",
              "  <style>\n",
              "    .colab-df-container {\n",
              "      display:flex;\n",
              "      flex-wrap:wrap;\n",
              "      gap: 12px;\n",
              "    }\n",
              "\n",
              "    .colab-df-convert {\n",
              "      background-color: #E8F0FE;\n",
              "      border: none;\n",
              "      border-radius: 50%;\n",
              "      cursor: pointer;\n",
              "      display: none;\n",
              "      fill: #1967D2;\n",
              "      height: 32px;\n",
              "      padding: 0 0 0 0;\n",
              "      width: 32px;\n",
              "    }\n",
              "\n",
              "    .colab-df-convert:hover {\n",
              "      background-color: #E2EBFA;\n",
              "      box-shadow: 0px 1px 2px rgba(60, 64, 67, 0.3), 0px 1px 3px 1px rgba(60, 64, 67, 0.15);\n",
              "      fill: #174EA6;\n",
              "    }\n",
              "\n",
              "    [theme=dark] .colab-df-convert {\n",
              "      background-color: #3B4455;\n",
              "      fill: #D2E3FC;\n",
              "    }\n",
              "\n",
              "    [theme=dark] .colab-df-convert:hover {\n",
              "      background-color: #434B5C;\n",
              "      box-shadow: 0px 1px 3px 1px rgba(0, 0, 0, 0.15);\n",
              "      filter: drop-shadow(0px 1px 2px rgba(0, 0, 0, 0.3));\n",
              "      fill: #FFFFFF;\n",
              "    }\n",
              "  </style>\n",
              "\n",
              "      <script>\n",
              "        const buttonEl =\n",
              "          document.querySelector('#df-e632ca2a-bb04-4f79-8070-0eabd16e6cb1 button.colab-df-convert');\n",
              "        buttonEl.style.display =\n",
              "          google.colab.kernel.accessAllowed ? 'block' : 'none';\n",
              "\n",
              "        async function convertToInteractive(key) {\n",
              "          const element = document.querySelector('#df-e632ca2a-bb04-4f79-8070-0eabd16e6cb1');\n",
              "          const dataTable =\n",
              "            await google.colab.kernel.invokeFunction('convertToInteractive',\n",
              "                                                     [key], {});\n",
              "          if (!dataTable) return;\n",
              "\n",
              "          const docLinkHtml = 'Like what you see? Visit the ' +\n",
              "            '<a target=\"_blank\" href=https://colab.research.google.com/notebooks/data_table.ipynb>data table notebook</a>'\n",
              "            + ' to learn more about interactive tables.';\n",
              "          element.innerHTML = '';\n",
              "          dataTable['output_type'] = 'display_data';\n",
              "          await google.colab.output.renderOutput(dataTable, element);\n",
              "          const docLink = document.createElement('div');\n",
              "          docLink.innerHTML = docLinkHtml;\n",
              "          element.appendChild(docLink);\n",
              "        }\n",
              "      </script>\n",
              "    </div>\n",
              "  </div>\n",
              "  "
            ],
            "text/plain": [
              "                id  vendor_id      pickup_datetime     dropoff_datetime  \\\n",
              "1458639  id2376096          2  2016-04-08 13:31:04  2016-04-08 13:44:02   \n",
              "1458640  id1049543          1  2016-01-10 07:35:15  2016-01-10 07:46:10   \n",
              "1458641  id2304944          2  2016-04-22 06:57:41  2016-04-22 07:10:25   \n",
              "1458642  id2714485          1  2016-01-05 15:56:26  2016-01-05 16:02:39   \n",
              "1458643  id1209952          1  2016-04-05 14:44:25  2016-04-05 14:47:43   \n",
              "\n",
              "         passenger_count  pickup_longitude  pickup_latitude  \\\n",
              "1458639                4        -73.982201        40.745522   \n",
              "1458640                1        -74.000946        40.747379   \n",
              "1458641                1        -73.959129        40.768799   \n",
              "1458642                1        -73.982079        40.749062   \n",
              "1458643                1        -73.979538        40.781750   \n",
              "\n",
              "         dropoff_longitude  dropoff_latitude store_and_fwd_flag  trip_duration  \n",
              "1458639         -73.994911         40.740170                  N            778  \n",
              "1458640         -73.970184         40.796547                  N            655  \n",
              "1458641         -74.004433         40.707371                  N            764  \n",
              "1458642         -73.974632         40.757107                  N            373  \n",
              "1458643         -73.972809         40.790585                  N            198  "
            ]
          },
          "execution_count": 5,
          "metadata": {},
          "output_type": "execute_result"
        }
      ],
      "source": [
        "df.tail()"
      ]
    },
    {
      "cell_type": "code",
      "execution_count": null,
      "metadata": {
        "colab": {
          "base_uri": "https://localhost:8080/"
        },
        "id": "VxXU76CCTuhq",
        "outputId": "26cbd13a-ce9a-4b34-8d68-7707bdfe6507"
      },
      "outputs": [
        {
          "name": "stdout",
          "output_type": "stream",
          "text": [
            "<class 'pandas.core.frame.DataFrame'>\n",
            "RangeIndex: 1458644 entries, 0 to 1458643\n",
            "Data columns (total 11 columns):\n",
            " #   Column              Non-Null Count    Dtype  \n",
            "---  ------              --------------    -----  \n",
            " 0   id                  1458644 non-null  object \n",
            " 1   vendor_id           1458644 non-null  int64  \n",
            " 2   pickup_datetime     1458644 non-null  object \n",
            " 3   dropoff_datetime    1458644 non-null  object \n",
            " 4   passenger_count     1458644 non-null  int64  \n",
            " 5   pickup_longitude    1458644 non-null  float64\n",
            " 6   pickup_latitude     1458644 non-null  float64\n",
            " 7   dropoff_longitude   1458644 non-null  float64\n",
            " 8   dropoff_latitude    1458644 non-null  float64\n",
            " 9   store_and_fwd_flag  1458644 non-null  object \n",
            " 10  trip_duration       1458644 non-null  int64  \n",
            "dtypes: float64(4), int64(3), object(4)\n",
            "memory usage: 122.4+ MB\n"
          ]
        }
      ],
      "source": [
        "#check information about the data\n",
        "df.info()"
      ]
    },
    {
      "cell_type": "code",
      "execution_count": null,
      "metadata": {
        "colab": {
          "base_uri": "https://localhost:8080/",
          "height": 394
        },
        "id": "pSnRMsBjULhU",
        "outputId": "4d1eaf52-202c-405b-8ea8-1feb744ac1f5"
      },
      "outputs": [
        {
          "data": {
            "text/html": [
              "\n",
              "  <div id=\"df-d3f62690-1702-43a3-95d7-10f2284cf053\">\n",
              "    <div class=\"colab-df-container\">\n",
              "      <div>\n",
              "<style scoped>\n",
              "    .dataframe tbody tr th:only-of-type {\n",
              "        vertical-align: middle;\n",
              "    }\n",
              "\n",
              "    .dataframe tbody tr th {\n",
              "        vertical-align: top;\n",
              "    }\n",
              "\n",
              "    .dataframe thead th {\n",
              "        text-align: right;\n",
              "    }\n",
              "</style>\n",
              "<table border=\"1\" class=\"dataframe\">\n",
              "  <thead>\n",
              "    <tr style=\"text-align: right;\">\n",
              "      <th></th>\n",
              "      <th>count</th>\n",
              "      <th>unique</th>\n",
              "      <th>top</th>\n",
              "      <th>freq</th>\n",
              "      <th>mean</th>\n",
              "      <th>std</th>\n",
              "      <th>min</th>\n",
              "      <th>25%</th>\n",
              "      <th>50%</th>\n",
              "      <th>75%</th>\n",
              "      <th>max</th>\n",
              "    </tr>\n",
              "  </thead>\n",
              "  <tbody>\n",
              "    <tr>\n",
              "      <th>id</th>\n",
              "      <td>1458644</td>\n",
              "      <td>1458644</td>\n",
              "      <td>id2875421</td>\n",
              "      <td>1</td>\n",
              "      <td>NaN</td>\n",
              "      <td>NaN</td>\n",
              "      <td>NaN</td>\n",
              "      <td>NaN</td>\n",
              "      <td>NaN</td>\n",
              "      <td>NaN</td>\n",
              "      <td>NaN</td>\n",
              "    </tr>\n",
              "    <tr>\n",
              "      <th>vendor_id</th>\n",
              "      <td>1458644.0</td>\n",
              "      <td>NaN</td>\n",
              "      <td>NaN</td>\n",
              "      <td>NaN</td>\n",
              "      <td>1.53495</td>\n",
              "      <td>0.498777</td>\n",
              "      <td>1.0</td>\n",
              "      <td>1.0</td>\n",
              "      <td>2.0</td>\n",
              "      <td>2.0</td>\n",
              "      <td>2.0</td>\n",
              "    </tr>\n",
              "    <tr>\n",
              "      <th>pickup_datetime</th>\n",
              "      <td>1458644</td>\n",
              "      <td>1380222</td>\n",
              "      <td>2016-03-04 08:07:34</td>\n",
              "      <td>5</td>\n",
              "      <td>NaN</td>\n",
              "      <td>NaN</td>\n",
              "      <td>NaN</td>\n",
              "      <td>NaN</td>\n",
              "      <td>NaN</td>\n",
              "      <td>NaN</td>\n",
              "      <td>NaN</td>\n",
              "    </tr>\n",
              "    <tr>\n",
              "      <th>dropoff_datetime</th>\n",
              "      <td>1458644</td>\n",
              "      <td>1380377</td>\n",
              "      <td>2016-02-19 19:25:04</td>\n",
              "      <td>5</td>\n",
              "      <td>NaN</td>\n",
              "      <td>NaN</td>\n",
              "      <td>NaN</td>\n",
              "      <td>NaN</td>\n",
              "      <td>NaN</td>\n",
              "      <td>NaN</td>\n",
              "      <td>NaN</td>\n",
              "    </tr>\n",
              "    <tr>\n",
              "      <th>passenger_count</th>\n",
              "      <td>1458644.0</td>\n",
              "      <td>NaN</td>\n",
              "      <td>NaN</td>\n",
              "      <td>NaN</td>\n",
              "      <td>1.66453</td>\n",
              "      <td>1.314242</td>\n",
              "      <td>0.0</td>\n",
              "      <td>1.0</td>\n",
              "      <td>1.0</td>\n",
              "      <td>2.0</td>\n",
              "      <td>9.0</td>\n",
              "    </tr>\n",
              "    <tr>\n",
              "      <th>pickup_longitude</th>\n",
              "      <td>1458644.0</td>\n",
              "      <td>NaN</td>\n",
              "      <td>NaN</td>\n",
              "      <td>NaN</td>\n",
              "      <td>-73.973486</td>\n",
              "      <td>0.070902</td>\n",
              "      <td>-121.933342</td>\n",
              "      <td>-73.991867</td>\n",
              "      <td>-73.981743</td>\n",
              "      <td>-73.967331</td>\n",
              "      <td>-61.335529</td>\n",
              "    </tr>\n",
              "    <tr>\n",
              "      <th>pickup_latitude</th>\n",
              "      <td>1458644.0</td>\n",
              "      <td>NaN</td>\n",
              "      <td>NaN</td>\n",
              "      <td>NaN</td>\n",
              "      <td>40.750921</td>\n",
              "      <td>0.032881</td>\n",
              "      <td>34.359695</td>\n",
              "      <td>40.737347</td>\n",
              "      <td>40.754101</td>\n",
              "      <td>40.76836</td>\n",
              "      <td>51.881084</td>\n",
              "    </tr>\n",
              "    <tr>\n",
              "      <th>dropoff_longitude</th>\n",
              "      <td>1458644.0</td>\n",
              "      <td>NaN</td>\n",
              "      <td>NaN</td>\n",
              "      <td>NaN</td>\n",
              "      <td>-73.973416</td>\n",
              "      <td>0.070643</td>\n",
              "      <td>-121.933304</td>\n",
              "      <td>-73.991325</td>\n",
              "      <td>-73.979752</td>\n",
              "      <td>-73.963013</td>\n",
              "      <td>-61.335529</td>\n",
              "    </tr>\n",
              "    <tr>\n",
              "      <th>dropoff_latitude</th>\n",
              "      <td>1458644.0</td>\n",
              "      <td>NaN</td>\n",
              "      <td>NaN</td>\n",
              "      <td>NaN</td>\n",
              "      <td>40.7518</td>\n",
              "      <td>0.035891</td>\n",
              "      <td>32.181141</td>\n",
              "      <td>40.735885</td>\n",
              "      <td>40.754524</td>\n",
              "      <td>40.76981</td>\n",
              "      <td>43.921028</td>\n",
              "    </tr>\n",
              "    <tr>\n",
              "      <th>store_and_fwd_flag</th>\n",
              "      <td>1458644</td>\n",
              "      <td>2</td>\n",
              "      <td>N</td>\n",
              "      <td>1450599</td>\n",
              "      <td>NaN</td>\n",
              "      <td>NaN</td>\n",
              "      <td>NaN</td>\n",
              "      <td>NaN</td>\n",
              "      <td>NaN</td>\n",
              "      <td>NaN</td>\n",
              "      <td>NaN</td>\n",
              "    </tr>\n",
              "    <tr>\n",
              "      <th>trip_duration</th>\n",
              "      <td>1458644.0</td>\n",
              "      <td>NaN</td>\n",
              "      <td>NaN</td>\n",
              "      <td>NaN</td>\n",
              "      <td>959.492273</td>\n",
              "      <td>5237.431724</td>\n",
              "      <td>1.0</td>\n",
              "      <td>397.0</td>\n",
              "      <td>662.0</td>\n",
              "      <td>1075.0</td>\n",
              "      <td>3526282.0</td>\n",
              "    </tr>\n",
              "  </tbody>\n",
              "</table>\n",
              "</div>\n",
              "      <button class=\"colab-df-convert\" onclick=\"convertToInteractive('df-d3f62690-1702-43a3-95d7-10f2284cf053')\"\n",
              "              title=\"Convert this dataframe to an interactive table.\"\n",
              "              style=\"display:none;\">\n",
              "        \n",
              "  <svg xmlns=\"http://www.w3.org/2000/svg\" height=\"24px\"viewBox=\"0 0 24 24\"\n",
              "       width=\"24px\">\n",
              "    <path d=\"M0 0h24v24H0V0z\" fill=\"none\"/>\n",
              "    <path d=\"M18.56 5.44l.94 2.06.94-2.06 2.06-.94-2.06-.94-.94-2.06-.94 2.06-2.06.94zm-11 1L8.5 8.5l.94-2.06 2.06-.94-2.06-.94L8.5 2.5l-.94 2.06-2.06.94zm10 10l.94 2.06.94-2.06 2.06-.94-2.06-.94-.94-2.06-.94 2.06-2.06.94z\"/><path d=\"M17.41 7.96l-1.37-1.37c-.4-.4-.92-.59-1.43-.59-.52 0-1.04.2-1.43.59L10.3 9.45l-7.72 7.72c-.78.78-.78 2.05 0 2.83L4 21.41c.39.39.9.59 1.41.59.51 0 1.02-.2 1.41-.59l7.78-7.78 2.81-2.81c.8-.78.8-2.07 0-2.86zM5.41 20L4 18.59l7.72-7.72 1.47 1.35L5.41 20z\"/>\n",
              "  </svg>\n",
              "      </button>\n",
              "      \n",
              "  <style>\n",
              "    .colab-df-container {\n",
              "      display:flex;\n",
              "      flex-wrap:wrap;\n",
              "      gap: 12px;\n",
              "    }\n",
              "\n",
              "    .colab-df-convert {\n",
              "      background-color: #E8F0FE;\n",
              "      border: none;\n",
              "      border-radius: 50%;\n",
              "      cursor: pointer;\n",
              "      display: none;\n",
              "      fill: #1967D2;\n",
              "      height: 32px;\n",
              "      padding: 0 0 0 0;\n",
              "      width: 32px;\n",
              "    }\n",
              "\n",
              "    .colab-df-convert:hover {\n",
              "      background-color: #E2EBFA;\n",
              "      box-shadow: 0px 1px 2px rgba(60, 64, 67, 0.3), 0px 1px 3px 1px rgba(60, 64, 67, 0.15);\n",
              "      fill: #174EA6;\n",
              "    }\n",
              "\n",
              "    [theme=dark] .colab-df-convert {\n",
              "      background-color: #3B4455;\n",
              "      fill: #D2E3FC;\n",
              "    }\n",
              "\n",
              "    [theme=dark] .colab-df-convert:hover {\n",
              "      background-color: #434B5C;\n",
              "      box-shadow: 0px 1px 3px 1px rgba(0, 0, 0, 0.15);\n",
              "      filter: drop-shadow(0px 1px 2px rgba(0, 0, 0, 0.3));\n",
              "      fill: #FFFFFF;\n",
              "    }\n",
              "  </style>\n",
              "\n",
              "      <script>\n",
              "        const buttonEl =\n",
              "          document.querySelector('#df-d3f62690-1702-43a3-95d7-10f2284cf053 button.colab-df-convert');\n",
              "        buttonEl.style.display =\n",
              "          google.colab.kernel.accessAllowed ? 'block' : 'none';\n",
              "\n",
              "        async function convertToInteractive(key) {\n",
              "          const element = document.querySelector('#df-d3f62690-1702-43a3-95d7-10f2284cf053');\n",
              "          const dataTable =\n",
              "            await google.colab.kernel.invokeFunction('convertToInteractive',\n",
              "                                                     [key], {});\n",
              "          if (!dataTable) return;\n",
              "\n",
              "          const docLinkHtml = 'Like what you see? Visit the ' +\n",
              "            '<a target=\"_blank\" href=https://colab.research.google.com/notebooks/data_table.ipynb>data table notebook</a>'\n",
              "            + ' to learn more about interactive tables.';\n",
              "          element.innerHTML = '';\n",
              "          dataTable['output_type'] = 'display_data';\n",
              "          await google.colab.output.renderOutput(dataTable, element);\n",
              "          const docLink = document.createElement('div');\n",
              "          docLink.innerHTML = docLinkHtml;\n",
              "          element.appendChild(docLink);\n",
              "        }\n",
              "      </script>\n",
              "    </div>\n",
              "  </div>\n",
              "  "
            ],
            "text/plain": [
              "                        count   unique                  top     freq  \\\n",
              "id                    1458644  1458644            id2875421        1   \n",
              "vendor_id           1458644.0      NaN                  NaN      NaN   \n",
              "pickup_datetime       1458644  1380222  2016-03-04 08:07:34        5   \n",
              "dropoff_datetime      1458644  1380377  2016-02-19 19:25:04        5   \n",
              "passenger_count     1458644.0      NaN                  NaN      NaN   \n",
              "pickup_longitude    1458644.0      NaN                  NaN      NaN   \n",
              "pickup_latitude     1458644.0      NaN                  NaN      NaN   \n",
              "dropoff_longitude   1458644.0      NaN                  NaN      NaN   \n",
              "dropoff_latitude    1458644.0      NaN                  NaN      NaN   \n",
              "store_and_fwd_flag    1458644        2                    N  1450599   \n",
              "trip_duration       1458644.0      NaN                  NaN      NaN   \n",
              "\n",
              "                          mean          std         min        25%        50%  \\\n",
              "id                         NaN          NaN         NaN        NaN        NaN   \n",
              "vendor_id              1.53495     0.498777         1.0        1.0        2.0   \n",
              "pickup_datetime            NaN          NaN         NaN        NaN        NaN   \n",
              "dropoff_datetime           NaN          NaN         NaN        NaN        NaN   \n",
              "passenger_count        1.66453     1.314242         0.0        1.0        1.0   \n",
              "pickup_longitude    -73.973486     0.070902 -121.933342 -73.991867 -73.981743   \n",
              "pickup_latitude      40.750921     0.032881   34.359695  40.737347  40.754101   \n",
              "dropoff_longitude   -73.973416     0.070643 -121.933304 -73.991325 -73.979752   \n",
              "dropoff_latitude       40.7518     0.035891   32.181141  40.735885  40.754524   \n",
              "store_and_fwd_flag         NaN          NaN         NaN        NaN        NaN   \n",
              "trip_duration       959.492273  5237.431724         1.0      397.0      662.0   \n",
              "\n",
              "                          75%        max  \n",
              "id                        NaN        NaN  \n",
              "vendor_id                 2.0        2.0  \n",
              "pickup_datetime           NaN        NaN  \n",
              "dropoff_datetime          NaN        NaN  \n",
              "passenger_count           2.0        9.0  \n",
              "pickup_longitude   -73.967331 -61.335529  \n",
              "pickup_latitude      40.76836  51.881084  \n",
              "dropoff_longitude  -73.963013 -61.335529  \n",
              "dropoff_latitude     40.76981  43.921028  \n",
              "store_and_fwd_flag        NaN        NaN  \n",
              "trip_duration          1075.0  3526282.0  "
            ]
          },
          "execution_count": 10,
          "metadata": {},
          "output_type": "execute_result"
        }
      ],
      "source": [
        "df.describe(include='all').T"
      ]
    },
    {
      "cell_type": "code",
      "execution_count": null,
      "metadata": {
        "colab": {
          "base_uri": "https://localhost:8080/"
        },
        "id": "aP80pDyhUQtq",
        "outputId": "4845422d-a8cf-4b3a-9b42-f31abd7023a3"
      },
      "outputs": [
        {
          "data": {
            "text/plain": [
              "Index(['id', 'vendor_id', 'pickup_datetime', 'dropoff_datetime',\n",
              "       'passenger_count', 'pickup_longitude', 'pickup_latitude',\n",
              "       'dropoff_longitude', 'dropoff_latitude', 'store_and_fwd_flag',\n",
              "       'trip_duration'],\n",
              "      dtype='object')"
            ]
          },
          "execution_count": 11,
          "metadata": {},
          "output_type": "execute_result"
        }
      ],
      "source": [
        "#check columns names\n",
        "df.columns"
      ]
    },
    {
      "cell_type": "code",
      "execution_count": null,
      "metadata": {
        "colab": {
          "base_uri": "https://localhost:8080/"
        },
        "id": "1KghbUdIfTX8",
        "outputId": "78ec633c-05d7-46cb-aef8-77f305505b45"
      },
      "outputs": [
        {
          "data": {
            "text/plain": [
              "(1458644, 11)"
            ]
          },
          "execution_count": 12,
          "metadata": {},
          "output_type": "execute_result"
        }
      ],
      "source": [
        "#Check shape of dataset\n",
        "df.shape "
      ]
    },
    {
      "cell_type": "markdown",
      "metadata": {
        "id": "P5_wT1xJVPlS"
      },
      "source": [
        "### **Data Description**"
      ]
    },
    {
      "cell_type": "markdown",
      "metadata": {
        "id": "ZApwEXt0V5Jx"
      },
      "source": [
        "*   id - a unique identifier for each trip\n",
        "*   vendor_id - a code indicating the provider associated with the trip record\n",
        "*   pickup_datetime - date and time when the meter was engaged\n",
        "*   dropoff_datetime - date and time when the meter was disengaged\n",
        "*   passenger_count - the number of passengers in the vehicle (driver entered value)\n",
        "*   pickup_longitude - the longitude where the meter was engaged\n",
        "*   pickup_latitude - the latitude where the meter was engaged\n",
        "*   dropoff_longitude - the longitude where the meter was disengaged\n",
        "*   dropoff_latitude - the latitude where the meter was disengaged\n",
        "*   store_and_fwd_flag - This flag indicates whether the trip record was held in vehicle memory before sending to the vendor because the vehicle did not have a connection to the server - Y=store and forward; N=not a store and forward trip\n",
        "*   trip_duration - duration of the trip in seconds\n",
        "\n"
      ]
    },
    {
      "cell_type": "code",
      "execution_count": null,
      "metadata": {
        "colab": {
          "background_save": true
        },
        "id": "V_jNYRzOVI6F"
      },
      "outputs": [],
      "source": [
        "#first create copy of dataset before working with so that we have original data untouched\n",
        "df1 = df.copy()"
      ]
    },
    {
      "cell_type": "markdown",
      "metadata": {
        "id": "qI21mWVWXurq"
      },
      "source": [
        "### **Check columns and their unique values to understand what they contain.**"
      ]
    },
    {
      "cell_type": "code",
      "execution_count": null,
      "metadata": {
        "colab": {
          "base_uri": "https://localhost:8080/"
        },
        "id": "cHfrGIDtXyW-",
        "outputId": "e31d928a-d32c-4f27-a8b8-9835711b7d54"
      },
      "outputs": [
        {
          "name": "stdout",
          "output_type": "stream",
          "text": [
            "Unique values in categorical columns id are: ['id2875421' 'id2377394' 'id3858529' 'id3504673' 'id2181028' 'id0801584'\n",
            " 'id1813257' 'id1324603']\n",
            "\n",
            "Unique values in categorical columns pickup_datetime are: ['2016-03-14 17:24:55' '2016-06-12 00:43:35' '2016-01-19 11:35:24'\n",
            " '2016-04-06 19:32:31' '2016-03-26 13:30:55' '2016-01-30 22:01:40'\n",
            " '2016-06-17 22:34:59' '2016-05-21 07:54:58']\n",
            "\n",
            "Unique values in categorical columns dropoff_datetime are: ['2016-03-14 17:32:30' '2016-06-12 00:54:38' '2016-01-19 12:10:48'\n",
            " '2016-04-06 19:39:40' '2016-03-26 13:38:10' '2016-01-30 22:09:03'\n",
            " '2016-06-17 22:40:40' '2016-05-21 08:20:49']\n",
            "\n",
            "Unique values in categorical columns store_and_fwd_flag are: ['N' 'Y']\n",
            "\n"
          ]
        }
      ],
      "source": [
        "#check unique values for categorical columnns\n",
        "categorical_columns = df1.select_dtypes(include=['object'])\n",
        "for col in categorical_columns:\n",
        "  print(f'Unique values in categorical columns {col} are: {categorical_columns[col].unique()[:8]}\\n')"
      ]
    },
    {
      "cell_type": "code",
      "execution_count": null,
      "metadata": {
        "colab": {
          "base_uri": "https://localhost:8080/"
        },
        "id": "DZC6QozxX7Qc",
        "outputId": "84fe3667-a906-4d26-f40f-d96b37878d55"
      },
      "outputs": [
        {
          "name": "stdout",
          "output_type": "stream",
          "text": [
            "Unique values in numerical columns vendor_id are: [2 1]\n",
            "\n",
            "Unique values in numerical columns passenger_count are: [1 6 4 2 3 5 0 7]\n",
            "\n",
            "Unique values in numerical columns pickup_longitude are: [-73.98215485 -73.98041534 -73.97902679 -74.01004028 -73.97305298\n",
            " -73.98285675 -73.96901703 -73.96927643]\n",
            "\n",
            "Unique values in numerical columns pickup_latitude are: [40.76793671 40.73856354 40.7639389  40.7199707  40.79320908 40.74219513\n",
            " 40.7578392  40.79777908]\n",
            "\n",
            "Unique values in numerical columns dropoff_longitude are: [-73.96463013 -73.9994812  -74.00533295 -74.01226807 -73.97292328\n",
            " -73.99208069 -73.95740509 -73.92247009]\n",
            "\n",
            "Unique values in numerical columns dropoff_latitude are: [40.76560211 40.73115158 40.71008682 40.70671844 40.78252029 40.74918365\n",
            " 40.76589584 40.76055908]\n",
            "\n",
            "Unique values in numerical columns trip_duration are: [ 455  663 2124  429  435  443  341 1551]\n",
            "\n"
          ]
        }
      ],
      "source": [
        "#check unique values for numerical columns\n",
        "numerical_columns = df1._get_numeric_data()\n",
        "for col in numerical_columns:\n",
        "  print(f'Unique values in numerical columns {col} are: {numerical_columns[col].unique()[:8]}\\n')"
      ]
    },
    {
      "cell_type": "code",
      "execution_count": null,
      "metadata": {
        "colab": {
          "base_uri": "https://localhost:8080/"
        },
        "id": "1Yi5ds8MX92m",
        "outputId": "670cd48d-a174-4433-8a3c-364a61dc4532"
      },
      "outputs": [
        {
          "data": {
            "text/plain": [
              "1458644"
            ]
          },
          "execution_count": 16,
          "metadata": {},
          "output_type": "execute_result"
        }
      ],
      "source": [
        "#check count of unqiue id\n",
        "len(df1['id'].unique())"
      ]
    },
    {
      "cell_type": "code",
      "execution_count": null,
      "metadata": {
        "id": "M1CMAYJKfHQT"
      },
      "outputs": [],
      "source": [
        "#Convert timestamp to datetime format to fetch the other details as listed below\n",
        "df['pickup_datetime'] = pd.to_datetime(df['pickup_datetime'])\n",
        "df['dropoff_datetime'] = pd.to_datetime(df['dropoff_datetime'])"
      ]
    },
    {
      "cell_type": "code",
      "execution_count": null,
      "metadata": {
        "colab": {
          "base_uri": "https://localhost:8080/"
        },
        "outputId": "670cd48d-a174-4433-8a3c-364a61dc4532",
        "id": "YdVEhhuRY1QA"
      },
      "outputs": [
        {
          "data": {
            "text/plain": [
              "1458644"
            ]
          },
          "execution_count": 16,
          "metadata": {},
          "output_type": "execute_result"
        }
      ],
      "source": [
        "#check count of unqiue id\n",
        "len(df1['id'].unique())"
      ]
    },
    {
      "cell_type": "code",
      "execution_count": null,
      "metadata": {
        "id": "cYXLstqTgtiS"
      },
      "outputs": [],
      "source": [
        "#Calculate and assign new columns to the dataframe such as weekday,\n",
        "#month and pickup_hour which will help us to gain more insights from the data.\n",
        "df['weekday'] = df.pickup_datetime.dt.weekday\n",
        "df['month'] = df.pickup_datetime.dt.month\n",
        "df['weekday_num'] = df.pickup_datetime.dt.weekday\n",
        "df['pickup_hour'] = df.pickup_datetime.dt.hour"
      ]
    },
    {
      "cell_type": "code",
      "execution_count": null,
      "metadata": {
        "id": "oESFz6c5irqb"
      },
      "outputs": [],
      "source": [
        "#calc_distance is a function to calculate distance between pickup and dropoff coordinates using Haversine formula.\n",
        "def calc_distance(df):\n",
        "    pickup = (df['pickup_latitude'], df['pickup_longitude'])\n",
        "    drop = (df['dropoff_latitude'], df['dropoff_longitude'])\n",
        "    return haversine(pickup, drop)"
      ]
    },
    {
      "cell_type": "code",
      "execution_count": null,
      "metadata": {
        "id": "b4WsdOWoit7N"
      },
      "outputs": [],
      "source": [
        "#Calculate distance and assign new column to the dataframe.\n",
        "df['distance'] = df.apply(lambda x: calc_distance(x), axis = 1)"
      ]
    },
    {
      "cell_type": "code",
      "execution_count": null,
      "metadata": {
        "id": "Jx93RCOgizhj"
      },
      "outputs": [],
      "source": [
        "#Calculate Speed in km/h for further insights\n",
        "df['speed'] = (df.distance/(df.trip_duration/3600))"
      ]
    },
    {
      "cell_type": "code",
      "execution_count": null,
      "metadata": {
        "colab": {
          "base_uri": "https://localhost:8080/",
          "height": 582
        },
        "id": "-QlpI6Pg2Ren",
        "outputId": "a7ce6073-9704-4f48-b8cf-8f45ed0c8772"
      },
      "outputs": [
        {
          "data": {
            "text/html": [
              "\n",
              "  <div id=\"df-ffb31154-b621-463f-9413-1df59da913ab\">\n",
              "    <div class=\"colab-df-container\">\n",
              "      <div>\n",
              "<style scoped>\n",
              "    .dataframe tbody tr th:only-of-type {\n",
              "        vertical-align: middle;\n",
              "    }\n",
              "\n",
              "    .dataframe tbody tr th {\n",
              "        vertical-align: top;\n",
              "    }\n",
              "\n",
              "    .dataframe thead th {\n",
              "        text-align: right;\n",
              "    }\n",
              "</style>\n",
              "<table border=\"1\" class=\"dataframe\">\n",
              "  <thead>\n",
              "    <tr style=\"text-align: right;\">\n",
              "      <th></th>\n",
              "      <th>index</th>\n",
              "      <th>0</th>\n",
              "    </tr>\n",
              "  </thead>\n",
              "  <tbody>\n",
              "    <tr>\n",
              "      <th>0</th>\n",
              "      <td>id</td>\n",
              "      <td>object</td>\n",
              "    </tr>\n",
              "    <tr>\n",
              "      <th>1</th>\n",
              "      <td>vendor_id</td>\n",
              "      <td>int64</td>\n",
              "    </tr>\n",
              "    <tr>\n",
              "      <th>2</th>\n",
              "      <td>pickup_datetime</td>\n",
              "      <td>datetime64[ns]</td>\n",
              "    </tr>\n",
              "    <tr>\n",
              "      <th>3</th>\n",
              "      <td>dropoff_datetime</td>\n",
              "      <td>datetime64[ns]</td>\n",
              "    </tr>\n",
              "    <tr>\n",
              "      <th>4</th>\n",
              "      <td>passenger_count</td>\n",
              "      <td>int64</td>\n",
              "    </tr>\n",
              "    <tr>\n",
              "      <th>5</th>\n",
              "      <td>pickup_longitude</td>\n",
              "      <td>float64</td>\n",
              "    </tr>\n",
              "    <tr>\n",
              "      <th>6</th>\n",
              "      <td>pickup_latitude</td>\n",
              "      <td>float64</td>\n",
              "    </tr>\n",
              "    <tr>\n",
              "      <th>7</th>\n",
              "      <td>dropoff_longitude</td>\n",
              "      <td>float64</td>\n",
              "    </tr>\n",
              "    <tr>\n",
              "      <th>8</th>\n",
              "      <td>dropoff_latitude</td>\n",
              "      <td>float64</td>\n",
              "    </tr>\n",
              "    <tr>\n",
              "      <th>9</th>\n",
              "      <td>store_and_fwd_flag</td>\n",
              "      <td>object</td>\n",
              "    </tr>\n",
              "    <tr>\n",
              "      <th>10</th>\n",
              "      <td>trip_duration</td>\n",
              "      <td>int64</td>\n",
              "    </tr>\n",
              "    <tr>\n",
              "      <th>11</th>\n",
              "      <td>weekday</td>\n",
              "      <td>int64</td>\n",
              "    </tr>\n",
              "    <tr>\n",
              "      <th>12</th>\n",
              "      <td>month</td>\n",
              "      <td>int64</td>\n",
              "    </tr>\n",
              "    <tr>\n",
              "      <th>13</th>\n",
              "      <td>weekday_num</td>\n",
              "      <td>int64</td>\n",
              "    </tr>\n",
              "    <tr>\n",
              "      <th>14</th>\n",
              "      <td>pickup_hour</td>\n",
              "      <td>int64</td>\n",
              "    </tr>\n",
              "    <tr>\n",
              "      <th>15</th>\n",
              "      <td>distance</td>\n",
              "      <td>float64</td>\n",
              "    </tr>\n",
              "    <tr>\n",
              "      <th>16</th>\n",
              "      <td>speed</td>\n",
              "      <td>float64</td>\n",
              "    </tr>\n",
              "  </tbody>\n",
              "</table>\n",
              "</div>\n",
              "      <button class=\"colab-df-convert\" onclick=\"convertToInteractive('df-ffb31154-b621-463f-9413-1df59da913ab')\"\n",
              "              title=\"Convert this dataframe to an interactive table.\"\n",
              "              style=\"display:none;\">\n",
              "        \n",
              "  <svg xmlns=\"http://www.w3.org/2000/svg\" height=\"24px\"viewBox=\"0 0 24 24\"\n",
              "       width=\"24px\">\n",
              "    <path d=\"M0 0h24v24H0V0z\" fill=\"none\"/>\n",
              "    <path d=\"M18.56 5.44l.94 2.06.94-2.06 2.06-.94-2.06-.94-.94-2.06-.94 2.06-2.06.94zm-11 1L8.5 8.5l.94-2.06 2.06-.94-2.06-.94L8.5 2.5l-.94 2.06-2.06.94zm10 10l.94 2.06.94-2.06 2.06-.94-2.06-.94-.94-2.06-.94 2.06-2.06.94z\"/><path d=\"M17.41 7.96l-1.37-1.37c-.4-.4-.92-.59-1.43-.59-.52 0-1.04.2-1.43.59L10.3 9.45l-7.72 7.72c-.78.78-.78 2.05 0 2.83L4 21.41c.39.39.9.59 1.41.59.51 0 1.02-.2 1.41-.59l7.78-7.78 2.81-2.81c.8-.78.8-2.07 0-2.86zM5.41 20L4 18.59l7.72-7.72 1.47 1.35L5.41 20z\"/>\n",
              "  </svg>\n",
              "      </button>\n",
              "      \n",
              "  <style>\n",
              "    .colab-df-container {\n",
              "      display:flex;\n",
              "      flex-wrap:wrap;\n",
              "      gap: 12px;\n",
              "    }\n",
              "\n",
              "    .colab-df-convert {\n",
              "      background-color: #E8F0FE;\n",
              "      border: none;\n",
              "      border-radius: 50%;\n",
              "      cursor: pointer;\n",
              "      display: none;\n",
              "      fill: #1967D2;\n",
              "      height: 32px;\n",
              "      padding: 0 0 0 0;\n",
              "      width: 32px;\n",
              "    }\n",
              "\n",
              "    .colab-df-convert:hover {\n",
              "      background-color: #E2EBFA;\n",
              "      box-shadow: 0px 1px 2px rgba(60, 64, 67, 0.3), 0px 1px 3px 1px rgba(60, 64, 67, 0.15);\n",
              "      fill: #174EA6;\n",
              "    }\n",
              "\n",
              "    [theme=dark] .colab-df-convert {\n",
              "      background-color: #3B4455;\n",
              "      fill: #D2E3FC;\n",
              "    }\n",
              "\n",
              "    [theme=dark] .colab-df-convert:hover {\n",
              "      background-color: #434B5C;\n",
              "      box-shadow: 0px 1px 3px 1px rgba(0, 0, 0, 0.15);\n",
              "      filter: drop-shadow(0px 1px 2px rgba(0, 0, 0, 0.3));\n",
              "      fill: #FFFFFF;\n",
              "    }\n",
              "  </style>\n",
              "\n",
              "      <script>\n",
              "        const buttonEl =\n",
              "          document.querySelector('#df-ffb31154-b621-463f-9413-1df59da913ab button.colab-df-convert');\n",
              "        buttonEl.style.display =\n",
              "          google.colab.kernel.accessAllowed ? 'block' : 'none';\n",
              "\n",
              "        async function convertToInteractive(key) {\n",
              "          const element = document.querySelector('#df-ffb31154-b621-463f-9413-1df59da913ab');\n",
              "          const dataTable =\n",
              "            await google.colab.kernel.invokeFunction('convertToInteractive',\n",
              "                                                     [key], {});\n",
              "          if (!dataTable) return;\n",
              "\n",
              "          const docLinkHtml = 'Like what you see? Visit the ' +\n",
              "            '<a target=\"_blank\" href=https://colab.research.google.com/notebooks/data_table.ipynb>data table notebook</a>'\n",
              "            + ' to learn more about interactive tables.';\n",
              "          element.innerHTML = '';\n",
              "          dataTable['output_type'] = 'display_data';\n",
              "          await google.colab.output.renderOutput(dataTable, element);\n",
              "          const docLink = document.createElement('div');\n",
              "          docLink.innerHTML = docLinkHtml;\n",
              "          element.appendChild(docLink);\n",
              "        }\n",
              "      </script>\n",
              "    </div>\n",
              "  </div>\n",
              "  "
            ],
            "text/plain": [
              "                 index               0\n",
              "0                   id          object\n",
              "1            vendor_id           int64\n",
              "2      pickup_datetime  datetime64[ns]\n",
              "3     dropoff_datetime  datetime64[ns]\n",
              "4      passenger_count           int64\n",
              "5     pickup_longitude         float64\n",
              "6      pickup_latitude         float64\n",
              "7    dropoff_longitude         float64\n",
              "8     dropoff_latitude         float64\n",
              "9   store_and_fwd_flag          object\n",
              "10       trip_duration           int64\n",
              "11             weekday           int64\n",
              "12               month           int64\n",
              "13         weekday_num           int64\n",
              "14         pickup_hour           int64\n",
              "15            distance         float64\n",
              "16               speed         float64"
            ]
          },
          "execution_count": 22,
          "metadata": {},
          "output_type": "execute_result"
        }
      ],
      "source": [
        "#Check the type of each variable\n",
        "df.dtypes.reset_index()"
      ]
    },
    {
      "cell_type": "code",
      "execution_count": null,
      "metadata": {
        "id": "ZNgxPzej2lgB"
      },
      "outputs": [],
      "source": [
        "#Dummify all the categorical features like \"store_and_fwd_flag, vendor_id, month, weekday_num, pickup_hour, passenger_count\" except the label i.e. \"trip_duration\"\n",
        "\n",
        "dummy = pd.get_dummies(df.store_and_fwd_flag, prefix='flag')\n",
        "dummy.drop(dummy.columns[0], axis=1, inplace=True) #avoid dummy trap\n",
        "df = pd.concat([df,dummy], axis = 1)\n",
        "\n",
        "dummy = pd.get_dummies(df.vendor_id, prefix='vendor_id')\n",
        "dummy.drop(dummy.columns[0], axis=1, inplace=True) #avoid dummy trap\n",
        "df = pd.concat([df,dummy], axis = 1)\n",
        "\n",
        "dummy = pd.get_dummies(df.month, prefix='month')\n",
        "dummy.drop(dummy.columns[0], axis=1, inplace=True) #avoid dummy trap\n",
        "df = pd.concat([df,dummy], axis = 1)\n",
        "\n",
        "dummy = pd.get_dummies(df.weekday_num, prefix='weekday_num')\n",
        "dummy.drop(dummy.columns[0], axis=1, inplace=True) #avoid dummy trap\n",
        "df = pd.concat([df,dummy], axis = 1)\n",
        "\n",
        "dummy = pd.get_dummies(df.pickup_hour, prefix='pickup_hour')\n",
        "dummy.drop(dummy.columns[0], axis=1, inplace=True) #avoid dummy trap\n",
        "df = pd.concat([df,dummy], axis = 1)\n",
        "\n",
        "dummy = pd.get_dummies(df.passenger_count, prefix='passenger_count')\n",
        "dummy.drop(dummy.columns[0], axis=1, inplace=True) #avoid dummy trap\n",
        "df = pd.concat([df,dummy], axis = 1)"
      ]
    },
    {
      "cell_type": "code",
      "execution_count": null,
      "metadata": {
        "colab": {
          "base_uri": "https://localhost:8080/",
          "height": 386
        },
        "id": "F_DgOGDP3XCK",
        "outputId": "8fd066af-8c91-4185-a475-bb9869767894"
      },
      "outputs": [
        {
          "data": {
            "text/html": [
              "\n",
              "  <div id=\"df-c508eb5c-cba5-4a98-8448-ea4ef86ceb73\">\n",
              "    <div class=\"colab-df-container\">\n",
              "      <div>\n",
              "<style scoped>\n",
              "    .dataframe tbody tr th:only-of-type {\n",
              "        vertical-align: middle;\n",
              "    }\n",
              "\n",
              "    .dataframe tbody tr th {\n",
              "        vertical-align: top;\n",
              "    }\n",
              "\n",
              "    .dataframe thead th {\n",
              "        text-align: right;\n",
              "    }\n",
              "</style>\n",
              "<table border=\"1\" class=\"dataframe\">\n",
              "  <thead>\n",
              "    <tr style=\"text-align: right;\">\n",
              "      <th></th>\n",
              "      <th>id</th>\n",
              "      <th>vendor_id</th>\n",
              "      <th>pickup_datetime</th>\n",
              "      <th>dropoff_datetime</th>\n",
              "      <th>passenger_count</th>\n",
              "      <th>pickup_longitude</th>\n",
              "      <th>pickup_latitude</th>\n",
              "      <th>dropoff_longitude</th>\n",
              "      <th>dropoff_latitude</th>\n",
              "      <th>store_and_fwd_flag</th>\n",
              "      <th>...</th>\n",
              "      <th>pickup_hour_23</th>\n",
              "      <th>passenger_count_1</th>\n",
              "      <th>passenger_count_2</th>\n",
              "      <th>passenger_count_3</th>\n",
              "      <th>passenger_count_4</th>\n",
              "      <th>passenger_count_5</th>\n",
              "      <th>passenger_count_6</th>\n",
              "      <th>passenger_count_7</th>\n",
              "      <th>passenger_count_8</th>\n",
              "      <th>passenger_count_9</th>\n",
              "    </tr>\n",
              "  </thead>\n",
              "  <tbody>\n",
              "    <tr>\n",
              "      <th>0</th>\n",
              "      <td>id2875421</td>\n",
              "      <td>2</td>\n",
              "      <td>2016-03-14 17:24:55</td>\n",
              "      <td>2016-03-14 17:32:30</td>\n",
              "      <td>1</td>\n",
              "      <td>-73.982155</td>\n",
              "      <td>40.767937</td>\n",
              "      <td>-73.964630</td>\n",
              "      <td>40.765602</td>\n",
              "      <td>N</td>\n",
              "      <td>...</td>\n",
              "      <td>0</td>\n",
              "      <td>1</td>\n",
              "      <td>0</td>\n",
              "      <td>0</td>\n",
              "      <td>0</td>\n",
              "      <td>0</td>\n",
              "      <td>0</td>\n",
              "      <td>0</td>\n",
              "      <td>0</td>\n",
              "      <td>0</td>\n",
              "    </tr>\n",
              "    <tr>\n",
              "      <th>1</th>\n",
              "      <td>id2377394</td>\n",
              "      <td>1</td>\n",
              "      <td>2016-06-12 00:43:35</td>\n",
              "      <td>2016-06-12 00:54:38</td>\n",
              "      <td>1</td>\n",
              "      <td>-73.980415</td>\n",
              "      <td>40.738564</td>\n",
              "      <td>-73.999481</td>\n",
              "      <td>40.731152</td>\n",
              "      <td>N</td>\n",
              "      <td>...</td>\n",
              "      <td>0</td>\n",
              "      <td>1</td>\n",
              "      <td>0</td>\n",
              "      <td>0</td>\n",
              "      <td>0</td>\n",
              "      <td>0</td>\n",
              "      <td>0</td>\n",
              "      <td>0</td>\n",
              "      <td>0</td>\n",
              "      <td>0</td>\n",
              "    </tr>\n",
              "    <tr>\n",
              "      <th>2</th>\n",
              "      <td>id3858529</td>\n",
              "      <td>2</td>\n",
              "      <td>2016-01-19 11:35:24</td>\n",
              "      <td>2016-01-19 12:10:48</td>\n",
              "      <td>1</td>\n",
              "      <td>-73.979027</td>\n",
              "      <td>40.763939</td>\n",
              "      <td>-74.005333</td>\n",
              "      <td>40.710087</td>\n",
              "      <td>N</td>\n",
              "      <td>...</td>\n",
              "      <td>0</td>\n",
              "      <td>1</td>\n",
              "      <td>0</td>\n",
              "      <td>0</td>\n",
              "      <td>0</td>\n",
              "      <td>0</td>\n",
              "      <td>0</td>\n",
              "      <td>0</td>\n",
              "      <td>0</td>\n",
              "      <td>0</td>\n",
              "    </tr>\n",
              "    <tr>\n",
              "      <th>3</th>\n",
              "      <td>id3504673</td>\n",
              "      <td>2</td>\n",
              "      <td>2016-04-06 19:32:31</td>\n",
              "      <td>2016-04-06 19:39:40</td>\n",
              "      <td>1</td>\n",
              "      <td>-74.010040</td>\n",
              "      <td>40.719971</td>\n",
              "      <td>-74.012268</td>\n",
              "      <td>40.706718</td>\n",
              "      <td>N</td>\n",
              "      <td>...</td>\n",
              "      <td>0</td>\n",
              "      <td>1</td>\n",
              "      <td>0</td>\n",
              "      <td>0</td>\n",
              "      <td>0</td>\n",
              "      <td>0</td>\n",
              "      <td>0</td>\n",
              "      <td>0</td>\n",
              "      <td>0</td>\n",
              "      <td>0</td>\n",
              "    </tr>\n",
              "    <tr>\n",
              "      <th>4</th>\n",
              "      <td>id2181028</td>\n",
              "      <td>2</td>\n",
              "      <td>2016-03-26 13:30:55</td>\n",
              "      <td>2016-03-26 13:38:10</td>\n",
              "      <td>1</td>\n",
              "      <td>-73.973053</td>\n",
              "      <td>40.793209</td>\n",
              "      <td>-73.972923</td>\n",
              "      <td>40.782520</td>\n",
              "      <td>N</td>\n",
              "      <td>...</td>\n",
              "      <td>0</td>\n",
              "      <td>1</td>\n",
              "      <td>0</td>\n",
              "      <td>0</td>\n",
              "      <td>0</td>\n",
              "      <td>0</td>\n",
              "      <td>0</td>\n",
              "      <td>0</td>\n",
              "      <td>0</td>\n",
              "      <td>0</td>\n",
              "    </tr>\n",
              "  </tbody>\n",
              "</table>\n",
              "<p>5 rows × 62 columns</p>\n",
              "</div>\n",
              "      <button class=\"colab-df-convert\" onclick=\"convertToInteractive('df-c508eb5c-cba5-4a98-8448-ea4ef86ceb73')\"\n",
              "              title=\"Convert this dataframe to an interactive table.\"\n",
              "              style=\"display:none;\">\n",
              "        \n",
              "  <svg xmlns=\"http://www.w3.org/2000/svg\" height=\"24px\"viewBox=\"0 0 24 24\"\n",
              "       width=\"24px\">\n",
              "    <path d=\"M0 0h24v24H0V0z\" fill=\"none\"/>\n",
              "    <path d=\"M18.56 5.44l.94 2.06.94-2.06 2.06-.94-2.06-.94-.94-2.06-.94 2.06-2.06.94zm-11 1L8.5 8.5l.94-2.06 2.06-.94-2.06-.94L8.5 2.5l-.94 2.06-2.06.94zm10 10l.94 2.06.94-2.06 2.06-.94-2.06-.94-.94-2.06-.94 2.06-2.06.94z\"/><path d=\"M17.41 7.96l-1.37-1.37c-.4-.4-.92-.59-1.43-.59-.52 0-1.04.2-1.43.59L10.3 9.45l-7.72 7.72c-.78.78-.78 2.05 0 2.83L4 21.41c.39.39.9.59 1.41.59.51 0 1.02-.2 1.41-.59l7.78-7.78 2.81-2.81c.8-.78.8-2.07 0-2.86zM5.41 20L4 18.59l7.72-7.72 1.47 1.35L5.41 20z\"/>\n",
              "  </svg>\n",
              "      </button>\n",
              "      \n",
              "  <style>\n",
              "    .colab-df-container {\n",
              "      display:flex;\n",
              "      flex-wrap:wrap;\n",
              "      gap: 12px;\n",
              "    }\n",
              "\n",
              "    .colab-df-convert {\n",
              "      background-color: #E8F0FE;\n",
              "      border: none;\n",
              "      border-radius: 50%;\n",
              "      cursor: pointer;\n",
              "      display: none;\n",
              "      fill: #1967D2;\n",
              "      height: 32px;\n",
              "      padding: 0 0 0 0;\n",
              "      width: 32px;\n",
              "    }\n",
              "\n",
              "    .colab-df-convert:hover {\n",
              "      background-color: #E2EBFA;\n",
              "      box-shadow: 0px 1px 2px rgba(60, 64, 67, 0.3), 0px 1px 3px 1px rgba(60, 64, 67, 0.15);\n",
              "      fill: #174EA6;\n",
              "    }\n",
              "\n",
              "    [theme=dark] .colab-df-convert {\n",
              "      background-color: #3B4455;\n",
              "      fill: #D2E3FC;\n",
              "    }\n",
              "\n",
              "    [theme=dark] .colab-df-convert:hover {\n",
              "      background-color: #434B5C;\n",
              "      box-shadow: 0px 1px 3px 1px rgba(0, 0, 0, 0.15);\n",
              "      filter: drop-shadow(0px 1px 2px rgba(0, 0, 0, 0.3));\n",
              "      fill: #FFFFFF;\n",
              "    }\n",
              "  </style>\n",
              "\n",
              "      <script>\n",
              "        const buttonEl =\n",
              "          document.querySelector('#df-c508eb5c-cba5-4a98-8448-ea4ef86ceb73 button.colab-df-convert');\n",
              "        buttonEl.style.display =\n",
              "          google.colab.kernel.accessAllowed ? 'block' : 'none';\n",
              "\n",
              "        async function convertToInteractive(key) {\n",
              "          const element = document.querySelector('#df-c508eb5c-cba5-4a98-8448-ea4ef86ceb73');\n",
              "          const dataTable =\n",
              "            await google.colab.kernel.invokeFunction('convertToInteractive',\n",
              "                                                     [key], {});\n",
              "          if (!dataTable) return;\n",
              "\n",
              "          const docLinkHtml = 'Like what you see? Visit the ' +\n",
              "            '<a target=\"_blank\" href=https://colab.research.google.com/notebooks/data_table.ipynb>data table notebook</a>'\n",
              "            + ' to learn more about interactive tables.';\n",
              "          element.innerHTML = '';\n",
              "          dataTable['output_type'] = 'display_data';\n",
              "          await google.colab.output.renderOutput(dataTable, element);\n",
              "          const docLink = document.createElement('div');\n",
              "          docLink.innerHTML = docLinkHtml;\n",
              "          element.appendChild(docLink);\n",
              "        }\n",
              "      </script>\n",
              "    </div>\n",
              "  </div>\n",
              "  "
            ],
            "text/plain": [
              "          id  vendor_id     pickup_datetime    dropoff_datetime  \\\n",
              "0  id2875421          2 2016-03-14 17:24:55 2016-03-14 17:32:30   \n",
              "1  id2377394          1 2016-06-12 00:43:35 2016-06-12 00:54:38   \n",
              "2  id3858529          2 2016-01-19 11:35:24 2016-01-19 12:10:48   \n",
              "3  id3504673          2 2016-04-06 19:32:31 2016-04-06 19:39:40   \n",
              "4  id2181028          2 2016-03-26 13:30:55 2016-03-26 13:38:10   \n",
              "\n",
              "   passenger_count  pickup_longitude  pickup_latitude  dropoff_longitude  \\\n",
              "0                1        -73.982155        40.767937         -73.964630   \n",
              "1                1        -73.980415        40.738564         -73.999481   \n",
              "2                1        -73.979027        40.763939         -74.005333   \n",
              "3                1        -74.010040        40.719971         -74.012268   \n",
              "4                1        -73.973053        40.793209         -73.972923   \n",
              "\n",
              "   dropoff_latitude store_and_fwd_flag  ...  pickup_hour_23  \\\n",
              "0         40.765602                  N  ...               0   \n",
              "1         40.731152                  N  ...               0   \n",
              "2         40.710087                  N  ...               0   \n",
              "3         40.706718                  N  ...               0   \n",
              "4         40.782520                  N  ...               0   \n",
              "\n",
              "   passenger_count_1  passenger_count_2  passenger_count_3  passenger_count_4  \\\n",
              "0                  1                  0                  0                  0   \n",
              "1                  1                  0                  0                  0   \n",
              "2                  1                  0                  0                  0   \n",
              "3                  1                  0                  0                  0   \n",
              "4                  1                  0                  0                  0   \n",
              "\n",
              "   passenger_count_5  passenger_count_6  passenger_count_7  passenger_count_8  \\\n",
              "0                  0                  0                  0                  0   \n",
              "1                  0                  0                  0                  0   \n",
              "2                  0                  0                  0                  0   \n",
              "3                  0                  0                  0                  0   \n",
              "4                  0                  0                  0                  0   \n",
              "\n",
              "   passenger_count_9  \n",
              "0                  0  \n",
              "1                  0  \n",
              "2                  0  \n",
              "3                  0  \n",
              "4                  0  \n",
              "\n",
              "[5 rows x 62 columns]"
            ]
          },
          "execution_count": 27,
          "metadata": {},
          "output_type": "execute_result"
        }
      ],
      "source": [
        "df.head()"
      ]
    },
    {
      "cell_type": "markdown",
      "metadata": {
        "id": "TQd4bC3o4mWu"
      },
      "source": [
        "Now our dataset is complete for the further analysis before we train our model with optimal variables."
      ]
    },
    {
      "cell_type": "markdown",
      "metadata": {
        "id": "7cD1UXXaYNhh"
      },
      "source": [
        "### **Handling missing values.**"
      ]
    },
    {
      "cell_type": "code",
      "execution_count": null,
      "metadata": {
        "colab": {
          "base_uri": "https://localhost:8080/"
        },
        "id": "HIBOYYMiX9w-",
        "outputId": "8926eb95-f3dd-4227-c6f8-2c4a6fa8a629"
      },
      "outputs": [
        {
          "data": {
            "text/plain": [
              "id                    0\n",
              "vendor_id             0\n",
              "pickup_datetime       0\n",
              "dropoff_datetime      0\n",
              "passenger_count       0\n",
              "pickup_longitude      0\n",
              "pickup_latitude       0\n",
              "dropoff_longitude     0\n",
              "dropoff_latitude      0\n",
              "store_and_fwd_flag    0\n",
              "trip_duration         0\n",
              "dtype: int64"
            ]
          },
          "execution_count": 24,
          "metadata": {},
          "output_type": "execute_result"
        }
      ],
      "source": [
        "#check null values\n",
        "df1.isnull().sum()"
      ]
    },
    {
      "cell_type": "markdown",
      "metadata": {
        "id": "x1OjfqRxYawf"
      },
      "source": [
        "As we can see there are no null values in our dataset."
      ]
    },
    {
      "cell_type": "code",
      "execution_count": null,
      "metadata": {
        "colab": {
          "base_uri": "https://localhost:8080/"
        },
        "id": "hYh8Gd0RX9ln",
        "outputId": "5ce3d7fc-be3e-48d6-e6d9-dbb89ed86b24"
      },
      "outputs": [
        {
          "data": {
            "text/plain": [
              "id2875421    1\n",
              "id2249290    1\n",
              "id2484008    1\n",
              "id3901436    1\n",
              "id1265174    1\n",
              "            ..\n",
              "id2478352    1\n",
              "id1159014    1\n",
              "id3007971    1\n",
              "id3965191    1\n",
              "id1209952    1\n",
              "Name: id, Length: 1458644, dtype: int64"
            ]
          },
          "execution_count": 25,
          "metadata": {},
          "output_type": "execute_result"
        }
      ],
      "source": [
        "df['id'].value_counts()"
      ]
    },
    {
      "cell_type": "markdown",
      "metadata": {
        "id": "SNrJZ22hcNx2"
      },
      "source": [
        "## **EDA**"
      ]
    },
    {
      "cell_type": "markdown",
      "metadata": {
        "id": "9EttjjYrgpEW"
      },
      "source": [
        "### **Total Trip per hour**"
      ]
    },
    {
      "cell_type": "code",
      "execution_count": null,
      "metadata": {
        "colab": {
          "background_save": true,
          "base_uri": "https://localhost:8080/",
          "height": 294
        },
        "id": "W9Uq59nGgyuU",
        "outputId": "235def06-1479-4e0a-eb09-de7dd3e1075e"
      },
      "outputs": [
        {
          "data": {
            "image/png": "[encoded data removed]",
            "text/plain": [
              "<Figure size 432x288 with 1 Axes>"
            ]
          },
          "metadata": {},
          "output_type": "display_data"
        }
      ],
      "source": [
        "sns.countplot(df.pickup_hour)\n",
        "plt.show()"
      ]
    },
    {
      "cell_type": "markdown",
      "metadata": {
        "id": "vVcXiTpahAXI"
      },
      "source": [
        "### **Inference**\n",
        "\n",
        "It's inline with the general trend of taxi pickups which starts increasing from 6AM in the morning and then declines from late evening i.e. around 8 PM. There is no unusual behavior here."
      ]
    },
    {
      "cell_type": "markdown",
      "metadata": {
        "id": "8cS0yBgbhiaO"
      },
      "source": [
        "### **Total trips per weekday**"
      ]
    },
    {
      "cell_type": "code",
      "execution_count": null,
      "metadata": {
        "colab": {
          "base_uri": "https://localhost:8080/",
          "height": 402
        },
        "id": "_jRdu6TEhncq",
        "outputId": "458092c0-f3da-444c-c88d-7fb2e0d81e5e"
      },
      "outputs": [
        {
          "data": {
            "image/png": "[encoded data removed]",
            "text/plain": [
              "<Figure size 576x432 with 1 Axes>"
            ]
          },
          "metadata": {},
          "output_type": "display_data"
        }
      ],
      "source": [
        "#Let's take a look now at the distribution of taxi pickups across the week.\n",
        "plt.figure(figsize = (8,6))\n",
        "sns.countplot(df.weekday_num)\n",
        "plt.xlabel(' Month ')\n",
        "plt.ylabel('Pickup counts')\n",
        "plt.show()"
      ]
    },
    {
      "cell_type": "markdown",
      "metadata": {
        "id": "Ot4uD8oLh9io"
      },
      "source": [
        "### **Observation**\n",
        "\n",
        "Here we can see an increasing trend of taxi pickups starting from Monday till Friday. The trend starts declining from saturday till monday which is normal where some office going people likes to stay at home for rest on the weekends."
      ]
    },
    {
      "cell_type": "markdown",
      "metadata": {
        "id": "ev4GfzAYdPLU"
      },
      "source": [
        "### **Trip Duration per hour**"
      ]
    },
    {
      "cell_type": "code",
      "execution_count": null,
      "metadata": {
        "colab": {
          "base_uri": "https://localhost:8080/",
          "height": 317
        },
        "id": "ThyPJ9decfHg",
        "outputId": "46780f51-aa05-4e98-bde5-4ed4f4c63d71"
      },
      "outputs": [
        {
          "data": {
            "image/png": "[encoded data removed]",
            "text/plain": [
              "<Figure size 432x288 with 1 Axes>"
            ]
          },
          "metadata": {},
          "output_type": "display_data"
        }
      ],
      "source": [
        "group1 = df.groupby('pickup_hour').trip_duration.mean()\n",
        "sns.pointplot(group1.index, group1.values)\n",
        "plt.ylabel('Trip Duration (seconds)')\n",
        "plt.xlabel('Pickup Hour')\n",
        "plt.show()"
      ]
    },
    {
      "cell_type": "markdown",
      "metadata": {
        "id": "nvDx-Empinjz"
      },
      "source": [
        "### **Observations**\n",
        "\n",
        "Average trip duration is lowest at 6 AM when there is minimal traffic on the roads.\n",
        "\n",
        "Average trip duration is generally highest around 3 PM during the busy streets\n",
        "\n",
        "Trip duration on an average is similar during early morning hours i.e. before 6 AM & late evening hours i.e. after 6 PM."
      ]
    },
    {
      "cell_type": "markdown",
      "metadata": {
        "id": "IPRPVO9heGjf"
      },
      "source": [
        "### **Trip Duration per weekdays**"
      ]
    },
    {
      "cell_type": "code",
      "execution_count": null,
      "metadata": {
        "colab": {
          "base_uri": "https://localhost:8080/",
          "height": 317
        },
        "id": "Sg8Ykkd6eaxr",
        "outputId": "0ef9ca39-b387-4a6e-f7f0-c0bb88d5f345"
      },
      "outputs": [
        {
          "data": {
            "image/png": "[encoded data removed]",
            "text/plain": [
              "<Figure size 432x288 with 1 Axes>"
            ]
          },
          "metadata": {},
          "output_type": "display_data"
        }
      ],
      "source": [
        "group2 = df.groupby('weekday_num').trip_duration.mean()\n",
        "sns.pointplot(group2.index, group2.values)\n",
        "plt.ylabel('Trip Duration (seconds)')\n",
        "plt.xlabel('Weekday')\n",
        "plt.show()"
      ]
    },
    {
      "cell_type": "markdown",
      "metadata": {
        "id": "E7z1Kf1Mi51t"
      },
      "source": [
        "We can see that trip duration is almost equally distributed across the week on a scale of 0-1000 minutes with minimal difference in the duration times. Also, it is observed that trip duration on thursday is longest among all days."
      ]
    },
    {
      "cell_type": "markdown",
      "metadata": {
        "id": "fU_RovLaefDx"
      },
      "source": [
        "### **Trip duration per month**"
      ]
    },
    {
      "cell_type": "code",
      "execution_count": null,
      "metadata": {
        "colab": {
          "base_uri": "https://localhost:8080/",
          "height": 317
        },
        "id": "ayASYJ0eeqTu",
        "outputId": "7ac6e888-1098-4777-f8f3-5f62ab56c04d"
      },
      "outputs": [
        {
          "data": {
            "image/png": "[encoded data removed]",
            "text/plain": [
              "<Figure size 432x288 with 1 Axes>"
            ]
          },
          "metadata": {},
          "output_type": "display_data"
        }
      ],
      "source": [
        "group3 = df.groupby('month').trip_duration.mean()\n",
        "sns.pointplot(group3.index, group3.values)\n",
        "plt.ylabel('Trip Duration (seconds)')\n",
        "plt.xlabel('Month')\n",
        "plt.show()"
      ]
    },
    {
      "cell_type": "markdown",
      "metadata": {
        "id": "ADkDhJihi_Zz"
      },
      "source": [
        "### **Observations**\n",
        "\n",
        "We can see an increasing trend in the average trip duration along with each subsequent month.\n",
        "\n",
        "The duration difference between each month is not much. It has increased gradually over a period of 6 months.\n",
        "\n",
        "It is lowest during february when winters starts declining.\n",
        "\n",
        "There might be some seasonal parameters like wind/rain which can be a factor of this gradual increase in trip duration over a period. Like May is generally the considered as the wettest month in NYC and which is inline with our visualization.\n",
        " As it generally takes longer on the roads due to traffic jams during rainy season. So natually the trip duration would increase towards April May and June."
      ]
    },
    {
      "cell_type": "markdown",
      "metadata": {
        "id": "aYBIuMP-ew2R"
      },
      "source": [
        "### **Trip Duration per vendor**"
      ]
    },
    {
      "cell_type": "code",
      "execution_count": null,
      "metadata": {
        "colab": {
          "base_uri": "https://localhost:8080/",
          "height": 317
        },
        "id": "4VKV-av_e7iU",
        "outputId": "66926f01-6357-4f46-9e2c-88b1f831b2d3"
      },
      "outputs": [
        {
          "data": {
            "image/png": "[encoded data removed]",
            "text/plain": [
              "<Figure size 432x288 with 1 Axes>"
            ]
          },
          "metadata": {},
          "output_type": "display_data"
        }
      ],
      "source": [
        "group4 = df.groupby('vendor_id').trip_duration.mean()\n",
        "sns.barplot(group4.index, group4.values)\n",
        "plt.ylabel('Trip Duration (seconds)')\n",
        "plt.xlabel('Vendor')\n",
        "plt.show()"
      ]
    },
    {
      "cell_type": "markdown",
      "metadata": {
        "id": "2dASSLnJjPGv"
      },
      "source": [
        "Vendor 2 takes the crown. Average trip duration for vendor 2 is higher than vendor 1 by approx 200 seconds i.e. atleast 3 minutes per trip."
      ]
    },
    {
      "cell_type": "markdown",
      "metadata": {
        "id": "2U4kkoTIe-SX"
      },
      "source": [
        "### **Distance per Hour**"
      ]
    },
    {
      "cell_type": "code",
      "execution_count": null,
      "metadata": {
        "colab": {
          "base_uri": "https://localhost:8080/",
          "height": 300
        },
        "id": "ix-bEQBtfLdf",
        "outputId": "6a2e365d-a440-4c63-f7f8-7d94afa85d92"
      },
      "outputs": [
        {
          "data": {
            "image/png": "[encoded data removed]",
            "text/plain": [
              "<Figure size 432x288 with 1 Axes>"
            ]
          },
          "metadata": {},
          "output_type": "display_data"
        }
      ],
      "source": [
        "group5 = df.groupby('pickup_hour').distance.mean()\n",
        "sns.pointplot(group5.index, group5.values)\n",
        "plt.ylabel('Distance (km)')\n",
        "plt.show()"
      ]
    },
    {
      "cell_type": "markdown",
      "metadata": {
        "id": "1zrv69JcjQqJ"
      },
      "source": [
        "### **Observations**\n",
        "\n",
        "Trip distance is highest during early morning hours which can account for some things like:\n",
        "Outstation trips taken during the weekends.\n",
        "Longer trips towards the city airport which is located in the outskirts of the city.\n",
        "\n",
        "Trip distance is fairly equal from morning till the evening varying around 3 - 3.5 kms.\n",
        "\n",
        "It starts increasing gradually towards the late night hours starting from evening till 5 AM and decrease steeply towards morning."
      ]
    },
    {
      "cell_type": "markdown",
      "metadata": {
        "id": "6ZpSh1sSfOgX"
      },
      "source": [
        "### **Distance per weekdays**"
      ]
    },
    {
      "cell_type": "code",
      "execution_count": null,
      "metadata": {
        "colab": {
          "base_uri": "https://localhost:8080/",
          "height": 294
        },
        "id": "wWYNITB0fUMQ",
        "outputId": "25998db6-e9be-4944-c638-abc8ebd9983c"
      },
      "outputs": [
        {
          "data": {
            "image/png": "[encoded data removed]",
            "text/plain": [
              "<Figure size 432x288 with 1 Axes>"
            ]
          },
          "metadata": {},
          "output_type": "display_data"
        }
      ],
      "source": [
        "group6 = df.groupby('weekday_num').distance.mean()\n",
        "sns.pointplot(group6.index, group6.values)\n",
        "plt.ylabel('Distance (km)')\n",
        "plt.show()"
      ]
    },
    {
      "cell_type": "markdown",
      "metadata": {
        "id": "j9okA5aZjg9z"
      },
      "source": [
        "So it's a fairly equal distribution with average distance metric verying around 3.5 km/h with Sunday being at the top may be due to outstation trips or night trips towards the airport."
      ]
    },
    {
      "cell_type": "markdown",
      "metadata": {
        "id": "vKpxIp8Id_BP"
      },
      "source": [
        "### **Avarage speed per hour**"
      ]
    },
    {
      "cell_type": "code",
      "execution_count": null,
      "metadata": {
        "colab": {
          "base_uri": "https://localhost:8080/",
          "height": 294
        },
        "id": "cBbPAsjXZI-x",
        "outputId": "7e3c76e9-6d0e-4640-9d73-555fdc08b486"
      },
      "outputs": [
        {
          "data": {
            "image/png": "[encoded data removed]",
            "text/plain": [
              "<Figure size 432x288 with 1 Axes>"
            ]
          },
          "metadata": {},
          "output_type": "display_data"
        }
      ],
      "source": [
        "# Let's look at the average speed of NYC Taxi per hour\n",
        "group = df.groupby('pickup_hour').speed.mean()\n",
        "sns.pointplot(group.index, group.values)\n",
        "plt.show()"
      ]
    },
    {
      "cell_type": "markdown",
      "metadata": {
        "id": "AbCheuCx5JGb"
      },
      "source": [
        "### **Observation**\n",
        "\n",
        "\n",
        "*   The average trend is totally inline with the normal circumstances.\n",
        "*   Average speed tend to increase after late evening and continues to increase gradually till the late early morning hours.\n",
        "*   Average taxi speed is highest at 5 AM in the morning, then it declines steeply as the office hours approaches.\n",
        "*   Average taxi speed is more or less same during the office hours i.e. from 8 AM till 6PM in the evening."
      ]
    },
    {
      "cell_type": "markdown",
      "metadata": {
        "id": "68vmEPW142yO"
      },
      "source": [
        "### **Average speed per weekday**\n",
        "Let's visualize that on an average what is the speed of a taxi on any given weekday."
      ]
    },
    {
      "cell_type": "code",
      "execution_count": null,
      "metadata": {
        "colab": {
          "base_uri": "https://localhost:8080/",
          "height": 294
        },
        "id": "DqXdX-_y47tw",
        "outputId": "295c4399-af32-4b11-f547-2046fdad17f0"
      },
      "outputs": [
        {
          "data": {
            "image/png": "[encoded data removed]",
            "text/plain": [
              "<Figure size 432x288 with 1 Axes>"
            ]
          },
          "metadata": {},
          "output_type": "display_data"
        }
      ],
      "source": [
        "group10 = df.groupby('weekday_num').speed.mean()\n",
        "sns.pointplot(group10.index, group10.values)\n",
        "plt.show()"
      ]
    },
    {
      "cell_type": "markdown",
      "metadata": {
        "id": "ylFShMPo5saD"
      },
      "source": [
        "### **Observations**\n",
        "\n",
        "\n",
        "*   Average taxi speed is higher on weekend as compared to the weekdays which is obvious when there is mostly rush of office goers and business owners.\n",
        "*   Even on monday the average taxi speed is shown higher which is quite surprising when it is one of the most busiest day after the weekend. There can be several possibility for such behaviour\n",
        "      1.   Lot of customers who come back from outstation in early hours of Monday before 6 AM to attend office on time.\n",
        "      2.   Early morning hours customers who come from the airports after vacation to attend office/business on time for the coming week.\n",
        "*   There could be some more reasons as well which only a local must be aware of.\n",
        "We also can't deny the anomalies in the dataset. which is quite cumbersome to spot in such a large dataset.\n",
        "\n",
        "\n",
        "\n",
        "\n",
        "\n"
      ]
    },
    {
      "cell_type": "markdown",
      "metadata": {
        "id": "di0YXGK1ky0Q"
      },
      "source": [
        "# **Feature Selection**"
      ]
    },
    {
      "cell_type": "code",
      "execution_count": null,
      "metadata": {
        "colab": {
          "base_uri": "https://localhost:8080/"
        },
        "id": "vBTcpp1fkP5k",
        "outputId": "faac5ff5-e55d-4d3d-d4db-63c56534e221"
      },
      "outputs": [
        {
          "data": {
            "text/plain": [
              "[(0, 'id'),\n",
              " (1, 'vendor_id'),\n",
              " (2, 'pickup_datetime'),\n",
              " (3, 'dropoff_datetime'),\n",
              " (4, 'passenger_count'),\n",
              " (5, 'pickup_longitude'),\n",
              " (6, 'pickup_latitude'),\n",
              " (7, 'dropoff_longitude'),\n",
              " (8, 'dropoff_latitude'),\n",
              " (9, 'store_and_fwd_flag'),\n",
              " (10, 'trip_duration'),\n",
              " (11, 'weekday'),\n",
              " (12, 'month'),\n",
              " (13, 'weekday_num'),\n",
              " (14, 'pickup_hour'),\n",
              " (15, 'distance'),\n",
              " (16, 'speed'),\n",
              " (17, 'flag_Y'),\n",
              " (18, 'vendor_id_2'),\n",
              " (19, 'month_2'),\n",
              " (20, 'month_3'),\n",
              " (21, 'month_4'),\n",
              " (22, 'month_5'),\n",
              " (23, 'month_6'),\n",
              " (24, 'weekday_num_1'),\n",
              " (25, 'weekday_num_2'),\n",
              " (26, 'weekday_num_3'),\n",
              " (27, 'weekday_num_4'),\n",
              " (28, 'weekday_num_5'),\n",
              " (29, 'weekday_num_6'),\n",
              " (30, 'pickup_hour_1'),\n",
              " (31, 'pickup_hour_2'),\n",
              " (32, 'pickup_hour_3'),\n",
              " (33, 'pickup_hour_4'),\n",
              " (34, 'pickup_hour_5'),\n",
              " (35, 'pickup_hour_6'),\n",
              " (36, 'pickup_hour_7'),\n",
              " (37, 'pickup_hour_8'),\n",
              " (38, 'pickup_hour_9'),\n",
              " (39, 'pickup_hour_10'),\n",
              " (40, 'pickup_hour_11'),\n",
              " (41, 'pickup_hour_12'),\n",
              " (42, 'pickup_hour_13'),\n",
              " (43, 'pickup_hour_14'),\n",
              " (44, 'pickup_hour_15'),\n",
              " (45, 'pickup_hour_16'),\n",
              " (46, 'pickup_hour_17'),\n",
              " (47, 'pickup_hour_18'),\n",
              " (48, 'pickup_hour_19'),\n",
              " (49, 'pickup_hour_20'),\n",
              " (50, 'pickup_hour_21'),\n",
              " (51, 'pickup_hour_22'),\n",
              " (52, 'pickup_hour_23'),\n",
              " (53, 'passenger_count_1'),\n",
              " (54, 'passenger_count_2'),\n",
              " (55, 'passenger_count_3'),\n",
              " (56, 'passenger_count_4'),\n",
              " (57, 'passenger_count_5'),\n",
              " (58, 'passenger_count_6'),\n",
              " (59, 'passenger_count_7'),\n",
              " (60, 'passenger_count_8'),\n",
              " (61, 'passenger_count_9')]"
            ]
          },
          "execution_count": 37,
          "metadata": {},
          "output_type": "execute_result"
        }
      ],
      "source": [
        "#First check the index of the features and label\n",
        "list(zip( range(0,len(df.columns)),df.columns))"
      ]
    },
    {
      "cell_type": "code",
      "execution_count": null,
      "metadata": {
        "id": "XcOOHsPhkfZN"
      },
      "outputs": [],
      "source": [
        "Y = df.iloc[:,10].values\n",
        "X = df.iloc[:,range(15,61)].values"
      ]
    },
    {
      "cell_type": "code",
      "execution_count": null,
      "metadata": {
        "colab": {
          "base_uri": "https://localhost:8080/"
        },
        "id": "SPgcszznkp-i",
        "outputId": "981ba5ad-bf1c-43da-e55b-b9f557bc97f2"
      },
      "outputs": [
        {
          "name": "stdout",
          "output_type": "stream",
          "text": [
            "Let's append 1458644 rows of 1's as the first column in the X array\n"
          ]
        }
      ],
      "source": [
        "print(\"Let's append {} rows of 1's as the first column in the X array\".format(X.shape[0]))"
      ]
    },
    {
      "cell_type": "code",
      "execution_count": null,
      "metadata": {
        "id": "IydrakNQkwMz"
      },
      "outputs": [],
      "source": [
        "X1 = np.append(arr = np.ones((X.shape[0],1)).astype(int), values = X, axis = 1)"
      ]
    },
    {
      "cell_type": "code",
      "execution_count": null,
      "metadata": {
        "colab": {
          "base_uri": "https://localhost:8080/"
        },
        "id": "j5Y0pTvCkx0P",
        "outputId": "01d97329-33b1-4d45-f017-54a21a564dec"
      },
      "outputs": [
        {
          "data": {
            "text/plain": [
              "(1458644, 47)"
            ]
          },
          "execution_count": 41,
          "metadata": {},
          "output_type": "execute_result"
        }
      ],
      "source": [
        "X1.shape"
      ]
    },
    {
      "cell_type": "code",
      "execution_count": null,
      "metadata": {
        "id": "qV-jgUHok2qo"
      },
      "outputs": [],
      "source": [
        "# X_opt = X1[:,[0,1,3,4,6,7,8,9,10,11]]\n",
        "# regressor_OLS = sm.OLS(endog = Y, exog = X_opt).fit()\n",
        "# regressor_OLS.summary()"
      ]
    },
    {
      "cell_type": "code",
      "execution_count": null,
      "metadata": {
        "colab": {
          "base_uri": "https://localhost:8080/",
          "height": 1000
        },
        "id": "Ele0ltULk_a7",
        "outputId": "089971cf-c6ca-4e9c-ac2a-e207e44bb147"
      },
      "outputs": [
        {
          "name": "stdout",
          "output_type": "stream",
          "text": [
            "Probability values of each feature \n",
            "\n",
            "[1.10746936e-002 0.00000000e+000 0.00000000e+000 9.68103956e-001\n",
            " 3.90406640e-108 7.63656654e-001 9.62608418e-001 2.61814546e-001\n",
            " 1.21237518e-002 1.05183138e-003 7.14565444e-007 2.45758471e-005\n",
            " 9.83647608e-008 2.26966030e-007 3.76503049e-007 2.68811164e-001\n",
            " 9.85903377e-001 6.81711561e-001 7.70603578e-001 6.28604631e-001\n",
            " 3.52248313e-003 5.01291190e-002 5.57667656e-002 6.91375063e-001\n",
            " 3.74768701e-001 5.46116266e-001 3.29409236e-001 6.87999006e-002\n",
            " 2.05262772e-002 5.42883549e-003 3.84379671e-005 7.33794379e-003\n",
            " 4.71587624e-002 1.08410327e-001 5.38780849e-001 2.00133738e-001\n",
            " 1.62760871e-001 1.20566049e-002 1.79415669e-001 1.00649017e-001\n",
            " 1.03696763e-001 1.12146123e-001 1.17022752e-001 1.05590029e-001\n",
            " 1.06330173e-001 5.20846372e-001]\n",
            "\n",
            "\n",
            "Feature at index 16 is removed \n",
            "\n",
            "44 dimensions remaining now... \n",
            "\n",
            "====================================================================\n",
            "\n",
            "Probability values of each feature \n",
            "\n",
            "[1.10641307e-002 0.00000000e+000 0.00000000e+000 9.68093143e-001\n",
            " 3.89440588e-108 7.63618842e-001 9.62580641e-001 2.61800307e-001\n",
            " 1.21223427e-002 1.05159474e-003 7.14513816e-007 2.45744251e-005\n",
            " 9.83456221e-008 2.26977457e-007 3.76172954e-007 2.68872114e-001\n",
            " 6.52086669e-001 7.51152370e-001 6.14939512e-001 2.24485562e-003\n",
            " 3.33749615e-002 3.21794515e-002 6.44392327e-001 3.07008325e-001\n",
            " 4.85942457e-001 2.61168258e-001 3.61753755e-002 7.73535059e-003\n",
            " 1.36389443e-003 2.29388708e-006 2.21936939e-003 2.18320855e-002\n",
            " 6.04765172e-002 4.81326611e-001 1.40902964e-001 1.08441455e-001\n",
            " 3.64018441e-003 1.27089032e-001 1.00657276e-001 1.03705400e-001\n",
            " 1.12154946e-001 1.17032154e-001 1.05598611e-001 1.06338510e-001\n",
            " 5.20852845e-001]\n",
            "\n",
            "\n",
            "Feature at index 3 is removed \n",
            "\n",
            "43 dimensions remaining now... \n",
            "\n",
            "====================================================================\n",
            "\n",
            "Probability values of each feature \n",
            "\n",
            "[1.10692704e-002 0.00000000e+000 0.00000000e+000 8.57588236e-109\n",
            " 7.63581938e-001 9.62492823e-001 2.61780399e-001 1.21188478e-002\n",
            " 1.05152208e-003 7.14323862e-007 2.45711792e-005 9.83457944e-008\n",
            " 2.26945278e-007 3.75891669e-007 2.68807638e-001 6.52095568e-001\n",
            " 7.51168482e-001 6.14955403e-001 2.24523435e-003 3.33773396e-002\n",
            " 3.21821991e-002 6.44427780e-001 3.07039503e-001 4.85983374e-001\n",
            " 2.61214532e-001 3.61855793e-002 7.73826776e-003 1.36453107e-003\n",
            " 2.29515721e-006 2.22053101e-003 2.18406210e-002 6.04896653e-002\n",
            " 4.81265355e-001 1.40898076e-001 1.08446880e-001 3.64069227e-003\n",
            " 1.27080001e-001 1.00686885e-001 1.03735548e-001 1.12187361e-001\n",
            " 1.17064600e-001 1.05629351e-001 1.06369425e-001 5.20873435e-001]\n",
            "\n",
            "\n",
            "Feature at index 5 is removed \n",
            "\n",
            "42 dimensions remaining now... \n",
            "\n",
            "====================================================================\n",
            "\n",
            "Probability values of each feature \n",
            "\n",
            "[1.10483509e-002 0.00000000e+000 0.00000000e+000 8.58371385e-109\n",
            " 7.46563667e-001 1.97424589e-001 3.55201896e-003 1.45347027e-004\n",
            " 7.10413381e-007 2.44656533e-005 9.77614194e-008 2.26837458e-007\n",
            " 3.76110748e-007 2.68971264e-001 6.52246171e-001 7.51217195e-001\n",
            " 6.14960516e-001 2.24572095e-003 3.33838073e-002 3.21871140e-002\n",
            " 6.44382157e-001 3.07017469e-001 4.85944192e-001 2.61210443e-001\n",
            " 3.61832933e-002 7.73768469e-003 1.36467041e-003 2.29621348e-006\n",
            " 2.22099109e-003 2.18435637e-002 6.04799331e-002 4.81323294e-001\n",
            " 1.40913575e-001 1.08469652e-001 3.63969997e-003 1.27121717e-001\n",
            " 1.00696764e-001 1.03745784e-001 1.12198627e-001 1.17075901e-001\n",
            " 1.05639021e-001 1.06379365e-001 5.20880035e-001]\n",
            "\n",
            "\n",
            "Feature at index 15 is removed \n",
            "\n",
            "41 dimensions remaining now... \n",
            "\n",
            "====================================================================\n",
            "\n",
            "Probability values of each feature \n",
            "\n",
            "[1.09531893e-002 0.00000000e+000 0.00000000e+000 8.93135114e-109\n",
            " 7.47162248e-001 1.97541887e-001 3.55517206e-003 1.45868847e-004\n",
            " 7.12789266e-007 2.45393118e-005 9.81701953e-008 2.26582726e-007\n",
            " 3.66320834e-007 2.66149573e-001 6.94262697e-001 5.73285893e-001\n",
            " 1.65060385e-003 2.44297371e-002 2.13794615e-002 6.96502179e-001\n",
            " 3.31138938e-001 5.25864330e-001 2.81080235e-001 3.66278225e-002\n",
            " 7.31859304e-003 1.17484691e-003 1.36375391e-006 2.00668676e-003\n",
            " 2.15563210e-002 6.18277574e-002 4.02987316e-001 1.01743177e-001\n",
            " 7.58520184e-002 3.26309072e-003 9.28568572e-002 1.00812884e-001\n",
            " 1.03861942e-001 1.12326283e-001 1.17201547e-001 1.05763092e-001\n",
            " 1.06507134e-001 5.20955735e-001]\n",
            "\n",
            "\n",
            "Feature at index 4 is removed \n",
            "\n",
            "40 dimensions remaining now... \n",
            "\n",
            "====================================================================\n",
            "\n",
            "Probability values of each feature \n",
            "\n",
            "[1.08817617e-002 0.00000000e+000 0.00000000e+000 8.93624260e-109\n",
            " 2.10213336e-001 2.89727058e-003 9.34581646e-005 7.40632562e-007\n",
            " 2.53920710e-005 1.01980513e-007 2.35374944e-007 3.76578782e-007\n",
            " 2.68947517e-001 6.94084993e-001 5.72963323e-001 1.65088551e-003\n",
            " 2.44360046e-002 2.13897049e-002 6.95825870e-001 3.30539125e-001\n",
            " 5.25343881e-001 2.80686498e-001 3.65455885e-002 7.29457558e-003\n",
            " 1.17176157e-003 1.35907160e-006 2.00444546e-003 2.15177665e-002\n",
            " 6.16678138e-002 4.03428839e-001 1.01846438e-001 7.59882089e-002\n",
            " 3.25007837e-003 9.30443410e-002 1.00820103e-001 1.03868387e-001\n",
            " 1.12330926e-001 1.17198500e-001 1.05768792e-001 1.06513946e-001\n",
            " 5.20958804e-001]\n",
            "\n",
            "\n",
            "Feature at index 18 is removed \n",
            "\n",
            "39 dimensions remaining now... \n",
            "\n",
            "====================================================================\n",
            "\n",
            "Probability values of each feature \n",
            "\n",
            "[1.07142019e-002 0.00000000e+000 0.00000000e+000 8.50786881e-109\n",
            " 2.10170085e-001 2.90815815e-003 9.43256238e-005 7.36793372e-007\n",
            " 2.54818965e-005 1.03598666e-007 2.46453201e-007 4.07563699e-007\n",
            " 2.83112718e-001 7.63896607e-001 5.09077838e-001 9.50050639e-004\n",
            " 1.29913218e-002 8.63690918e-003 3.72845057e-001 5.98978740e-001\n",
            " 3.14513196e-001 3.52557940e-002 5.99595912e-003 7.66038111e-004\n",
            " 3.72901984e-007 1.49065543e-003 1.94685714e-002 6.04268948e-002\n",
            " 2.71206516e-001 4.88818141e-002 3.38939476e-002 2.33034573e-003\n",
            " 4.73567454e-002 1.01038083e-001 1.04060943e-001 1.12534522e-001\n",
            " 1.17410334e-001 1.05982032e-001 1.06742718e-001 5.21121921e-001]\n",
            "\n",
            "\n",
            "Feature at index 13 is removed \n",
            "\n",
            "38 dimensions remaining now... \n",
            "\n",
            "====================================================================\n",
            "\n",
            "Probability values of each feature \n",
            "\n",
            "[1.06596770e-002 0.00000000e+000 0.00000000e+000 8.74863349e-109\n",
            " 2.10080145e-001 2.90477293e-003 9.43279541e-005 7.38697529e-007\n",
            " 2.54954217e-005 1.03602095e-007 2.43168016e-007 3.77830050e-007\n",
            " 2.77375216e-001 4.86204380e-001 8.01862491e-004 1.07410269e-002\n",
            " 6.59123498e-003 3.95187402e-001 6.32254715e-001 3.33801227e-001\n",
            " 3.69266696e-002 6.11936782e-003 7.50268710e-004 3.06123838e-007\n",
            " 1.49494206e-003 2.02006187e-002 6.35005394e-002 2.34815109e-001\n",
            " 3.81788181e-002 2.58893188e-002 2.32055290e-003 3.76625324e-002\n",
            " 1.01070373e-001 1.04098720e-001 1.12579011e-001 1.17458435e-001\n",
            " 1.06019968e-001 1.06776669e-001 5.21135032e-001]\n",
            "\n",
            "\n",
            "Feature at index 18 is removed \n",
            "\n",
            "37 dimensions remaining now... \n",
            "\n",
            "====================================================================\n",
            "\n",
            "Probability values of each feature \n",
            "\n",
            "[1.05611892e-002 0.00000000e+000 0.00000000e+000 8.13028163e-109\n",
            " 2.09974771e-001 2.90721605e-003 9.48933127e-005 7.37681706e-007\n",
            " 2.56347557e-005 1.05000296e-007 2.53915474e-007 4.03963391e-007\n",
            " 2.85197117e-001 4.45531583e-001 5.82391271e-004 7.26073788e-003\n",
            " 3.67768848e-003 4.50186106e-001 3.81469418e-001 4.21989015e-002\n",
            " 6.76916548e-003 7.80275989e-004 2.39294060e-007 1.61365261e-003\n",
            " 2.28339197e-002 7.29428048e-002 1.70214036e-001 2.24392565e-002\n",
            " 1.45502576e-002 2.47888993e-003 2.34159688e-002 1.01328978e-001\n",
            " 1.04346412e-001 1.12840808e-001 1.17731345e-001 1.06283806e-001\n",
            " 1.07055410e-001 5.21896916e-001]\n",
            "\n",
            "\n",
            "Feature at index 37 is removed \n",
            "\n",
            "36 dimensions remaining now... \n",
            "\n",
            "====================================================================\n",
            "\n",
            "Probability values of each feature \n",
            "\n",
            "[1.32434024e-002 0.00000000e+000 0.00000000e+000 8.29611667e-109\n",
            " 2.10247095e-001 2.91302766e-003 9.52332155e-005 7.40460842e-007\n",
            " 2.56513905e-005 1.05028432e-007 2.53873549e-007 4.05042205e-007\n",
            " 2.85442222e-001 4.45687846e-001 5.83777352e-004 7.26148961e-003\n",
            " 3.67737324e-003 4.50133791e-001 3.81408639e-001 4.21763007e-002\n",
            " 6.76823311e-003 7.79675662e-004 2.39167760e-007 1.61239843e-003\n",
            " 2.28247105e-002 7.29290748e-002 1.69990392e-001 2.24485308e-002\n",
            " 1.45586526e-002 2.48714897e-003 2.34333609e-002 1.24355924e-001\n",
            " 1.27983440e-001 1.38175338e-001 1.44023909e-001 1.30307779e-001\n",
            " 1.31230430e-001]\n",
            "\n",
            "\n",
            "Feature at index 17 is removed \n",
            "\n",
            "35 dimensions remaining now... \n",
            "\n",
            "====================================================================\n",
            "\n",
            "Probability values of each feature \n",
            "\n",
            "[1.30741311e-002 0.00000000e+000 0.00000000e+000 7.77149390e-109\n",
            " 2.09699198e-001 2.91257797e-003 9.55907848e-005 7.39844405e-007\n",
            " 2.59568086e-005 1.08198397e-007 2.71671394e-007 4.65605345e-007\n",
            " 3.02472724e-001 3.99913585e-001 4.10649209e-004 4.65968103e-003\n",
            " 1.91034923e-003 4.60825885e-001 5.52196282e-002 9.09500432e-003\n",
            " 1.05898067e-003 3.04866251e-007 2.17712607e-003 3.03459533e-002\n",
            " 9.58264180e-002 1.13149428e-001 1.20728422e-002 7.48860446e-003\n",
            " 3.37799838e-003 1.35249988e-002 1.24666721e-001 1.28253914e-001\n",
            " 1.38455108e-001 1.44308997e-001 1.30620775e-001 1.31555753e-001]\n",
            "\n",
            "\n",
            "Feature at index 17 is removed \n",
            "\n",
            "34 dimensions remaining now... \n",
            "\n",
            "====================================================================\n",
            "\n",
            "Probability values of each feature \n",
            "\n",
            "[1.29478735e-002 0.00000000e+000 0.00000000e+000 7.33166837e-109\n",
            " 2.09850436e-001 2.90774367e-003 9.57298079e-005 7.37646319e-007\n",
            " 2.61037188e-005 1.09733870e-007 2.84005750e-007 4.89804450e-007\n",
            " 3.07085040e-001 3.64738186e-001 3.11321061e-004 3.27872624e-003\n",
            " 1.12948792e-003 6.91734818e-002 1.17609375e-002 1.39994843e-003\n",
            " 3.99582411e-007 2.84206019e-003 3.86622226e-002 1.20187968e-001\n",
            " 7.93238856e-002 7.15169476e-003 4.28150443e-003 4.44014191e-003\n",
            " 8.52699234e-003 1.24916250e-001 1.28510085e-001 1.38721260e-001\n",
            " 1.44589564e-001 1.30876970e-001 1.31825385e-001]\n",
            "\n",
            "\n",
            "Feature at index 13 is removed \n",
            "\n",
            "33 dimensions remaining now... \n",
            "\n",
            "====================================================================\n",
            "\n",
            "Probability values of each feature \n",
            "\n",
            "[1.30480848e-002 0.00000000e+000 0.00000000e+000 6.18749262e-109\n",
            " 2.09021594e-001 2.92334337e-003 9.60343305e-005 7.28530534e-007\n",
            " 2.58880590e-005 1.09071938e-007 2.93094289e-007 5.36297331e-007\n",
            " 3.19216410e-001 3.52633152e-004 3.76996983e-003 1.34823934e-003\n",
            " 5.90999687e-002 9.55778573e-003 1.07705238e-003 2.63627925e-007\n",
            " 2.25483005e-003 3.23079140e-002 1.03030314e-001 9.13417640e-002\n",
            " 8.60732920e-003 5.19782359e-003 3.46084572e-003 1.01509128e-002\n",
            " 1.25170341e-001 1.28768960e-001 1.38978419e-001 1.44848171e-001\n",
            " 1.31120202e-001 1.32066747e-001]\n",
            "\n",
            "\n",
            "Feature at index 12 is removed \n",
            "\n",
            "32 dimensions remaining now... \n",
            "\n",
            "====================================================================\n",
            "\n",
            "Probability values of each feature \n",
            "\n",
            "[1.25234097e-002 0.00000000e+000 0.00000000e+000 6.37948005e-109\n",
            " 2.07261806e-001 2.87051786e-003 9.68776045e-005 2.32228778e-007\n",
            " 1.63541999e-005 2.01792683e-008 6.35810284e-008 1.28659719e-007\n",
            " 3.32590545e-004 3.23923665e-003 1.08372724e-003 6.08344637e-002\n",
            " 9.91650040e-003 1.14526078e-003 2.91638385e-007 2.38066119e-003\n",
            " 3.41726470e-002 1.09978013e-001 8.46390269e-002 7.70793883e-003\n",
            " 4.60144581e-003 3.82846507e-003 9.38502876e-003 1.24983534e-001\n",
            " 1.28681625e-001 1.38914086e-001 1.44809703e-001 1.30989355e-001\n",
            " 1.31911330e-001]\n",
            "\n",
            "\n",
            "Feature at index 4 is removed \n",
            "\n",
            "31 dimensions remaining now... \n",
            "\n",
            "====================================================================\n",
            "\n",
            "Probability values of each feature \n",
            "\n",
            "[1.23491704e-002 0.00000000e+000 0.00000000e+000 7.13919704e-109\n",
            " 5.95764358e-003 2.15224868e-004 2.35197221e-007 1.68441157e-005\n",
            " 2.11227658e-008 5.52767363e-008 1.02830844e-007 3.31530273e-004\n",
            " 3.25638551e-003 1.09320628e-003 6.10842273e-002 1.00199410e-002\n",
            " 1.15718405e-003 2.98627859e-007 2.42294701e-003 3.45545216e-002\n",
            " 1.11235757e-001 8.45118404e-002 7.77530174e-003 4.63175774e-003\n",
            " 3.79702203e-003 9.51722893e-003 1.25249210e-001 1.28962781e-001\n",
            " 1.39218469e-001 1.45123165e-001 1.31259499e-001 1.32203404e-001]\n",
            "\n",
            "\n",
            "Feature at index 29 is removed \n",
            "\n",
            "30 dimensions remaining now... \n",
            "\n",
            "====================================================================\n",
            "\n",
            "Probability values of each feature \n",
            "\n",
            "[1.47372792e-091 0.00000000e+000 0.00000000e+000 7.31148659e-109\n",
            " 5.95066040e-003 2.16619693e-004 2.37932787e-007 1.70130251e-005\n",
            " 2.12480371e-008 5.54449092e-008 1.03426230e-007 3.39850255e-004\n",
            " 3.25356368e-003 1.08702256e-003 6.11760093e-002 1.01000788e-002\n",
            " 1.16068205e-003 3.01688875e-007 2.42733570e-003 3.46784524e-002\n",
            " 1.11768395e-001 8.46627958e-002 7.74735624e-003 4.62294321e-003\n",
            " 3.81122707e-003 9.52942662e-003 1.08376589e-001 2.15031141e-001\n",
            " 6.76731529e-001 3.31625033e-001 3.97684817e-001]\n",
            "\n",
            "\n",
            "Feature at index 28 is removed \n",
            "\n",
            "29 dimensions remaining now... \n",
            "\n",
            "====================================================================\n",
            "\n",
            "Probability values of each feature \n",
            "\n",
            "[3.71889522e-208 0.00000000e+000 0.00000000e+000 7.79176885e-109\n",
            " 5.95935164e-003 2.17125566e-004 2.38872140e-007 1.70705199e-005\n",
            " 2.13540904e-008 5.53606912e-008 1.02745081e-007 3.39215674e-004\n",
            " 3.25924126e-003 1.08539705e-003 6.12203145e-002 1.00757110e-002\n",
            " 1.15863017e-003 3.02608021e-007 2.42832545e-003 3.47488865e-002\n",
            " 1.11833589e-001 8.46605994e-002 7.76749569e-003 4.62673326e-003\n",
            " 3.80306302e-003 9.54722060e-003 3.02300980e-002 1.48330323e-001\n",
            " 3.41040641e-001 4.49301114e-001]\n",
            "\n",
            "\n",
            "Feature at index 29 is removed \n",
            "\n",
            "28 dimensions remaining now... \n",
            "\n",
            "====================================================================\n",
            "\n",
            "Probability values of each feature \n",
            "\n",
            "[1.01672553e-254 0.00000000e+000 0.00000000e+000 1.66824270e-109\n",
            " 5.89965205e-003 2.15256960e-004 2.47796739e-007 1.75588449e-005\n",
            " 2.22500480e-008 5.63657274e-008 1.01059376e-007 3.34695632e-004\n",
            " 3.21790293e-003 1.07068716e-003 6.12266461e-002 1.00521091e-002\n",
            " 1.15864261e-003 2.99415628e-007 2.40550255e-003 3.42857303e-002\n",
            " 1.10599056e-001 8.56763733e-002 7.89556246e-003 4.72292709e-003\n",
            " 3.70414174e-003 9.72718360e-003 3.55241769e-002 2.17696604e-001\n",
            " 4.83753430e-001]\n",
            "\n",
            "\n",
            "Feature at index 28 is removed \n",
            "\n",
            "27 dimensions remaining now... \n",
            "\n",
            "====================================================================\n",
            "\n",
            "Probability values of each feature \n",
            "\n",
            "[4.46220894e-299 0.00000000e+000 0.00000000e+000 7.42897273e-110\n",
            " 5.87488101e-003 2.12717759e-004 2.54119174e-007 1.79372216e-005\n",
            " 2.28712254e-008 5.68947409e-008 9.93694738e-008 3.35889609e-004\n",
            " 3.20896947e-003 1.06680963e-003 6.10685159e-002 9.97379346e-003\n",
            " 1.15070826e-003 2.96144593e-007 2.37955271e-003 3.40641977e-002\n",
            " 1.10309802e-001 8.60976503e-002 7.91913600e-003 4.75115366e-003\n",
            " 3.68507239e-003 9.79339116e-003 4.04576356e-002 3.04810361e-001]\n",
            "\n",
            "\n",
            "Feature at index 27 is removed \n",
            "\n",
            "26 dimensions remaining now... \n",
            "\n",
            "====================================================================\n",
            "\n",
            "Probability values of each feature \n",
            "\n",
            "[0.00000000e+000 0.00000000e+000 0.00000000e+000 6.29494754e-114\n",
            " 5.90984698e-003 2.14159459e-004 2.47101570e-007 1.75351166e-005\n",
            " 2.23507230e-008 5.59751248e-008 1.00778459e-007 3.36886140e-004\n",
            " 3.21904946e-003 1.06892013e-003 6.12356679e-002 9.99992093e-003\n",
            " 1.15484349e-003 3.01398667e-007 2.41989008e-003 3.48133667e-002\n",
            " 1.11803933e-001 8.45912526e-002 7.74321470e-003 4.61370017e-003\n",
            " 3.81556977e-003 9.55277604e-003 6.90794528e-002]\n",
            "\n",
            "\n",
            "Feature at index 20 is removed \n",
            "\n",
            "25 dimensions remaining now... \n",
            "\n",
            "====================================================================\n",
            "\n",
            "Probability values of each feature \n",
            "\n",
            "[0.00000000e+000 0.00000000e+000 0.00000000e+000 5.66103657e-114\n",
            " 6.07717091e-003 2.24112985e-004 2.14483083e-007 1.61622311e-005\n",
            " 2.03605685e-008 5.52877314e-008 1.08888629e-007 2.02929159e-004\n",
            " 1.67081339e-003 4.06034330e-004 1.01534103e-001 1.87048575e-002\n",
            " 2.43777743e-003 8.17987252e-007 4.75739415e-003 6.09803532e-002\n",
            " 4.15835539e-002 2.89541137e-003 1.62885081e-003 7.70905813e-003\n",
            " 4.03053915e-003 6.72840446e-002]\n",
            "\n",
            "\n",
            "Feature at index 14 is removed \n",
            "\n",
            "24 dimensions remaining now... \n",
            "\n",
            "====================================================================\n",
            "\n",
            "Probability values of each feature \n",
            "\n",
            "[0.00000000e+000 0.00000000e+000 0.00000000e+000 5.61822577e-114\n",
            " 6.07759756e-003 2.26103860e-004 2.07723287e-007 1.55416701e-005\n",
            " 1.97956415e-008 5.71218527e-008 1.11979969e-007 1.36665719e-004\n",
            " 9.91971282e-004 1.86723418e-004 3.02756011e-002 4.39402661e-003\n",
            " 1.88444401e-006 8.06693700e-003 9.30015104e-002 2.25703042e-002\n",
            " 1.28106254e-003 6.90167284e-004 1.33026320e-002 1.97876676e-003\n",
            " 6.70607138e-002]\n",
            "\n",
            "\n",
            "Feature at index 18 is removed \n",
            "\n",
            "23 dimensions remaining now... \n",
            "\n",
            "====================================================================\n",
            "\n",
            "Probability values of each feature \n",
            "\n",
            "[0.00000000e+000 0.00000000e+000 0.00000000e+000 5.61185848e-114\n",
            " 6.15614493e-003 2.37683563e-004 1.96160349e-007 1.52697108e-005\n",
            " 2.00178233e-008 5.95541964e-008 1.20995278e-007 9.36161187e-005\n",
            " 5.98905389e-004 8.75659505e-005 4.65915933e-002 7.51330452e-003\n",
            " 4.12600564e-006 1.30299064e-002 1.21167426e-002 5.67962900e-004\n",
            " 2.93625181e-004 2.17723901e-002 9.77310535e-004 6.49965684e-002]\n",
            "\n",
            "\n",
            "Feature at index 23 is removed \n",
            "\n",
            "22 dimensions remaining now... \n",
            "\n"
          ]
        },
        {
          "data": {
            "text/html": [
              "<table class=\"simpletable\">\n",
              "<caption>OLS Regression Results</caption>\n",
              "<tr>\n",
              "  <th>Dep. Variable:</th>            <td>y</td>        <th>  R-squared:         </th>  <td>   0.015</td>  \n",
              "</tr>\n",
              "<tr>\n",
              "  <th>Model:</th>                   <td>OLS</td>       <th>  Adj. R-squared:    </th>  <td>   0.015</td>  \n",
              "</tr>\n",
              "<tr>\n",
              "  <th>Method:</th>             <td>Least Squares</td>  <th>  F-statistic:       </th>  <td>   1005.</td>  \n",
              "</tr>\n",
              "<tr>\n",
              "  <th>Date:</th>             <td>Sat, 06 Aug 2022</td> <th>  Prob (F-statistic):</th>   <td>  0.00</td>   \n",
              "</tr>\n",
              "<tr>\n",
              "  <th>Time:</th>                 <td>10:02:44</td>     <th>  Log-Likelihood:    </th> <td>-1.4550e+07</td>\n",
              "</tr>\n",
              "<tr>\n",
              "  <th>No. Observations:</th>      <td>1458644</td>     <th>  AIC:               </th>  <td>2.910e+07</td> \n",
              "</tr>\n",
              "<tr>\n",
              "  <th>Df Residuals:</th>          <td>1458621</td>     <th>  BIC:               </th>  <td>2.910e+07</td> \n",
              "</tr>\n",
              "<tr>\n",
              "  <th>Df Model:</th>              <td>    22</td>      <th>                     </th>      <td> </td>     \n",
              "</tr>\n",
              "<tr>\n",
              "  <th>Covariance Type:</th>      <td>nonrobust</td>    <th>                     </th>      <td> </td>     \n",
              "</tr>\n",
              "</table>\n",
              "<table class=\"simpletable\">\n",
              "<tr>\n",
              "    <td></td>       <th>coef</th>     <th>std err</th>      <th>t</th>      <th>P>|t|</th>  <th>[0.025</th>    <th>0.975]</th>  \n",
              "</tr>\n",
              "<tr>\n",
              "  <th>const</th> <td>  642.2426</td> <td>   12.041</td> <td>   53.338</td> <td> 0.000</td> <td>  618.643</td> <td>  665.843</td>\n",
              "</tr>\n",
              "<tr>\n",
              "  <th>x1</th>    <td>  164.8220</td> <td>    1.148</td> <td>  143.630</td> <td> 0.000</td> <td>  162.573</td> <td>  167.071</td>\n",
              "</tr>\n",
              "<tr>\n",
              "  <th>x2</th>    <td>  -28.9725</td> <td>    0.332</td> <td>  -87.332</td> <td> 0.000</td> <td>  -29.623</td> <td>  -28.322</td>\n",
              "</tr>\n",
              "<tr>\n",
              "  <th>x3</th>    <td>  203.8606</td> <td>    8.631</td> <td>   23.621</td> <td> 0.000</td> <td>  186.945</td> <td>  220.776</td>\n",
              "</tr>\n",
              "<tr>\n",
              "  <th>x4</th>    <td>   32.1097</td> <td>   11.697</td> <td>    2.745</td> <td> 0.006</td> <td>    9.184</td> <td>   55.035</td>\n",
              "</tr>\n",
              "<tr>\n",
              "  <th>x5</th>    <td>   44.0644</td> <td>   11.974</td> <td>    3.680</td> <td> 0.000</td> <td>   20.596</td> <td>   67.533</td>\n",
              "</tr>\n",
              "<tr>\n",
              "  <th>x6</th>    <td>   73.9658</td> <td>   14.315</td> <td>    5.167</td> <td> 0.000</td> <td>   45.909</td> <td>  102.022</td>\n",
              "</tr>\n",
              "<tr>\n",
              "  <th>x7</th>    <td>   60.7654</td> <td>   14.167</td> <td>    4.289</td> <td> 0.000</td> <td>   32.998</td> <td>   88.533</td>\n",
              "</tr>\n",
              "<tr>\n",
              "  <th>x8</th>    <td>   78.0896</td> <td>   13.997</td> <td>    5.579</td> <td> 0.000</td> <td>   50.655</td> <td>  105.524</td>\n",
              "</tr>\n",
              "<tr>\n",
              "  <th>x9</th>    <td>   75.0618</td> <td>   13.885</td> <td>    5.406</td> <td> 0.000</td> <td>   47.848</td> <td>  102.276</td>\n",
              "</tr>\n",
              "<tr>\n",
              "  <th>x10</th>   <td>   74.1684</td> <td>   13.917</td> <td>    5.329</td> <td> 0.000</td> <td>   46.892</td> <td>  101.445</td>\n",
              "</tr>\n",
              "<tr>\n",
              "  <th>x11</th>   <td> -168.7635</td> <td>   43.032</td> <td>   -3.922</td> <td> 0.000</td> <td> -253.105</td> <td>  -84.422</td>\n",
              "</tr>\n",
              "<tr>\n",
              "  <th>x12</th>   <td> -101.6475</td> <td>   29.312</td> <td>   -3.468</td> <td> 0.001</td> <td> -159.099</td> <td>  -44.196</td>\n",
              "</tr>\n",
              "<tr>\n",
              "  <th>x13</th>   <td>  -91.0567</td> <td>   23.014</td> <td>   -3.957</td> <td> 0.000</td> <td> -136.163</td> <td>  -45.950</td>\n",
              "</tr>\n",
              "<tr>\n",
              "  <th>x14</th>   <td>   40.8467</td> <td>   20.470</td> <td>    1.995</td> <td> 0.046</td> <td>    0.725</td> <td>   80.968</td>\n",
              "</tr>\n",
              "<tr>\n",
              "  <th>x15</th>   <td>   53.9859</td> <td>   20.123</td> <td>    2.683</td> <td> 0.007</td> <td>   14.546</td> <td>   93.426</td>\n",
              "</tr>\n",
              "<tr>\n",
              "  <th>x16</th>   <td>   94.3189</td> <td>   20.434</td> <td>    4.616</td> <td> 0.000</td> <td>   54.270</td> <td>  134.368</td>\n",
              "</tr>\n",
              "<tr>\n",
              "  <th>x17</th>   <td>   53.6104</td> <td>   21.478</td> <td>    2.496</td> <td> 0.013</td> <td>   11.515</td> <td>   95.706</td>\n",
              "</tr>\n",
              "<tr>\n",
              "  <th>x18</th>   <td>  -46.0098</td> <td>   18.444</td> <td>   -2.495</td> <td> 0.013</td> <td>  -82.159</td> <td>   -9.861</td>\n",
              "</tr>\n",
              "<tr>\n",
              "  <th>x19</th>   <td>  -65.3320</td> <td>   19.044</td> <td>   -3.431</td> <td> 0.001</td> <td> -102.658</td> <td>  -28.006</td>\n",
              "</tr>\n",
              "<tr>\n",
              "  <th>x20</th>   <td>  -68.4386</td> <td>   19.038</td> <td>   -3.595</td> <td> 0.000</td> <td> -105.753</td> <td>  -31.124</td>\n",
              "</tr>\n",
              "<tr>\n",
              "  <th>x21</th>   <td>   45.2142</td> <td>   19.424</td> <td>    2.328</td> <td> 0.020</td> <td>    7.144</td> <td>   83.285</td>\n",
              "</tr>\n",
              "<tr>\n",
              "  <th>x22</th>   <td>  -67.7949</td> <td>   20.730</td> <td>   -3.270</td> <td> 0.001</td> <td> -108.425</td> <td>  -27.165</td>\n",
              "</tr>\n",
              "</table>\n",
              "<table class=\"simpletable\">\n",
              "<tr>\n",
              "  <th>Omnibus:</th>       <td>8330196.946</td> <th>  Durbin-Watson:     </th>       <td>   2.000</td>      \n",
              "</tr>\n",
              "<tr>\n",
              "  <th>Prob(Omnibus):</th>   <td> 0.000</td>    <th>  Jarque-Bera (JB):  </th> <td>2368102451061102.500</td>\n",
              "</tr>\n",
              "<tr>\n",
              "  <th>Skew:</th>            <td>350.196</td>   <th>  Prob(JB):          </th>       <td>    0.00</td>      \n",
              "</tr>\n",
              "<tr>\n",
              "  <th>Kurtosis:</th>      <td>197394.513</td>  <th>  Cond. No.          </th>       <td>    213.</td>      \n",
              "</tr>\n",
              "</table><br/><br/>Warnings:<br/>[1] Standard Errors assume that the covariance matrix of the errors is correctly specified."
            ],
            "text/plain": [
              "<class 'statsmodels.iolib.summary.Summary'>\n",
              "\"\"\"\n",
              "                            OLS Regression Results                            \n",
              "==============================================================================\n",
              "Dep. Variable:                      y   R-squared:                       0.015\n",
              "Model:                            OLS   Adj. R-squared:                  0.015\n",
              "Method:                 Least Squares   F-statistic:                     1005.\n",
              "Date:                Sat, 06 Aug 2022   Prob (F-statistic):               0.00\n",
              "Time:                        10:02:44   Log-Likelihood:            -1.4550e+07\n",
              "No. Observations:             1458644   AIC:                         2.910e+07\n",
              "Df Residuals:                 1458621   BIC:                         2.910e+07\n",
              "Df Model:                          22                                         \n",
              "Covariance Type:            nonrobust                                         \n",
              "==============================================================================\n",
              "                 coef    std err          t      P>|t|      [0.025      0.975]\n",
              "------------------------------------------------------------------------------\n",
              "const        642.2426     12.041     53.338      0.000     618.643     665.843\n",
              "x1           164.8220      1.148    143.630      0.000     162.573     167.071\n",
              "x2           -28.9725      0.332    -87.332      0.000     -29.623     -28.322\n",
              "x3           203.8606      8.631     23.621      0.000     186.945     220.776\n",
              "x4            32.1097     11.697      2.745      0.006       9.184      55.035\n",
              "x5            44.0644     11.974      3.680      0.000      20.596      67.533\n",
              "x6            73.9658     14.315      5.167      0.000      45.909     102.022\n",
              "x7            60.7654     14.167      4.289      0.000      32.998      88.533\n",
              "x8            78.0896     13.997      5.579      0.000      50.655     105.524\n",
              "x9            75.0618     13.885      5.406      0.000      47.848     102.276\n",
              "x10           74.1684     13.917      5.329      0.000      46.892     101.445\n",
              "x11         -168.7635     43.032     -3.922      0.000    -253.105     -84.422\n",
              "x12         -101.6475     29.312     -3.468      0.001    -159.099     -44.196\n",
              "x13          -91.0567     23.014     -3.957      0.000    -136.163     -45.950\n",
              "x14           40.8467     20.470      1.995      0.046       0.725      80.968\n",
              "x15           53.9859     20.123      2.683      0.007      14.546      93.426\n",
              "x16           94.3189     20.434      4.616      0.000      54.270     134.368\n",
              "x17           53.6104     21.478      2.496      0.013      11.515      95.706\n",
              "x18          -46.0098     18.444     -2.495      0.013     -82.159      -9.861\n",
              "x19          -65.3320     19.044     -3.431      0.001    -102.658     -28.006\n",
              "x20          -68.4386     19.038     -3.595      0.000    -105.753     -31.124\n",
              "x21           45.2142     19.424      2.328      0.020       7.144      83.285\n",
              "x22          -67.7949     20.730     -3.270      0.001    -108.425     -27.165\n",
              "================================================================================\n",
              "Omnibus:                  8330196.946   Durbin-Watson:                     2.000\n",
              "Prob(Omnibus):                  0.000   Jarque-Bera (JB):   2368102451061102.500\n",
              "Skew:                         350.196   Prob(JB):                           0.00\n",
              "Kurtosis:                  197394.513   Cond. No.                           213.\n",
              "================================================================================\n",
              "\n",
              "Warnings:\n",
              "[1] Standard Errors assume that the covariance matrix of the errors is correctly specified.\n",
              "\"\"\""
            ]
          },
          "execution_count": 43,
          "metadata": {},
          "output_type": "execute_result"
        }
      ],
      "source": [
        "#Select all the features in X array\n",
        "X_opt = X1[:,range(0,46)]\n",
        "regressor_OLS = sm.OLS(endog = Y, exog = X_opt).fit()\n",
        "\n",
        "#Fetch p values for each feature\n",
        "p_Vals = regressor_OLS.pvalues\n",
        "\n",
        "#define significance level for accepting the feature.\n",
        "sig_Level = 0.05\n",
        "\n",
        "#Loop to iterate over features and remove the feature with p value less than the sig_level\n",
        "while max(p_Vals) > sig_Level:\n",
        "    print(\"Probability values of each feature \\n\")\n",
        "    print(p_Vals)\n",
        "    X_opt = np.delete(X_opt, np.argmax(p_Vals), axis = 1)\n",
        "    print(\"\\n\")\n",
        "    print(\"Feature at index {} is removed \\n\".format(str(np.argmax(p_Vals))))\n",
        "    print(str(X_opt.shape[1]-1) + \" dimensions remaining now... \\n\")\n",
        "    regressor_OLS = sm.OLS(endog = Y, exog = X_opt).fit()\n",
        "    p_Vals = regressor_OLS.pvalues\n",
        "    print(\"====================================================================\\n\")\n",
        "#Print final summary\n",
        "print(\"Final stat summary with optimal {} features\".format(str(X_opt.shape[1]-1)))\n",
        "regressor_OLS.summary()    "
      ]
    },
    {
      "cell_type": "markdown",
      "metadata": {
        "id": "7mbbfbpQlgsV"
      },
      "source": [
        "### **Split Data**"
      ]
    },
    {
      "cell_type": "code",
      "execution_count": null,
      "metadata": {
        "id": "EOTyC2jblmMD"
      },
      "outputs": [],
      "source": [
        "#Split raw data\n",
        "X_train, X_test, y_train, y_test = train_test_split(X,Y, random_state=4, test_size=0.2)\n",
        "\n",
        "#Split data from the feature selection group\n",
        "X_train_fs, X_test_fs, y_train_fs, y_test_fs = train_test_split(X_opt,Y, random_state=4, test_size=0.2)"
      ]
    },
    {
      "cell_type": "markdown",
      "metadata": {
        "id": "NiqCOzDPmQvx"
      },
      "source": [
        "### **Feature Extraction**"
      ]
    },
    {
      "cell_type": "code",
      "execution_count": null,
      "metadata": {
        "id": "SKE3uI0kmYrG"
      },
      "outputs": [],
      "source": [
        "#Split raw data\n",
        "X_train, X_test, y_train, y_test = train_test_split(X,Y, random_state=4, test_size=0.2)\n",
        "\n",
        "#Split data from the feature selection group\n",
        "X_train_fs, X_test_fs, y_train_fs, y_test_fs = train_test_split(X_opt,Y, random_state=4, test_size=0.2)"
      ]
    },
    {
      "cell_type": "code",
      "execution_count": null,
      "metadata": {
        "id": "Ln9aM0bwm14J"
      },
      "outputs": [],
      "source": [
        "X_train_pca, X_test_pca, y_train_pca, y_test_pca = train_test_split(X,Y, random_state=4, test_size=0.2)"
      ]
    },
    {
      "cell_type": "code",
      "execution_count": null,
      "metadata": {
        "id": "V1xtvdgBnFe8"
      },
      "outputs": [],
      "source": [
        "from sklearn.preprocessing import StandardScaler\n",
        "scaler = StandardScaler()\n",
        "X_train_pca = scaler.fit_transform(X_train_pca)\n",
        "X_test_pca = scaler.transform(X_test_pca)"
      ]
    },
    {
      "cell_type": "code",
      "execution_count": null,
      "metadata": {
        "colab": {
          "base_uri": "https://localhost:8080/",
          "height": 378
        },
        "id": "c-sa945tnHM3",
        "outputId": "8b27454d-04e3-4401-e4fa-9d5d3a6bd5f3"
      },
      "outputs": [
        {
          "data": {
            "image/png": "[encoded data removed]",
            "text/plain": [
              "<Figure size 432x288 with 1 Axes>"
            ]
          },
          "metadata": {},
          "output_type": "display_data"
        }
      ],
      "source": [
        "from sklearn.decomposition import PCA\n",
        "pca = PCA().fit(X_train_pca)\n",
        "plt.plot(np.cumsum(pca.explained_variance_ratio_))\n",
        "plt.xlabel(\"number of components\")\n",
        "plt.ylabel(\"Cumulative explained variance\")\n",
        "plt.show()"
      ]
    },
    {
      "cell_type": "code",
      "execution_count": null,
      "metadata": {
        "colab": {
          "base_uri": "https://localhost:8080/"
        },
        "id": "fxqz-4bcnLwY",
        "outputId": "3d1ca0b4-2bfd-478c-dbba-d435821b99aa"
      },
      "outputs": [
        {
          "data": {
            "text/plain": [
              "[(1, 4.21),\n",
              " (2, 7.68),\n",
              " (3, 10.65),\n",
              " (4, 13.450000000000001),\n",
              " (5, 16.220000000000002),\n",
              " (6, 18.94),\n",
              " (7, 21.630000000000003),\n",
              " (8, 24.290000000000003),\n",
              " (9, 26.900000000000002),\n",
              " (10, 29.500000000000004),\n",
              " (11, 32.02),\n",
              " (12, 34.53),\n",
              " (13, 36.9),\n",
              " (14, 39.269999999999996),\n",
              " (15, 41.629999999999995),\n",
              " (16, 43.989999999999995),\n",
              " (17, 46.339999999999996),\n",
              " (18, 48.69),\n",
              " (19, 51.03),\n",
              " (20, 53.370000000000005),\n",
              " (21, 55.71000000000001),\n",
              " (22, 58.05000000000001),\n",
              " (23, 60.38000000000001),\n",
              " (24, 62.71000000000001),\n",
              " (25, 65.04),\n",
              " (26, 67.36),\n",
              " (27, 69.67999999999999),\n",
              " (28, 71.99),\n",
              " (29, 74.28999999999999),\n",
              " (30, 76.57),\n",
              " (31, 78.85),\n",
              " (32, 81.11999999999999),\n",
              " (33, 83.38),\n",
              " (34, 85.64),\n",
              " (35, 87.89),\n",
              " (36, 90.11),\n",
              " (37, 92.32),\n",
              " (38, 94.47),\n",
              " (39, 96.37),\n",
              " (40, 98.04),\n",
              " (41, 99.17),\n",
              " (42, 99.59),\n",
              " (43, 99.92),\n",
              " (44, 100.0),\n",
              " (45, 100.0)]"
            ]
          },
          "execution_count": 49,
          "metadata": {},
          "output_type": "execute_result"
        }
      ],
      "source": [
        "arr = np.cumsum(np.round(pca.explained_variance_ratio_, decimals=4)*100)\n",
        "list(zip(range(1,len(arr)), arr))"
      ]
    },
    {
      "cell_type": "code",
      "execution_count": null,
      "metadata": {
        "id": "Vv4kCLyXnQL5"
      },
      "outputs": [],
      "source": [
        "pca_10 = PCA(n_components=40)\n",
        "X_train_pca = pca_10.fit_transform(X_train_pca)\n",
        "X_test_pca = pca_10.transform(X_test_pca)"
      ]
    },
    {
      "cell_type": "markdown",
      "metadata": {
        "id": "6_bgry84nUzh"
      },
      "source": [
        "## **Heatmap**"
      ]
    },
    {
      "cell_type": "markdown",
      "metadata": {
        "id": "FnMhzVyWngED"
      },
      "source": [
        "### **On feature selection Data**"
      ]
    },
    {
      "cell_type": "code",
      "execution_count": null,
      "metadata": {
        "colab": {
          "base_uri": "https://localhost:8080/",
          "height": 861
        },
        "id": "Djp46Xk6nY0C",
        "outputId": "f7d84631-3c69-4686-ea62-1c11255936ec"
      },
      "outputs": [
        {
          "data": {
            "image/png": "[encoded data removed]",
            "text/plain": [
              "<Figure size 1080x1080 with 2 Axes>"
            ]
          },
          "metadata": {},
          "output_type": "display_data"
        }
      ],
      "source": [
        "plt.figure(figsize=(15,15))\n",
        "corr = pd.DataFrame(X_train_fs[:,1:]).corr()\n",
        "corr.index = pd.DataFrame(X_train_fs[:,1:]).columns\n",
        "sns.heatmap(corr, cmap='RdYlGn', vmin=-1, vmax=1, square=True)\n",
        "plt.title(\"Correlation Heatmap\", fontsize=16)\n",
        "plt.show()"
      ]
    },
    {
      "cell_type": "markdown",
      "metadata": {
        "id": "XSySCblPmqZx"
      },
      "source": [
        "### **Observations**\n",
        "\n",
        "Finally we have reached the combination of optimum features with each feature having p value < 0.05."
      ]
    },
    {
      "cell_type": "markdown",
      "metadata": {
        "id": "tXnp5TegnpHN"
      },
      "source": [
        "### **On feature extraction Data**"
      ]
    },
    {
      "cell_type": "code",
      "execution_count": null,
      "metadata": {
        "colab": {
          "base_uri": "https://localhost:8080/",
          "height": 861
        },
        "id": "GVBYK6QBntpq",
        "outputId": "814e794c-8f65-429d-bb55-9f89382da594"
      },
      "outputs": [
        {
          "data": {
            "image/png": "[encoded data removed]",
            "text/plain": [
              "<Figure size 1080x1080 with 2 Axes>"
            ]
          },
          "metadata": {},
          "output_type": "display_data"
        }
      ],
      "source": [
        "plt.figure(figsize=(15,15))\n",
        "corr = pd.DataFrame(X_train_pca).corr()\n",
        "corr.index = pd.DataFrame(X_train_pca).columns\n",
        "sns.heatmap(corr, cmap='RdYlGn', vmin=-1, vmax=1, square=True)\n",
        "plt.title(\"Correlation Heatmap\", fontsize=16)\n",
        "plt.show()"
      ]
    },
    {
      "cell_type": "markdown",
      "metadata": {
        "id": "5aoVTHgEoAd1"
      },
      "source": [
        "### **Observations**\n",
        "\n",
        "All of the features shows NO correlation at all. Because feature extraction removes all collinearity."
      ]
    },
    {
      "cell_type": "markdown",
      "metadata": {
        "id": "wIesrxFloF6v"
      },
      "source": [
        "# **Linear Regression**"
      ]
    },
    {
      "cell_type": "code",
      "execution_count": null,
      "metadata": {
        "id": "EyoqZtbqoK7i"
      },
      "outputs": [],
      "source": [
        "from sklearn.model_selection import train_test_split\n",
        "from sklearn.linear_model import LinearRegression\n",
        "from sklearn.ensemble import GradientBoostingRegressor\n",
        "from sklearn.metrics import r2_score, mean_squared_error\n",
        "from sklearn.metrics import mean_absolute_error\n",
        "from sklearn import metrics"
      ]
    },
    {
      "cell_type": "code",
      "execution_count": null,
      "metadata": {
        "colab": {
          "base_uri": "https://localhost:8080/"
        },
        "id": "Q77lfEQZokVa",
        "outputId": "d242997f-3261-47c8-b00b-bd62c6d28b64"
      },
      "outputs": [
        {
          "data": {
            "text/plain": [
              "LinearRegression()"
            ]
          },
          "execution_count": 52,
          "metadata": {},
          "output_type": "execute_result"
        }
      ],
      "source": [
        "#Linear regressor for the raw data\n",
        "regressor = LinearRegression() \n",
        "regressor.fit(X_train,y_train) \n",
        "\n",
        "#Linear regressor for the Feature selection group\n",
        "regressor1 = LinearRegression() \n",
        "regressor1.fit(X_train_fs,y_train_fs) \n",
        "\n",
        "#Linear regressor for the Feature extraction group\n",
        "regressor2 = LinearRegression() \n",
        "regressor2.fit(X_train_pca,y_train_pca) "
      ]
    },
    {
      "cell_type": "code",
      "execution_count": null,
      "metadata": {
        "id": "6yeFOY28or80"
      },
      "outputs": [],
      "source": [
        "#Predict from the test features of raw data\n",
        "y_pred = regressor.predict(X_test) \n",
        "\n",
        "#Predict from the test features of Feature Selection group\n",
        "y_pred = regressor1.predict(X_test_fs) \n",
        "\n",
        "#Predict from the test features of Feature Extraction group\n",
        "y_pred_pca = regressor2.predict(X_test_pca) "
      ]
    },
    {
      "cell_type": "code",
      "execution_count": null,
      "metadata": {
        "colab": {
          "base_uri": "https://localhost:8080/"
        },
        "id": "inYafwR-otGr",
        "outputId": "6b7afe13-367e-4c7f-fd83-e5c48e79f316"
      },
      "outputs": [
        {
          "name": "stdout",
          "output_type": "stream",
          "text": [
            "RMSE score for the Multiple LR raw is : 4923.025569760419\n",
            "Variance score for the Multiple LR raw is : 0.02\n",
            "\n",
            "\n",
            "RMSE score for the Multiple LR FS is : 4923.025569760419\n",
            "Variance score for the Multiple LR FS is : 0.02\n",
            "\n",
            "\n",
            "RMSE score for the Multiple LR PCA is : 4957.8020637713535\n",
            "Variance score for the Multiple LR PCA is : 0.00\n"
          ]
        }
      ],
      "source": [
        "#Evaluate the regressor on the raw data\n",
        "print('RMSE score for the Multiple LR raw is : {}'.format(np.sqrt(metrics.mean_squared_error(y_test,y_pred))))\n",
        "print('Variance score for the Multiple LR raw is : %.2f' % regressor.score(X_test, y_test))\n",
        "print(\"\\n\")\n",
        "\n",
        "#Evaluate the regressor on the Feature selection group\n",
        "print('RMSE score for the Multiple LR FS is : {}'.format(np.sqrt(metrics.mean_squared_error(y_test_fs,y_pred))))\n",
        "print('Variance score for the Multiple LR FS is : %.2f' % regressor1.score(X_test_fs, y_test_fs))\n",
        "print(\"\\n\")\n",
        "\n",
        "#Evaluate the regressor on the Feature extraction group\n",
        "print('RMSE score for the Multiple LR PCA is : {}'.format(np.sqrt(metrics.mean_squared_error(y_test_pca,y_pred_pca))))\n",
        "print('Variance score for the Multiple LR PCA is : %.2f' % regressor2.score(X_test_pca, y_test_pca))"
      ]
    },
    {
      "cell_type": "code",
      "execution_count": null,
      "metadata": {
        "colab": {
          "base_uri": "https://localhost:8080/"
        },
        "id": "VLN2NaTApd0b",
        "outputId": "a6461eab-22a1-4a48-b5e8-5e494b4b092e"
      },
      "outputs": [
        {
          "data": {
            "text/plain": [
              "(1166915, 46)"
            ]
          },
          "execution_count": 55,
          "metadata": {},
          "output_type": "execute_result"
        }
      ],
      "source": [
        "X_train.shape"
      ]
    },
    {
      "cell_type": "code",
      "execution_count": null,
      "metadata": {
        "colab": {
          "base_uri": "https://localhost:8080/",
          "height": 1000
        },
        "id": "ntYhcaLVpf6j",
        "outputId": "e2f4e472-de00-40be-be75-119e69271e29"
      },
      "outputs": [
        {
          "data": {
            "text/html": [
              "\n",
              "  <div id=\"df-8f75385e-8dcb-4218-9cc9-ed3042cb62d6\">\n",
              "    <div class=\"colab-df-container\">\n",
              "      <div>\n",
              "<style scoped>\n",
              "    .dataframe tbody tr th:only-of-type {\n",
              "        vertical-align: middle;\n",
              "    }\n",
              "\n",
              "    .dataframe tbody tr th {\n",
              "        vertical-align: top;\n",
              "    }\n",
              "\n",
              "    .dataframe thead th {\n",
              "        text-align: right;\n",
              "    }\n",
              "</style>\n",
              "<table border=\"1\" class=\"dataframe\">\n",
              "  <thead>\n",
              "    <tr style=\"text-align: right;\">\n",
              "      <th></th>\n",
              "      <th>Value</th>\n",
              "    </tr>\n",
              "  </thead>\n",
              "  <tbody>\n",
              "    <tr>\n",
              "      <th>0 vs 46</th>\n",
              "      <td>0.092749</td>\n",
              "    </tr>\n",
              "    <tr>\n",
              "      <th>3 vs 46</th>\n",
              "      <td>0.019978</td>\n",
              "    </tr>\n",
              "    <tr>\n",
              "      <th>1 vs 46</th>\n",
              "      <td>-0.017008</td>\n",
              "    </tr>\n",
              "    <tr>\n",
              "      <th>38 vs 46</th>\n",
              "      <td>-0.008295</td>\n",
              "    </tr>\n",
              "    <tr>\n",
              "      <th>29 vs 46</th>\n",
              "      <td>0.006559</td>\n",
              "    </tr>\n",
              "    <tr>\n",
              "      <th>28 vs 46</th>\n",
              "      <td>0.005548</td>\n",
              "    </tr>\n",
              "    <tr>\n",
              "      <th>42 vs 46</th>\n",
              "      <td>0.005102</td>\n",
              "    </tr>\n",
              "    <tr>\n",
              "      <th>30 vs 46</th>\n",
              "      <td>0.004830</td>\n",
              "    </tr>\n",
              "    <tr>\n",
              "      <th>21 vs 46</th>\n",
              "      <td>-0.004687</td>\n",
              "    </tr>\n",
              "    <tr>\n",
              "      <th>14 vs 46</th>\n",
              "      <td>-0.004470</td>\n",
              "    </tr>\n",
              "    <tr>\n",
              "      <th>20 vs 46</th>\n",
              "      <td>-0.004289</td>\n",
              "    </tr>\n",
              "    <tr>\n",
              "      <th>8 vs 46</th>\n",
              "      <td>0.004275</td>\n",
              "    </tr>\n",
              "    <tr>\n",
              "      <th>43 vs 46</th>\n",
              "      <td>0.004154</td>\n",
              "    </tr>\n",
              "    <tr>\n",
              "      <th>34 vs 46</th>\n",
              "      <td>-0.004041</td>\n",
              "    </tr>\n",
              "    <tr>\n",
              "      <th>11 vs 46</th>\n",
              "      <td>0.003762</td>\n",
              "    </tr>\n",
              "    <tr>\n",
              "      <th>27 vs 46</th>\n",
              "      <td>0.003452</td>\n",
              "    </tr>\n",
              "    <tr>\n",
              "      <th>33 vs 46</th>\n",
              "      <td>-0.003332</td>\n",
              "    </tr>\n",
              "    <tr>\n",
              "      <th>4 vs 46</th>\n",
              "      <td>-0.003307</td>\n",
              "    </tr>\n",
              "    <tr>\n",
              "      <th>35 vs 46</th>\n",
              "      <td>-0.003183</td>\n",
              "    </tr>\n",
              "    <tr>\n",
              "      <th>7 vs 46</th>\n",
              "      <td>0.003016</td>\n",
              "    </tr>\n",
              "    <tr>\n",
              "      <th>39 vs 46</th>\n",
              "      <td>0.002826</td>\n",
              "    </tr>\n",
              "    <tr>\n",
              "      <th>31 vs 46</th>\n",
              "      <td>0.002790</td>\n",
              "    </tr>\n",
              "    <tr>\n",
              "      <th>19 vs 46</th>\n",
              "      <td>-0.002750</td>\n",
              "    </tr>\n",
              "    <tr>\n",
              "      <th>41 vs 46</th>\n",
              "      <td>0.002675</td>\n",
              "    </tr>\n",
              "    <tr>\n",
              "      <th>12 vs 46</th>\n",
              "      <td>0.002579</td>\n",
              "    </tr>\n",
              "    <tr>\n",
              "      <th>40 vs 46</th>\n",
              "      <td>0.002557</td>\n",
              "    </tr>\n",
              "    <tr>\n",
              "      <th>36 vs 46</th>\n",
              "      <td>0.002168</td>\n",
              "    </tr>\n",
              "    <tr>\n",
              "      <th>9 vs 46</th>\n",
              "      <td>0.002147</td>\n",
              "    </tr>\n",
              "    <tr>\n",
              "      <th>26 vs 46</th>\n",
              "      <td>0.001992</td>\n",
              "    </tr>\n",
              "    <tr>\n",
              "      <th>16 vs 46</th>\n",
              "      <td>-0.001987</td>\n",
              "    </tr>\n",
              "    <tr>\n",
              "      <th>15 vs 46</th>\n",
              "      <td>-0.001927</td>\n",
              "    </tr>\n",
              "    <tr>\n",
              "      <th>2 vs 46</th>\n",
              "      <td>0.001657</td>\n",
              "    </tr>\n",
              "    <tr>\n",
              "      <th>17 vs 46</th>\n",
              "      <td>-0.001657</td>\n",
              "    </tr>\n",
              "    <tr>\n",
              "      <th>37 vs 46</th>\n",
              "      <td>-0.001490</td>\n",
              "    </tr>\n",
              "    <tr>\n",
              "      <th>23 vs 46</th>\n",
              "      <td>-0.001436</td>\n",
              "    </tr>\n",
              "    <tr>\n",
              "      <th>10 vs 46</th>\n",
              "      <td>0.001430</td>\n",
              "    </tr>\n",
              "    <tr>\n",
              "      <th>13 vs 46</th>\n",
              "      <td>-0.001391</td>\n",
              "    </tr>\n",
              "    <tr>\n",
              "      <th>5 vs 46</th>\n",
              "      <td>-0.001226</td>\n",
              "    </tr>\n",
              "    <tr>\n",
              "      <th>32 vs 46</th>\n",
              "      <td>0.001164</td>\n",
              "    </tr>\n",
              "    <tr>\n",
              "      <th>18 vs 46</th>\n",
              "      <td>-0.001114</td>\n",
              "    </tr>\n",
              "    <tr>\n",
              "      <th>22 vs 46</th>\n",
              "      <td>-0.001029</td>\n",
              "    </tr>\n",
              "    <tr>\n",
              "      <th>24 vs 46</th>\n",
              "      <td>-0.000651</td>\n",
              "    </tr>\n",
              "    <tr>\n",
              "      <th>25 vs 46</th>\n",
              "      <td>0.000413</td>\n",
              "    </tr>\n",
              "    <tr>\n",
              "      <th>44 vs 46</th>\n",
              "      <td>-0.000233</td>\n",
              "    </tr>\n",
              "    <tr>\n",
              "      <th>6 vs 46</th>\n",
              "      <td>0.000071</td>\n",
              "    </tr>\n",
              "    <tr>\n",
              "      <th>45 vs 46</th>\n",
              "      <td>NaN</td>\n",
              "    </tr>\n",
              "  </tbody>\n",
              "</table>\n",
              "</div>\n",
              "      <button class=\"colab-df-convert\" onclick=\"convertToInteractive('df-8f75385e-8dcb-4218-9cc9-ed3042cb62d6')\"\n",
              "              title=\"Convert this dataframe to an interactive table.\"\n",
              "              style=\"display:none;\">\n",
              "        \n",
              "  <svg xmlns=\"http://www.w3.org/2000/svg\" height=\"24px\"viewBox=\"0 0 24 24\"\n",
              "       width=\"24px\">\n",
              "    <path d=\"M0 0h24v24H0V0z\" fill=\"none\"/>\n",
              "    <path d=\"M18.56 5.44l.94 2.06.94-2.06 2.06-.94-2.06-.94-.94-2.06-.94 2.06-2.06.94zm-11 1L8.5 8.5l.94-2.06 2.06-.94-2.06-.94L8.5 2.5l-.94 2.06-2.06.94zm10 10l.94 2.06.94-2.06 2.06-.94-2.06-.94-.94-2.06-.94 2.06-2.06.94z\"/><path d=\"M17.41 7.96l-1.37-1.37c-.4-.4-.92-.59-1.43-.59-.52 0-1.04.2-1.43.59L10.3 9.45l-7.72 7.72c-.78.78-.78 2.05 0 2.83L4 21.41c.39.39.9.59 1.41.59.51 0 1.02-.2 1.41-.59l7.78-7.78 2.81-2.81c.8-.78.8-2.07 0-2.86zM5.41 20L4 18.59l7.72-7.72 1.47 1.35L5.41 20z\"/>\n",
              "  </svg>\n",
              "      </button>\n",
              "      \n",
              "  <style>\n",
              "    .colab-df-container {\n",
              "      display:flex;\n",
              "      flex-wrap:wrap;\n",
              "      gap: 12px;\n",
              "    }\n",
              "\n",
              "    .colab-df-convert {\n",
              "      background-color: #E8F0FE;\n",
              "      border: none;\n",
              "      border-radius: 50%;\n",
              "      cursor: pointer;\n",
              "      display: none;\n",
              "      fill: #1967D2;\n",
              "      height: 32px;\n",
              "      padding: 0 0 0 0;\n",
              "      width: 32px;\n",
              "    }\n",
              "\n",
              "    .colab-df-convert:hover {\n",
              "      background-color: #E2EBFA;\n",
              "      box-shadow: 0px 1px 2px rgba(60, 64, 67, 0.3), 0px 1px 3px 1px rgba(60, 64, 67, 0.15);\n",
              "      fill: #174EA6;\n",
              "    }\n",
              "\n",
              "    [theme=dark] .colab-df-convert {\n",
              "      background-color: #3B4455;\n",
              "      fill: #D2E3FC;\n",
              "    }\n",
              "\n",
              "    [theme=dark] .colab-df-convert:hover {\n",
              "      background-color: #434B5C;\n",
              "      box-shadow: 0px 1px 3px 1px rgba(0, 0, 0, 0.15);\n",
              "      filter: drop-shadow(0px 1px 2px rgba(0, 0, 0, 0.3));\n",
              "      fill: #FFFFFF;\n",
              "    }\n",
              "  </style>\n",
              "\n",
              "      <script>\n",
              "        const buttonEl =\n",
              "          document.querySelector('#df-8f75385e-8dcb-4218-9cc9-ed3042cb62d6 button.colab-df-convert');\n",
              "        buttonEl.style.display =\n",
              "          google.colab.kernel.accessAllowed ? 'block' : 'none';\n",
              "\n",
              "        async function convertToInteractive(key) {\n",
              "          const element = document.querySelector('#df-8f75385e-8dcb-4218-9cc9-ed3042cb62d6');\n",
              "          const dataTable =\n",
              "            await google.colab.kernel.invokeFunction('convertToInteractive',\n",
              "                                                     [key], {});\n",
              "          if (!dataTable) return;\n",
              "\n",
              "          const docLinkHtml = 'Like what you see? Visit the ' +\n",
              "            '<a target=\"_blank\" href=https://colab.research.google.com/notebooks/data_table.ipynb>data table notebook</a>'\n",
              "            + ' to learn more about interactive tables.';\n",
              "          element.innerHTML = '';\n",
              "          dataTable['output_type'] = 'display_data';\n",
              "          await google.colab.output.renderOutput(dataTable, element);\n",
              "          const docLink = document.createElement('div');\n",
              "          docLink.innerHTML = docLinkHtml;\n",
              "          element.appendChild(docLink);\n",
              "        }\n",
              "      </script>\n",
              "    </div>\n",
              "  </div>\n",
              "  "
            ],
            "text/plain": [
              "             Value\n",
              "0 vs 46   0.092749\n",
              "3 vs 46   0.019978\n",
              "1 vs 46  -0.017008\n",
              "38 vs 46 -0.008295\n",
              "29 vs 46  0.006559\n",
              "28 vs 46  0.005548\n",
              "42 vs 46  0.005102\n",
              "30 vs 46  0.004830\n",
              "21 vs 46 -0.004687\n",
              "14 vs 46 -0.004470\n",
              "20 vs 46 -0.004289\n",
              "8 vs 46   0.004275\n",
              "43 vs 46  0.004154\n",
              "34 vs 46 -0.004041\n",
              "11 vs 46  0.003762\n",
              "27 vs 46  0.003452\n",
              "33 vs 46 -0.003332\n",
              "4 vs 46  -0.003307\n",
              "35 vs 46 -0.003183\n",
              "7 vs 46   0.003016\n",
              "39 vs 46  0.002826\n",
              "31 vs 46  0.002790\n",
              "19 vs 46 -0.002750\n",
              "41 vs 46  0.002675\n",
              "12 vs 46  0.002579\n",
              "40 vs 46  0.002557\n",
              "36 vs 46  0.002168\n",
              "9 vs 46   0.002147\n",
              "26 vs 46  0.001992\n",
              "16 vs 46 -0.001987\n",
              "15 vs 46 -0.001927\n",
              "2 vs 46   0.001657\n",
              "17 vs 46 -0.001657\n",
              "37 vs 46 -0.001490\n",
              "23 vs 46 -0.001436\n",
              "10 vs 46  0.001430\n",
              "13 vs 46 -0.001391\n",
              "5 vs 46  -0.001226\n",
              "32 vs 46  0.001164\n",
              "18 vs 46 -0.001114\n",
              "22 vs 46 -0.001029\n",
              "24 vs 46 -0.000651\n",
              "25 vs 46  0.000413\n",
              "44 vs 46 -0.000233\n",
              "6 vs 46   0.000071\n",
              "45 vs 46       NaN"
            ]
          },
          "execution_count": 56,
          "metadata": {},
          "output_type": "execute_result"
        }
      ],
      "source": [
        "#Find linear correlation of each feature with the target variable\n",
        "from scipy.stats import pearsonr\n",
        "df1 = pd.DataFrame(np.concatenate((X_train,y_train.reshape(len(y_train),1)),axis=1))\n",
        "df1.columns = df1.columns.astype(str)\n",
        "\n",
        "features = df1.iloc[:,:46].columns.tolist()\n",
        "target = df1.iloc[:,46].name\n",
        "\n",
        "correlations = {}\n",
        "for f in features:\n",
        "    data_temp = df1[[f,target]]\n",
        "    x1 = data_temp[f].values\n",
        "    x2 = data_temp[target].values\n",
        "    key = f + ' vs ' + target\n",
        "    correlations[key] = pearsonr(x1,x2)[0]\n",
        "    \n",
        "data_correlations = pd.DataFrame(correlations, index=['Value']).T\n",
        "data_correlations.loc[data_correlations['Value'].abs().sort_values(ascending=False).index]"
      ]
    },
    {
      "cell_type": "markdown",
      "metadata": {
        "id": "rVAe6fh0o0ss"
      },
      "source": [
        "### **Observations**\n",
        "\n",
        "We can see that none of the feature is linearly correlated with the target variable \"46\". That is why it is not a good model for the prediction of the trip duration. So let's move ahead and try the random forest regressor. We are not using decision tree regressor because the random forest will anyways consist of almost all its properties. Also, we will not use SVR because it takes too much time to train on this huge dataset even with the default settings. It seems to be not good with high dimensional dataset as well as for the huge instances."
      ]
    },
    {
      "cell_type": "markdown",
      "metadata": {
        "id": "-wZLfa5tpA-D"
      },
      "source": [
        "## **Random Forest Regressor**"
      ]
    },
    {
      "cell_type": "code",
      "execution_count": null,
      "metadata": {
        "id": "9fr4_v-arZp0"
      },
      "outputs": [],
      "source": [
        "#import the packages\n",
        "from sklearn.ensemble import RandomForestRegressor\n",
        "# Create an instance of the RandomForestRegressor\n",
        "rf_model = RandomForestRegressor()\n",
        "\n",
        "rf_model.fit(X_train_fs,y_train_fs)"
      ]
    },
    {
      "cell_type": "code",
      "execution_count": null,
      "metadata": {
        "id": "251G6ZYSrdtE"
      },
      "outputs": [],
      "source": [
        "# Making predictions on train and test data\n",
        "\n",
        "y_pred_train_r = rf_model.predict(X_train_fs)\n",
        "y_pred_test_r = rf_model.predict(X_test_fs)"
      ]
    },
    {
      "cell_type": "markdown",
      "metadata": {
        "id": "WKbK-4N-tvgg"
      },
      "source": [
        "### **For train data**"
      ]
    },
    {
      "cell_type": "code",
      "execution_count": null,
      "metadata": {
        "colab": {
          "base_uri": "https://localhost:8080/"
        },
        "id": "_-XrQaSttsbA",
        "outputId": "4c76ae76-38e4-4747-a969-b4af427fb7b6"
      },
      "outputs": [
        {
          "name": "stdout",
          "output_type": "stream",
          "text": [
            "Model Score: 0.9627233035525813\n",
            "MSE : 946912.4220271672\n",
            "RMSE : 973.0942513586067\n",
            "MAE : 4.800507577689049\n",
            "R2 : 0.9627233035525813\n",
            "Adjusted R2 : 0.9627217037325101\n"
          ]
        }
      ],
      "source": [
        "#import the packages\n",
        "from sklearn.metrics import mean_squared_error\n",
        "print(\"Model Score:\",rf_model.score(X_train_fs,y_train_fs))\n",
        "\n",
        "#calculate MSE\n",
        "MSE_rf= mean_squared_error(y_train_fs, y_pred_train_r)\n",
        "print(\"MSE :\",MSE_rf)\n",
        "\n",
        "#calculate RMSE\n",
        "RMSE_rf=np.sqrt(MSE_rf)\n",
        "print(\"RMSE :\",RMSE_rf)\n",
        "\n",
        "\n",
        "#calculate MAE\n",
        "MAE_rf= mean_absolute_error(y_train_fs, y_pred_train_r)\n",
        "print(\"MAE :\",MAE_rf)\n",
        "\n",
        "\n",
        "#import the packages\n",
        "from sklearn.metrics import r2_score\n",
        "#calculate r2 and adjusted r2\n",
        "r2_rf= r2_score(y_train_fs, y_pred_train_r)\n",
        "print(\"R2 :\",r2_rf)\n",
        "Adjusted_R2_rf=(1-(1-r2_score(y_train_fs, y_pred_train_r))*((X_test_fs.shape[0]-1)/(X_test_fs.shape[0]-X_test_fs.shape[1]-1)) )\n",
        "print(\"Adjusted R2 :\",1-(1-r2_score(y_train_fs, y_pred_train_r))*((X_test_fs.shape[0]-1)/(X_test_fs.shape[0]-X_test_fs.shape[1]-1)) )"
      ]
    },
    {
      "cell_type": "markdown",
      "metadata": {
        "id": "aJxQ3_not9ug"
      },
      "source": [
        "### **For test data**"
      ]
    },
    {
      "cell_type": "code",
      "execution_count": null,
      "metadata": {
        "colab": {
          "base_uri": "https://localhost:8080/"
        },
        "id": "e1kxYzZ0uGde",
        "outputId": "d1326e4e-c9b3-4741-b36f-698ae9eaf06a"
      },
      "outputs": [
        {
          "name": "stdout",
          "output_type": "stream",
          "text": [
            "MSE : 25468037.98471288\n",
            "RMSE : 5046.58676579655\n",
            "MAE : 16.376226808724468\n",
            "R2 : 0.6344938930322279\n",
            "Adjusted R2 : 0.6344782064488718\n"
          ]
        }
      ],
      "source": [
        "#import the packages\n",
        "from sklearn.metrics import mean_squared_error\n",
        "#calculate MSE\n",
        "MSE_rf= mean_squared_error(y_test_fs, y_pred_test_r)\n",
        "print(\"MSE :\",MSE_rf)\n",
        "\n",
        "#calculate RMSE\n",
        "RMSE_rf=np.sqrt(MSE_rf)\n",
        "print(\"RMSE :\",RMSE_rf)\n",
        "\n",
        "\n",
        "#calculate MAE\n",
        "MAE_rf= mean_absolute_error(y_test_fs, y_pred_test_r)\n",
        "print(\"MAE :\",MAE_rf)\n",
        "\n",
        "\n",
        "#import the packages\n",
        "from sklearn.metrics import r2_score\n",
        "#calculate r2 and adjusted r2\n",
        "r2_rf= r2_score((y_test_fs), (y_pred_test_r))\n",
        "print(\"R2 :\",r2_rf)\n",
        "Adjusted_R2_rf=(1-(1-r2_score((y_test_fs), (y_pred_test_r)))*((X_test_fs.shape[0]-1)/(X_test_fs.shape[0]-X_test_fs.shape[1]-1)) )\n",
        "print(\"Adjusted R2 :\",1-(1-r2_score((y_test_fs), (y_pred_test_r)))*((X_test_fs.shape[0]-1)/(X_test_fs.shape[0]-X_test_fs.shape[1]-1)) )"
      ]
    },
    {
      "cell_type": "markdown",
      "metadata": {
        "id": "HBPBH45qASFY"
      },
      "source": [
        "**Interesting find**\n",
        "\n",
        "There is approx 200% improvement on the RMSE score for the Random forest regressor over the Linear regressor of the feature selection group.\n",
        "\n",
        "Even the variance score is approx 1 which is a good score.\n",
        "\n",
        "RMSE score for the RF regressor of feature extraction group is still very bad along with the variance score.\n",
        "\n",
        "RMSE score for the feature selection group is more or less same as the raw data score. \n",
        "Sometimes the RMSE score for the raw data is better and vice versa.\n",
        "It fluctuates on every iteration and this is quite weird!\n",
        "Let's see if we can improve this further with the most sought after algorigthm i.e. XGBoost!!"
      ]
    },
    {
      "cell_type": "markdown",
      "metadata": {
        "id": "t53VEA2KkDTG"
      },
      "source": [
        "# **XGBoost**"
      ]
    },
    {
      "cell_type": "code",
      "execution_count": null,
      "metadata": {
        "id": "cHkxkq1nkClf"
      },
      "outputs": [],
      "source": [
        "from xgboost import XGBRegressor\n",
        "regressor_xgbraw = XGBRegressor(n_jobs=-1)\n",
        "#instantiate the object for the XGBoost Regressor with default params for Feature Selection Group\n",
        "regressor_xgb = XGBRegressor(n_jobs=-1)"
      ]
    },
    {
      "cell_type": "code",
      "execution_count": null,
      "metadata": {
        "colab": {
          "base_uri": "https://localhost:8080/"
        },
        "id": "pOQcfjZukQYA",
        "outputId": "7dc89511-6d73-453e-c0a3-0fe201bf3d73"
      },
      "outputs": [
        {
          "name": "stdout",
          "output_type": "stream",
          "text": [
            "[10:03:38] WARNING: /workspace/src/objective/regression_obj.cu:152: reg:linear is now deprecated in favor of reg:squarederror.\n"
          ]
        },
        {
          "data": {
            "text/plain": [
              "XGBRegressor(n_jobs=-1)"
            ]
          },
          "execution_count": 53,
          "metadata": {},
          "output_type": "execute_result"
        }
      ],
      "source": [
        "regressor_xgb1 = XGBRegressor(n_estimators=300,\n",
        "                            learning_rate=0.08,\n",
        "                            gamma=0,\n",
        "                            subsample=0.75,\n",
        "                            colsample_bytree=1,\n",
        "                            max_depth=7,\n",
        "                            min_child_weight=4,\n",
        "                            silent=1,\n",
        "                           n_jobs=-1)\n",
        "#instantiate the object for the XGBoost Regressor for Feature Extraction Group\n",
        "regressor_xgb2 = XGBRegressor(n_jobs=-1)\n",
        "\n",
        "#Train the object with default params for Feature Selection Group\n",
        "regressor_xgb.fit(X_train_fs,y_train_fs)"
      ]
    },
    {
      "cell_type": "code",
      "execution_count": null,
      "metadata": {
        "id": "EInlVXzNkTRv"
      },
      "outputs": [],
      "source": [
        "# Making predictions on train and test data\n",
        "\n",
        "y_pred_train_x = regressor_xgb.predict(X_train_fs)\n",
        "y_pred_test_x = regressor_xgb.predict(X_test_fs)"
      ]
    },
    {
      "cell_type": "markdown",
      "metadata": {
        "id": "4qzrKfHMkYNn"
      },
      "source": [
        "# For Train Data"
      ]
    },
    {
      "cell_type": "code",
      "execution_count": null,
      "metadata": {
        "colab": {
          "base_uri": "https://localhost:8080/"
        },
        "id": "xdawMqOLkWc_",
        "outputId": "41e838b5-3b5f-4c99-aeb6-6fc972448cc9"
      },
      "outputs": [
        {
          "name": "stdout",
          "output_type": "stream",
          "text": [
            "Model Score: 0.9848624019219396\n",
            "MSE : 425574.3598247585\n",
            "RMSE : 652.3606056658836\n",
            "MAE : 62.32962075377837\n",
            "R2 : 0.9848624019219396\n",
            "Adjusted R2 : 0.9848612083710722\n"
          ]
        }
      ],
      "source": [
        "#import the packages\n",
        "from sklearn.metrics import mean_squared_error\n",
        "print(\"Model Score:\",regressor_xgb.score(X_train_fs,y_train_fs))\n",
        "\n",
        "#calculate MSE\n",
        "MSE_rf= mean_squared_error(y_train_fs, y_pred_train_x)\n",
        "print(\"MSE :\",MSE_rf)\n",
        "\n",
        "#calculate RMSE\n",
        "RMSE_rf=np.sqrt(MSE_rf)\n",
        "print(\"RMSE :\",RMSE_rf)\n",
        "\n",
        "\n",
        "#calculate MAE\n",
        "MAE_rf= mean_absolute_error(y_train_fs, y_pred_train_x)\n",
        "print(\"MAE :\",MAE_rf)\n",
        "\n",
        "\n",
        "#import the packages\n",
        "from sklearn.metrics import r2_score\n",
        "#calculate r2 and adjusted r2\n",
        "r2_rf= r2_score(y_train_fs, y_pred_train_x)\n",
        "print(\"R2 :\",r2_rf)\n",
        "Adjusted_R2_rf=(1-(1-r2_score(y_train_fs, y_pred_train_x))*((X_test_fs.shape[0]-1)/(X_test_fs.shape[0]-X_test_fs.shape[1]-1)) )\n",
        "print(\"Adjusted R2 :\",1-(1-r2_score(y_train_fs, y_pred_train_x))*((X_test_fs.shape[0]-1)/(X_test_fs.shape[0]-X_test_fs.shape[1]-1)) )\n"
      ]
    },
    {
      "cell_type": "markdown",
      "metadata": {
        "id": "_CF70i38kfa9"
      },
      "source": [
        "# For Test Data"
      ]
    },
    {
      "cell_type": "code",
      "execution_count": null,
      "metadata": {
        "colab": {
          "base_uri": "https://localhost:8080/"
        },
        "id": "QUWSfStrkjQZ",
        "outputId": "d6e310cb-8a7c-4a4d-bdda-f32e2afb208e"
      },
      "outputs": [
        {
          "name": "stdout",
          "output_type": "stream",
          "text": [
            "Model Score: 0.9736287209680698\n",
            "MSE : 651329.3099000739\n",
            "RMSE : 807.049756768487\n",
            "MAE : 64.07043887605909\n",
            "R2 : 0.9736287209680698\n",
            "Adjusted R2 : 0.97362664167763\n"
          ]
        }
      ],
      "source": [
        "#import the packages\n",
        "from sklearn.metrics import mean_squared_error\n",
        "print(\"Model Score:\",regressor_xgb.score(X_test_fs,y_test_fs))\n",
        "#calculate MSE\n",
        "MSE_rf= mean_squared_error(y_test_fs, y_pred_test_x)\n",
        "print(\"MSE :\",MSE_rf)\n",
        "\n",
        "#calculate RMSE\n",
        "RMSE_rf=np.sqrt(MSE_rf)\n",
        "print(\"RMSE :\",RMSE_rf)\n",
        "\n",
        "\n",
        "#calculate MAE\n",
        "MAE_rf= mean_absolute_error(y_test_fs, y_pred_test_x)\n",
        "print(\"MAE :\",MAE_rf)\n",
        "\n",
        "\n",
        "#import the packages\n",
        "from sklearn.metrics import r2_score\n",
        "#calculate r2 and adjusted r2\n",
        "r2_rf= r2_score((y_test_fs), (y_pred_test_x))\n",
        "print(\"R2 :\",r2_rf)\n",
        "Adjusted_R2_rf=(1-(1-r2_score((y_test_fs), (y_pred_test_x)))*((X_test_fs.shape[0]-1)/(X_test_fs.shape[0]-X_test_fs.shape[1]-1)) )\n",
        "print(\"Adjusted R2 :\",1-(1-r2_score((y_test_fs), (y_pred_test_x)))*((X_test_fs.shape[0]-1)/(X_test_fs.shape[0]-X_test_fs.shape[1]-1)) )"
      ]
    },
    {
      "cell_type": "markdown",
      "metadata": {
        "id": "mnXD2CBNoAII"
      },
      "source": [
        "\n",
        "\n",
        "1.   As we can see here we have restricted ourselves on Feature Selection dataset only. The reason behind this is that if here the dimension increases, the time complexity also increases manyfold. So, better to check for the optimal features. Same thinking was behind the operation on Random Forest Regressr\n",
        "2.   Second observation is that it works exceptionally well for both Training  and Test dataset.\n",
        "\n"
      ]
    },
    {
      "cell_type": "markdown",
      "metadata": {
        "id": "jCfbeZQsuRO9"
      },
      "source": [
        "## **Ridge Regression**"
      ]
    },
    {
      "cell_type": "code",
      "execution_count": null,
      "metadata": {
        "id": "Kh-VXzLJuMez"
      },
      "outputs": [],
      "source": [
        "from sklearn.linear_model import Ridge\n",
        "\n",
        "ridge1= Ridge(alpha=0.1)\n",
        "ridge2= Ridge(alpha=0.1)\n",
        "ridge3= Ridge(alpha=0.1)"
      ]
    },
    {
      "cell_type": "code",
      "execution_count": null,
      "metadata": {
        "colab": {
          "base_uri": "https://localhost:8080/"
        },
        "id": "QUKbkdDzuhtJ",
        "outputId": "7608f0c9-dff0-4ba1-92f2-1e4dac6885cb"
      },
      "outputs": [
        {
          "name": "stdout",
          "output_type": "stream",
          "text": [
            "0.006189150456451187 0.0191805729473028\n"
          ]
        }
      ],
      "source": [
        "#FIT THE MODEL\n",
        "ridge1.fit(X_train,y_train)\n",
        "# Create the model score\n",
        "print(ridge1.score(X_test, y_test), ridge1.score(X_train, y_train))"
      ]
    },
    {
      "cell_type": "code",
      "execution_count": null,
      "metadata": {
        "colab": {
          "base_uri": "https://localhost:8080/"
        },
        "id": "LCb1xph_uj1C",
        "outputId": "cef1fe17-56e7-4dca-f3bd-9700644b0702"
      },
      "outputs": [
        {
          "name": "stdout",
          "output_type": "stream",
          "text": [
            "0.006196528401387513 0.01912850032069957\n"
          ]
        }
      ],
      "source": [
        "# Fit the Ridge model on Feature Selection data\n",
        "ridge2.fit(X_train_fs,y_train_fs)\n",
        "# Create the model score\n",
        "print(ridge2.score(X_test_fs,y_test_fs), ridge2.score(X_train_fs,y_train_fs))"
      ]
    },
    {
      "cell_type": "code",
      "execution_count": null,
      "metadata": {
        "colab": {
          "base_uri": "https://localhost:8080/"
        },
        "id": "QJ8G0uPCulzW",
        "outputId": "a2328c7b-b286-4d12-fee6-628698647414"
      },
      "outputs": [
        {
          "name": "stdout",
          "output_type": "stream",
          "text": [
            "0.001065880797477936 0.00328101494060018\n"
          ]
        }
      ],
      "source": [
        "# Fit the Ridge model on Feature Extraction data\n",
        "ridge3.fit(X_train_pca,y_train_pca)\n",
        "# Create the model score\n",
        "print(ridge3.score(X_test_pca,y_test_pca), ridge3.score(X_train_pca,y_train_pca))"
      ]
    },
    {
      "cell_type": "markdown",
      "metadata": {
        "id": "JOS2CcGhvCVD"
      },
      "source": [
        "### **Model Prediction**\n",
        "**Feature selection based**\n",
        "\n"
      ]
    },
    {
      "cell_type": "markdown",
      "metadata": {
        "id": "cdXu3--lvjbS"
      },
      "source": [
        "**Train Data**"
      ]
    },
    {
      "cell_type": "code",
      "execution_count": null,
      "metadata": {
        "id": "e0ETYAquuuvg"
      },
      "outputs": [],
      "source": [
        "#get the X_train and X-test value for Feature Selection\n",
        "y_pred_train_ridge_fs=ridge2.predict(X_train_fs)\n",
        "y_pred_test_ridge_fs=ridge2.predict(X_test_fs)"
      ]
    },
    {
      "cell_type": "code",
      "execution_count": null,
      "metadata": {
        "colab": {
          "base_uri": "https://localhost:8080/"
        },
        "id": "76q1w2Msvn0V",
        "outputId": "77bf6009-2c68-473b-fa2e-dfb3cce11903"
      },
      "outputs": [
        {
          "name": "stdout",
          "output_type": "stream",
          "text": [
            "MSE : 24916355.148822818\n",
            "RMSE : 4991.628506692262\n",
            "MAE : 364.6812006163739\n",
            "R2 : 0.01912850032069957\n",
            "Adjusted R2 : 0.019086403835174126\n"
          ]
        }
      ],
      "source": [
        "from sklearn.metrics import mean_squared_error\n",
        "#calculate MSE\n",
        "MSE_l= mean_squared_error((y_train_fs), (y_pred_train_ridge_fs))\n",
        "print(\"MSE :\",MSE_l)\n",
        "\n",
        "#calculate RMSE\n",
        "RMSE_l=np.sqrt(MSE_l)\n",
        "print(\"RMSE :\",RMSE_l)\n",
        "\n",
        "#calculate MAE\n",
        "MAE_l= mean_absolute_error(y_train_fs, y_pred_train_ridge_fs)\n",
        "print(\"MAE :\",MAE_l)\n",
        "\n",
        "from sklearn.metrics import r2_score\n",
        "#calculate r2 and adjusted r2\n",
        "r2_l= r2_score(y_train_fs, y_pred_train_ridge_fs)\n",
        "print(\"R2 :\",r2_l)\n",
        "Adjusted_R2_l = (1-(1-r2_score(y_train_fs, y_pred_train_ridge_fs))*((X_test_fs.shape[0]-1)/(X_test_fs.shape[0]-X_test_fs.shape[1]-1)) )\n",
        "print(\"Adjusted R2 :\",1-(1-r2_score(y_train_fs, y_pred_train_ridge_fs))*((X_test_fs.shape[0]-1)/(X_test_fs.shape[0]-X_test_fs.shape[1]-1)) )"
      ]
    },
    {
      "cell_type": "markdown",
      "metadata": {
        "id": "DQv63s6Evul2"
      },
      "source": [
        "**Test Data**"
      ]
    },
    {
      "cell_type": "code",
      "execution_count": null,
      "metadata": {
        "colab": {
          "base_uri": "https://localhost:8080/"
        },
        "id": "3ArYx7umvyQg",
        "outputId": "37bf8408-fb07-44ff-80ef-f2270350a5a9"
      },
      "outputs": [
        {
          "name": "stdout",
          "output_type": "stream",
          "text": [
            "MSE : 69247063.40472905\n",
            "RMSE : 8321.482043766546\n",
            "MAE : 378.296536367151\n",
            "R2 : 0.01912850032069957\n",
            "Adjusted R2 : 0.006153876908841394\n"
          ]
        }
      ],
      "source": [
        "#calculate MSE\n",
        "MSE_l= mean_squared_error((y_test_fs), (y_pred_test_ridge_fs))\n",
        "print(\"MSE :\",MSE_l)\n",
        "\n",
        "#calculate RMSE\n",
        "RMSE_l=np.sqrt(MSE_l)\n",
        "print(\"RMSE :\",RMSE_l)\n",
        "\n",
        "#calculate MAE\n",
        "MAE_l= mean_absolute_error(y_test_fs, y_pred_test_ridge_fs)\n",
        "print(\"MAE :\",MAE_l)\n",
        "\n",
        "from sklearn.metrics import r2_score\n",
        "#calculate r2 and adjusted r2\n",
        "r2_l= r2_score(y_train_fs, y_pred_train_ridge_fs)\n",
        "print(\"R2 :\",r2_l)\n",
        "Adjusted_R2_l = (1-(1-r2_score(y_test_fs, y_pred_test_ridge_fs))*((X_test_fs.shape[0]-1)/(X_test_fs.shape[0]-X_test_fs.shape[1]-1)) )\n",
        "print(\"Adjusted R2 :\",1-(1-r2_score(y_test_fs, y_pred_test_ridge_fs))*((X_test_fs.shape[0]-1)/(X_test_fs.shape[0]-X_test_fs.shape[1]-1)) )"
      ]
    },
    {
      "cell_type": "markdown",
      "metadata": {
        "id": "Cjxvutx-v6Ta"
      },
      "source": [
        "### **Feature Extraction Based**"
      ]
    },
    {
      "cell_type": "markdown",
      "metadata": {
        "id": "yx-xbQOPwA_e"
      },
      "source": [
        "**Train Data**"
      ]
    },
    {
      "cell_type": "code",
      "execution_count": null,
      "metadata": {
        "id": "-9wANACywEVN"
      },
      "outputs": [],
      "source": [
        "#get the X_train and X-test value for Feature Selection\n",
        "y_pred_train_ridge_pca=ridge3.predict(X_train_pca)\n",
        "y_pred_test_ridge_pca=ridge3.predict(X_test_pca)"
      ]
    },
    {
      "cell_type": "code",
      "execution_count": null,
      "metadata": {
        "colab": {
          "base_uri": "https://localhost:8080/"
        },
        "id": "2dU5_q85wHRz",
        "outputId": "aa42e93b-993d-4640-9d7c-29553a4216f5"
      },
      "outputs": [
        {
          "name": "stdout",
          "output_type": "stream",
          "text": [
            "MSE : 69604560.92822206\n",
            "RMSE : 8342.934791080537\n",
            "MAE : 577.3878694056875\n",
            "R2 : 0.00328101494060018\n",
            "Adjusted R2 : 0.0008467201745725461\n"
          ]
        }
      ],
      "source": [
        "#calculate MSE\n",
        "MSE_l= mean_squared_error((y_test), (y_pred_test_ridge_pca))\n",
        "print(\"MSE :\",MSE_l)\n",
        "\n",
        "#calculate RMSE\n",
        "RMSE_l=np.sqrt(MSE_l)\n",
        "print(\"RMSE :\",RMSE_l)\n",
        "\n",
        "#calculate MAE\n",
        "MAE_l= mean_absolute_error(y_test, y_pred_test_ridge_pca)\n",
        "print(\"MAE :\",MAE_l)\n",
        "\n",
        "from sklearn.metrics import r2_score\n",
        "#calculate r2 and adjusted r2\n",
        "r2_l= r2_score(y_train, y_pred_train_ridge_pca)\n",
        "print(\"R2 :\",r2_l)\n",
        "Adjusted_R2_l = (1-(1-r2_score(y_test, y_pred_test_ridge_pca))*((X_test.shape[0]-1)/(X_test.shape[0]-X_test.shape[1]-1)) )\n",
        "print(\"Adjusted R2 :\",1-(1-r2_score(y_test, y_pred_test_ridge_pca))*((X_test.shape[0]-1)/(X_test.shape[0]-X_test.shape[1]-1)) )"
      ]
    },
    {
      "cell_type": "markdown",
      "metadata": {
        "id": "qht0RXwzov3o"
      },
      "source": [
        "\n",
        "\n",
        "\n",
        "1.   For RIDGE regression, the time complexity is very less. So it enables us to explore it for optimal featues, as well as on the extended features too.\n",
        "2.   However, it seems that for both dataset the result is very poor. So for this large data RIDGE regression prooves to be futile.\n",
        "\n"
      ]
    },
    {
      "cell_type": "markdown",
      "metadata": {
        "id": "tBb-qx_yxOzu"
      },
      "source": [
        "## **Lasso Regression**"
      ]
    },
    {
      "cell_type": "code",
      "execution_count": null,
      "metadata": {
        "id": "qzs5pMKPw1Pf"
      },
      "outputs": [],
      "source": [
        "# Create an instance of Lasso Regression implementation\n",
        "from sklearn.linear_model import Lasso\n",
        "lasso1 = Lasso(alpha=0.1, max_iter=3000)\n",
        "lasso2 = Lasso(alpha=0.1, max_iter=3000)\n",
        "lasso3 = Lasso(alpha=0.1, max_iter=3000)"
      ]
    },
    {
      "cell_type": "code",
      "execution_count": null,
      "metadata": {
        "colab": {
          "base_uri": "https://localhost:8080/"
        },
        "id": "AVYF8ydPxX3a",
        "outputId": "14ce3b76-adba-4ccc-ea9f-77ff31454913"
      },
      "outputs": [
        {
          "name": "stdout",
          "output_type": "stream",
          "text": [
            "0.006195072197483609 0.019179381350149738\n"
          ]
        }
      ],
      "source": [
        "# Fit the Lasso model on raw data\n",
        "lasso1.fit(X_train, y_train)\n",
        "# Create the model score\n",
        "print(lasso1.score(X_test, y_test), lasso1.score(X_train, y_train))"
      ]
    },
    {
      "cell_type": "code",
      "execution_count": null,
      "metadata": {
        "colab": {
          "base_uri": "https://localhost:8080/"
        },
        "id": "ABh0LAY1xclb",
        "outputId": "ed9fd271-22c5-4a49-973c-516051c1e4cd"
      },
      "outputs": [
        {
          "name": "stdout",
          "output_type": "stream",
          "text": [
            "0.006195634048517973 0.019128466514946485\n"
          ]
        }
      ],
      "source": [
        "# Fit the Lasso model on Feature Selection data\n",
        "lasso2.fit(X_train_fs,y_train_fs)\n",
        "# Create the model score\n",
        "print(lasso2.score(X_test_fs,y_test_fs), lasso2.score(X_train_fs,y_train_fs))"
      ]
    },
    {
      "cell_type": "code",
      "execution_count": null,
      "metadata": {
        "colab": {
          "base_uri": "https://localhost:8080/"
        },
        "id": "C_U9SvTmxfk7",
        "outputId": "fd873433-4517-4ccc-a9e7-415b2cddaa34"
      },
      "outputs": [
        {
          "name": "stdout",
          "output_type": "stream",
          "text": [
            "0.0010662830844346827 0.003281000422185043\n"
          ]
        }
      ],
      "source": [
        "# Fit the Lasso model on Feature Extraction data\n",
        "lasso3.fit(X_train_pca,y_train_pca)\n",
        "# Create the model score\n",
        "print(lasso3.score(X_test_pca,y_test_pca), lasso3.score(X_train_pca,y_train_pca))"
      ]
    },
    {
      "cell_type": "markdown",
      "metadata": {
        "id": "vdIjGn8Xxr8D"
      },
      "source": [
        "## **Model Prediction**\n",
        "### **Feature Selection Based**"
      ]
    },
    {
      "cell_type": "markdown",
      "metadata": {
        "id": "WC42_4aRx5Dk"
      },
      "source": [
        "**Train Data**"
      ]
    },
    {
      "cell_type": "code",
      "execution_count": null,
      "metadata": {
        "id": "-6irdybNxh4a"
      },
      "outputs": [],
      "source": [
        "#get the X_train and X-test value for Feature Selection\n",
        "y_pred_train_lasso_fs=lasso2.predict(X_train_fs)\n",
        "y_pred_test_lasso_fs=lasso2.predict(X_test_fs)"
      ]
    },
    {
      "cell_type": "code",
      "execution_count": null,
      "metadata": {
        "colab": {
          "base_uri": "https://localhost:8080/"
        },
        "id": "gfto3BgKyCRl",
        "outputId": "3893ecaa-b14f-419f-f75b-f1ec25b3ef72"
      },
      "outputs": [
        {
          "name": "stdout",
          "output_type": "stream",
          "text": [
            "MSE : 24916356.007565424\n",
            "RMSE : 4991.628592710542\n",
            "MAE : 364.56058751162817\n",
            "R2 : 0.019128466514946485\n",
            "Adjusted R2 : 0.01891326872348409\n"
          ]
        }
      ],
      "source": [
        "from sklearn.metrics import mean_squared_error\n",
        "#calculate MSE\n",
        "MSE_l= mean_squared_error((y_train), (y_pred_train_lasso_fs))\n",
        "print(\"MSE :\",MSE_l)\n",
        "\n",
        "#calculate RMSE\n",
        "RMSE_l=np.sqrt(MSE_l)\n",
        "print(\"RMSE :\",RMSE_l)\n",
        "\n",
        "#calculate MAE\n",
        "MAE_l= mean_absolute_error(y_train, y_pred_train_lasso_fs)\n",
        "print(\"MAE :\",MAE_l)\n",
        "\n",
        "from sklearn.metrics import r2_score\n",
        "#calculate r2 and adjusted r2\n",
        "r2_l= r2_score(y_train, y_pred_train_lasso_fs)\n",
        "print(\"R2 :\",r2_l)\n",
        "Adjusted_R2_l = (1-(1-r2_score(y_train, y_pred_train_lasso_fs))*((X_test.shape[0]-1)/(X_test.shape[0]-X_test.shape[1]-1)) )\n",
        "print(\"Adjusted R2 :\",1-(1-r2_score(y_train, y_pred_train_lasso_fs))*((X_test.shape[0]-1)/(X_test.shape[0]-X_test.shape[1]-1)) )"
      ]
    },
    {
      "cell_type": "markdown",
      "metadata": {
        "id": "zM6NNG-GyG92"
      },
      "source": [
        "**Test Data**"
      ]
    },
    {
      "cell_type": "code",
      "execution_count": null,
      "metadata": {
        "colab": {
          "base_uri": "https://localhost:8080/"
        },
        "id": "YQOZCAcqyKJh",
        "outputId": "ecbecc47-ecd2-4bfa-cd1a-3b2b780569a2"
      },
      "outputs": [
        {
          "name": "stdout",
          "output_type": "stream",
          "text": [
            "MSE : 69247125.72219084\n",
            "RMSE : 8321.485788138489\n",
            "MAE : 378.18086641395155\n",
            "R2 : 0.019128466514946485\n",
            "Adjusted R2 : 0.0059775988651147305\n"
          ]
        }
      ],
      "source": [
        "#calculate MSE\n",
        "MSE_l= mean_squared_error((y_test), (y_pred_test_lasso_fs))\n",
        "print(\"MSE :\",MSE_l)\n",
        "\n",
        "#calculate RMSE\n",
        "RMSE_l=np.sqrt(MSE_l)\n",
        "print(\"RMSE :\",RMSE_l)\n",
        "\n",
        "#calculate MAE\n",
        "MAE_l= mean_absolute_error(y_test, y_pred_test_lasso_fs)\n",
        "print(\"MAE :\",MAE_l)\n",
        "\n",
        "from sklearn.metrics import r2_score\n",
        "#calculate r2 and adjusted r2\n",
        "r2_l= r2_score(y_train, y_pred_train_lasso_fs)\n",
        "print(\"R2 :\",r2_l)\n",
        "Adjusted_R2_l = (1-(1-r2_score(y_test, y_pred_test_lasso_fs))*((X_test.shape[0]-1)/(X_test.shape[0]-X_test.shape[1]-1)) )\n",
        "print(\"Adjusted R2 :\",1-(1-r2_score(y_test, y_pred_test_lasso_fs))*((X_test.shape[0]-1)/(X_test.shape[0]-X_test.shape[1]-1)) )"
      ]
    },
    {
      "cell_type": "markdown",
      "metadata": {
        "id": "B4npomumyWVG"
      },
      "source": [
        "### **Feature Extraction Based**"
      ]
    },
    {
      "cell_type": "markdown",
      "metadata": {
        "id": "zH5OTIayyb3s"
      },
      "source": [
        "**Train Data**"
      ]
    },
    {
      "cell_type": "code",
      "execution_count": null,
      "metadata": {
        "id": "sSQ_EnEtyNxk"
      },
      "outputs": [],
      "source": [
        "#get the X_train and X-test value for Feature Selection\n",
        "y_pred_train_lasso_pca=lasso3.predict(X_train_pca)\n",
        "y_pred_test_lasso_pca=lasso3.predict(X_test_pca)"
      ]
    },
    {
      "cell_type": "code",
      "execution_count": null,
      "metadata": {
        "colab": {
          "base_uri": "https://localhost:8080/"
        },
        "id": "lSzQ8VS8yh9e",
        "outputId": "6e0a2bb0-fd16-4869-f1e9-c13eb0f976e4"
      },
      "outputs": [
        {
          "name": "stdout",
          "output_type": "stream",
          "text": [
            "MSE : 25318917.498551015\n",
            "RMSE : 5031.790685089257\n",
            "MAE : 562.8003408381326\n",
            "R2 : 0.003281000422185043\n",
            "Adjusted R2 : 0.0030623257842784524\n"
          ]
        }
      ],
      "source": [
        "from sklearn.metrics import mean_squared_error\n",
        "#calculate MSE\n",
        "MSE_l= mean_squared_error((y_train), (y_pred_train_lasso_pca))\n",
        "print(\"MSE :\",MSE_l)\n",
        "\n",
        "#calculate RMSE\n",
        "RMSE_l=np.sqrt(MSE_l)\n",
        "print(\"RMSE :\",RMSE_l)\n",
        "\n",
        "#calculate MAE\n",
        "MAE_l= mean_absolute_error(y_train, y_pred_train_lasso_pca)\n",
        "print(\"MAE :\",MAE_l)\n",
        "\n",
        "from sklearn.metrics import r2_score\n",
        "#calculate r2 and adjusted r2\n",
        "r2_l= r2_score(y_train, y_pred_train_lasso_pca)\n",
        "print(\"R2 :\",r2_l)\n",
        "Adjusted_R2_l = (1-(1-r2_score(y_train, y_pred_train_lasso_pca))*((X_test.shape[0]-1)/(X_test.shape[0]-X_test.shape[1]-1)) )\n",
        "print(\"Adjusted R2 :\",1-(1-r2_score(y_train, y_pred_train_lasso_pca))*((X_test.shape[0]-1)/(X_test.shape[0]-X_test.shape[1]-1)) )"
      ]
    },
    {
      "cell_type": "markdown",
      "metadata": {
        "id": "ZAKF4VL8znbB"
      },
      "source": [
        "**Test Data**"
      ]
    },
    {
      "cell_type": "code",
      "execution_count": null,
      "metadata": {
        "colab": {
          "base_uri": "https://localhost:8080/"
        },
        "id": "jO2DE_bOzqMV",
        "outputId": "8fb43bc7-a6f7-4ea9-c5b9-bc62114860c9"
      },
      "outputs": [
        {
          "name": "stdout",
          "output_type": "stream",
          "text": [
            "MSE : 69604532.89733748\n",
            "RMSE : 8342.933111162853\n",
            "MAE : 577.3979610797758\n",
            "R2 : 0.003281000422185043\n",
            "Adjusted R2 : 0.0008471225497888035\n"
          ]
        }
      ],
      "source": [
        "#calculate MSE\n",
        "MSE_l= mean_squared_error((y_test), (y_pred_test_lasso_pca))\n",
        "print(\"MSE :\",MSE_l)\n",
        "\n",
        "#calculate RMSE\n",
        "RMSE_l=np.sqrt(MSE_l)\n",
        "print(\"RMSE :\",RMSE_l)\n",
        "\n",
        "#calculate MAE\n",
        "MAE_l= mean_absolute_error(y_test, y_pred_test_lasso_pca)\n",
        "print(\"MAE :\",MAE_l)\n",
        "\n",
        "from sklearn.metrics import r2_score\n",
        "#calculate r2 and adjusted r2\n",
        "r2_l= r2_score(y_train, y_pred_train_lasso_pca)\n",
        "print(\"R2 :\",r2_l)\n",
        "Adjusted_R2_l = (1-(1-r2_score(y_test, y_pred_test_lasso_pca))*((X_test.shape[0]-1)/(X_test.shape[0]-X_test.shape[1]-1)) )\n",
        "print(\"Adjusted R2 :\",1-(1-r2_score(y_test, y_pred_test_lasso_pca))*((X_test.shape[0]-1)/(X_test.shape[0]-X_test.shape[1]-1)) )"
      ]
    },
    {
      "cell_type": "markdown",
      "metadata": {
        "id": "enyh5uYZo7al"
      },
      "source": [
        "Here the analysis is same as RIDGE Regressor"
      ]
    },
    {
      "cell_type": "markdown",
      "metadata": {
        "id": "2b6ZC_GYqqnJ"
      },
      "source": [
        "For Linear, Lasso, and Ridge regressor the model does not works fine. \n",
        "\n",
        "\n",
        "1.   As correlation is a linear model, thus we have shown that the all the other featues (in Linear regression) have a very poor correlation with feature no 46. Here we are using correlation, as because it cathches the linear dependency\n",
        "2.   For the other two regression, we have to catch the non-linear dependency among features. As Mutual Information is an excellent tool to explore non linear dependcy, thus someone can look forward to implement it in order to explore the poor result.\n",
        "\n"
      ]
    },
    {
      "cell_type": "markdown",
      "metadata": {
        "id": "tlCIVSRywYkL"
      },
      "source": [
        "# **CONCLUSION**"
      ]
    },
    {
      "cell_type": "markdown",
      "metadata": {
        "id": "FZa-POLdwdtF"
      },
      "source": [
        "During the time of our analysis, we did EDA on all the features of our datset. We first did a bit of data inspection, followed by various Univariate and Multivariate analysis. Those analysis have unveiled some interesting insight about the data, which we have listed in the corresponding places.\n",
        "\n",
        "Next we have extracted some important featues from the raw dataset. The idea is to check the redundant featues and get rid of it (if required).\n",
        "\n",
        "Finally we implemented 5 machine learning algorithms: Linear Regression,Lasso, Rdge, Random Forest and XGBoost. We did hyperparameter tuning to improve our model performance. Now in order to avoid unnecesssary time complexity we have considered Feature Seleceted dataset for Random Forest, and XGBoost. \n",
        "\n",
        "While compairing the results we have found that for XGBoost the results are very well, followed by Random Forest. However for the remianing three ML algorithms the results are very poor. The possible reason behind this is also partially explored by menas of correlation. In future one can elaborate the non linear dependency result using Mutual Information or by any other tool."
      ]
    }
  ],
  "metadata": {
    "colab": {
      "collapsed_sections": [],
      "name": "NYC Taxi trip time Prediction_Data Science Hustlers .ipynb",
      "provenance": []
    },
    "kernelspec": {
      "display_name": "Python 3",
      "name": "python3"
    },
    "language_info": {
      "name": "python"
    }
  },
  "nbformat": 4,
  "nbformat_minor": 0
}